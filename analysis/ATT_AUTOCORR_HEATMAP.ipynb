{
 "cells": [
  {
   "cell_type": "markdown",
   "metadata": {},
   "source": [
    "# Regionalização de Bacias usando Redes Neurais"
   ]
  },
  {
   "cell_type": "markdown",
   "metadata": {},
   "source": [
    "## Importing Packages"
   ]
  },
  {
   "cell_type": "code",
   "execution_count": 1,
   "metadata": {},
   "outputs": [],
   "source": [
    "import sys\n",
    "sys.path.append(\"..\")\n",
    "sys.path.append(\"../src\")\n",
    "sys.path.append(\"../database\")\n",
    "sys.path.append(\"../scripts\")"
   ]
  },
  {
   "cell_type": "code",
   "execution_count": 2,
   "metadata": {},
   "outputs": [],
   "source": [
    "import pandas as pd\n",
    "import numpy as np\n",
    "from funcoes_auxiliares import *\n",
    "import os\n",
    "import seaborn as sns\n",
    "import matplotlib.pyplot as plt"
   ]
  },
  {
   "cell_type": "code",
   "execution_count": 3,
   "metadata": {},
   "outputs": [],
   "source": [
    "pd.options.display.max_columns = 999\n",
    "\n",
    "import warnings\n",
    "\n",
    "warnings.filterwarnings('ignore')\n",
    "#from funcoes_auxiliares import *\n",
    "# # Plotting\n",
    "# import plotly\n",
    "# import plotly.graph_objs as go\n",
    "# # import plotly.io as pio\n",
    "# #import cufflinks as cf\n",
    "# plotly.offline.init_notebook_mode(connected=True)\n"
   ]
  },
  {
   "cell_type": "markdown",
   "metadata": {},
   "source": [
    "## Importing Data"
   ]
  },
  {
   "cell_type": "code",
   "execution_count": 4,
   "metadata": {},
   "outputs": [],
   "source": [
    "dados = pd.read_csv(\"../database/Formated inputs/DadosFFN1.csv\")\n"
   ]
  },
  {
   "cell_type": "code",
   "execution_count": 5,
   "metadata": {},
   "outputs": [],
   "source": [
    "areas_corretas = {\n",
    "    34730000: 1030,\n",
    "    34740000: 528,\n",
    "    36220000: 1570\n",
    "}"
   ]
  },
  {
   "cell_type": "code",
   "execution_count": 6,
   "metadata": {},
   "outputs": [
    {
     "name": "stdout",
     "output_type": "stream",
     "text": [
      "38\n"
     ]
    },
    {
     "data": {
      "text/html": [
       "<div>\n",
       "<style scoped>\n",
       "    .dataframe tbody tr th:only-of-type {\n",
       "        vertical-align: middle;\n",
       "    }\n",
       "\n",
       "    .dataframe tbody tr th {\n",
       "        vertical-align: top;\n",
       "    }\n",
       "\n",
       "    .dataframe thead th {\n",
       "        text-align: right;\n",
       "    }\n",
       "</style>\n",
       "<table border=\"1\" class=\"dataframe\">\n",
       "  <thead>\n",
       "    <tr style=\"text-align: right;\">\n",
       "      <th></th>\n",
       "      <th>EstANA</th>\n",
       "      <th>Area_km2</th>\n",
       "      <th>Perimetro_km</th>\n",
       "      <th>CTD_km</th>\n",
       "      <th>Cristalino</th>\n",
       "      <th>Kc</th>\n",
       "      <th>DD_km_km2</th>\n",
       "      <th>CAD_mm</th>\n",
       "      <th>Declividade_%</th>\n",
       "      <th>CN_mm</th>\n",
       "      <th>Altitude_m</th>\n",
       "      <th>Prec_med_mm_ano</th>\n",
       "      <th>Lam_Esc_mm_ano</th>\n",
       "    </tr>\n",
       "  </thead>\n",
       "  <tbody>\n",
       "    <tr>\n",
       "      <th>0</th>\n",
       "      <td>34730000</td>\n",
       "      <td>1069.562746</td>\n",
       "      <td>214.359244</td>\n",
       "      <td>626.923006</td>\n",
       "      <td>0.000000</td>\n",
       "      <td>1.848988</td>\n",
       "      <td>0.586149</td>\n",
       "      <td>59.476830</td>\n",
       "      <td>6.896018</td>\n",
       "      <td>76.792088</td>\n",
       "      <td>776.995550</td>\n",
       "      <td>857.054426</td>\n",
       "      <td>113.396630</td>\n",
       "    </tr>\n",
       "    <tr>\n",
       "      <th>1</th>\n",
       "      <td>34740000</td>\n",
       "      <td>2232.245764</td>\n",
       "      <td>363.582720</td>\n",
       "      <td>1373.708526</td>\n",
       "      <td>0.000003</td>\n",
       "      <td>2.170837</td>\n",
       "      <td>0.615393</td>\n",
       "      <td>55.469277</td>\n",
       "      <td>7.185813</td>\n",
       "      <td>76.860650</td>\n",
       "      <td>678.874399</td>\n",
       "      <td>714.306628</td>\n",
       "      <td>40.901406</td>\n",
       "    </tr>\n",
       "    <tr>\n",
       "      <th>2</th>\n",
       "      <td>35050000</td>\n",
       "      <td>1000.581633</td>\n",
       "      <td>225.583204</td>\n",
       "      <td>606.660753</td>\n",
       "      <td>0.435011</td>\n",
       "      <td>2.011757</td>\n",
       "      <td>0.606308</td>\n",
       "      <td>56.550239</td>\n",
       "      <td>9.201161</td>\n",
       "      <td>75.298776</td>\n",
       "      <td>169.104581</td>\n",
       "      <td>950.665979</td>\n",
       "      <td>100.021947</td>\n",
       "    </tr>\n",
       "    <tr>\n",
       "      <th>3</th>\n",
       "      <td>35125000</td>\n",
       "      <td>1583.019223</td>\n",
       "      <td>255.943097</td>\n",
       "      <td>1581.875993</td>\n",
       "      <td>0.925371</td>\n",
       "      <td>1.814661</td>\n",
       "      <td>0.999278</td>\n",
       "      <td>66.041300</td>\n",
       "      <td>7.983769</td>\n",
       "      <td>76.749403</td>\n",
       "      <td>191.982786</td>\n",
       "      <td>943.062311</td>\n",
       "      <td>138.607145</td>\n",
       "    </tr>\n",
       "    <tr>\n",
       "      <th>4</th>\n",
       "      <td>35170000</td>\n",
       "      <td>3961.056360</td>\n",
       "      <td>486.862283</td>\n",
       "      <td>3515.813294</td>\n",
       "      <td>0.771448</td>\n",
       "      <td>2.182206</td>\n",
       "      <td>0.887595</td>\n",
       "      <td>68.920900</td>\n",
       "      <td>8.160028</td>\n",
       "      <td>76.569628</td>\n",
       "      <td>238.610536</td>\n",
       "      <td>1089.931237</td>\n",
       "      <td>221.327359</td>\n",
       "    </tr>\n",
       "  </tbody>\n",
       "</table>\n",
       "</div>"
      ],
      "text/plain": [
       "     EstANA     Area_km2  Perimetro_km       CTD_km  Cristalino        Kc  \\\n",
       "0  34730000  1069.562746    214.359244   626.923006    0.000000  1.848988   \n",
       "1  34740000  2232.245764    363.582720  1373.708526    0.000003  2.170837   \n",
       "2  35050000  1000.581633    225.583204   606.660753    0.435011  2.011757   \n",
       "3  35125000  1583.019223    255.943097  1581.875993    0.925371  1.814661   \n",
       "4  35170000  3961.056360    486.862283  3515.813294    0.771448  2.182206   \n",
       "\n",
       "   DD_km_km2     CAD_mm  Declividade_%      CN_mm  Altitude_m  \\\n",
       "0   0.586149  59.476830       6.896018  76.792088  776.995550   \n",
       "1   0.615393  55.469277       7.185813  76.860650  678.874399   \n",
       "2   0.606308  56.550239       9.201161  75.298776  169.104581   \n",
       "3   0.999278  66.041300       7.983769  76.749403  191.982786   \n",
       "4   0.887595  68.920900       8.160028  76.569628  238.610536   \n",
       "\n",
       "   Prec_med_mm_ano  Lam_Esc_mm_ano  \n",
       "0       857.054426      113.396630  \n",
       "1       714.306628       40.901406  \n",
       "2       950.665979      100.021947  \n",
       "3       943.062311      138.607145  \n",
       "4      1089.931237      221.327359  "
      ]
     },
     "execution_count": 6,
     "metadata": {},
     "output_type": "execute_result"
    }
   ],
   "source": [
    "MatrizCarac_EstFlu = pd.read_csv(\"../database/input/MatrizCarac_EstFlu.csv\")\n",
    "MatrizCarac_EstFlu= MatrizCarac_EstFlu.rename(columns={\n",
    "    \"Unnamed: 0\":\"EstANA\"\n",
    "})\n",
    "print(len(MatrizCarac_EstFlu))\n",
    "MatrizCarac_EstFlu.head()"
   ]
  },
  {
   "cell_type": "code",
   "execution_count": 7,
   "metadata": {},
   "outputs": [],
   "source": [
    "caracFisicas = pd.read_excel(\"../database/input/dados.xls\",sheet_name=\"Resultados\")\\\n",
    "                            .drop([\"SAT\",\"PES\",\"Nash\",\"Nash Ver\"],axis=1)\n",
    "\n",
    "metadados_ANA = pd.read_excel(\"../database/input/metadados_ANA_EstFlu_CE_CPRM2020.xlsx\")\n",
    "\n",
    "db = pd.ExcelFile(\"../database/input/dados.xls\")\n",
    "basins = db.sheet_names[6:]"
   ]
  },
  {
   "cell_type": "code",
   "execution_count": 8,
   "metadata": {},
   "outputs": [
    {
     "data": {
      "text/plain": [
       "Index(['EstANA', 'Area_km2', 'Perimetro_km', 'CTD_km', 'Cristalino', 'Kc',\n",
       "       'DD_km_km2', 'CAD_mm', 'Declividade_%', 'CN_mm', 'Altitude_m',\n",
       "       'Prec_med_mm_ano', 'Lam_Esc_mm_ano'],\n",
       "      dtype='object')"
      ]
     },
     "execution_count": 8,
     "metadata": {},
     "output_type": "execute_result"
    }
   ],
   "source": [
    "MatrizCarac_EstFlu.columns"
   ]
  },
  {
   "cell_type": "code",
   "execution_count": 9,
   "metadata": {},
   "outputs": [],
   "source": [
    "new_names = {'Estações ANA': 'Estações ANA',\n",
    " 'Declividade - D (%)': 'Declividade_%',\n",
    " 'Precipitação média - P (mm)': 'Prec_med_mm_ano',\n",
    " 'Comprimento do rio principal - CT (km)': 'CT_km',\n",
    " 'Área de contribuição da estação fluviométrica - A (km2)': 'Area_km2',\n",
    " 'Perímetro da área de contribuição da estação fluviométrica - P (km)': 'Perimetro_km',\n",
    " 'Comprimento total de drenagem - CTD (km)': 'CTD_km',\n",
    " 'Densidade de drenagem - DD (km-1)': 'DD_km_km2',\n",
    " 'Capacidade de armazenamento do solo CAD (mm)': 'CAD_mm',\n",
    " 'Curve number médio – CN (mm)': 'CN_mm',\n",
    " 'Índice de compacidade da bacia - Kc': 'Kc',\n",
    " 'Parcela da bacia no cristalino - Cr': 'Cristalino'}"
   ]
  },
  {
   "cell_type": "code",
   "execution_count": 10,
   "metadata": {},
   "outputs": [],
   "source": [
    "new_names = {'Estações ANA': 'Estações ANA',\n",
    " 'Declividade - D (%)': 'D',\n",
    " 'Precipitação média - P (mm)': 'P_avg',\n",
    " 'Comprimento do rio principal - CT (km)': 'CT',\n",
    " 'Área de contribuição da estação fluviométrica - A (km2)': 'A',\n",
    " 'Perímetro da área de contribuição da estação fluviométrica - P (km)': 'P',\n",
    " 'Comprimento total de drenagem - CTD (km)': 'CTD',\n",
    " 'Densidade de drenagem - DD (km-1)': 'DD',\n",
    " 'Capacidade de armazenamento do solo CAD (mm)': 'CAD',\n",
    " 'Curve number médio – CN (mm)': 'CN',\n",
    " 'Índice de compacidade da bacia - Kc': 'Kc',\n",
    " 'Parcela da bacia no cristalino - Cr': 'Cr'\n",
    "}"
   ]
  },
  {
   "cell_type": "code",
   "execution_count": 11,
   "metadata": {},
   "outputs": [
    {
     "data": {
      "text/plain": [
       "{'Estações ANA': 'Estações ANA',\n",
       " 'D': 'Declividade - D (%)',\n",
       " 'P_avg': 'Precipitação média - P (mm)',\n",
       " 'CT': 'Comprimento do rio principal - CT (km)',\n",
       " 'A': 'Área de contribuição da estação fluviométrica - A (km2)',\n",
       " 'P': 'Perímetro da área de contribuição da estação fluviométrica - P (km)',\n",
       " 'CTD': 'Comprimento total de drenagem - CTD (km)',\n",
       " 'DD': 'Densidade de drenagem - DD (km-1)',\n",
       " 'CAD': 'Capacidade de armazenamento do solo CAD (mm)',\n",
       " 'CN': 'Curve number médio – CN (mm)',\n",
       " 'Kc': 'Índice de compacidade da bacia - Kc',\n",
       " 'Cr': 'Parcela da bacia no cristalino - Cr'}"
      ]
     },
     "execution_count": 11,
     "metadata": {},
     "output_type": "execute_result"
    }
   ],
   "source": [
    "{v:k for (k,v) in new_names.items()}\n",
    "# list(new_names.items())[4]"
   ]
  },
  {
   "cell_type": "code",
   "execution_count": 12,
   "metadata": {
    "scrolled": false
   },
   "outputs": [],
   "source": [
    "caracFisicas = caracFisicas.rename(columns=new_names)#.apply(lambda x:)\n"
   ]
  },
  {
   "cell_type": "code",
   "execution_count": 13,
   "metadata": {},
   "outputs": [],
   "source": [
    "bacias = list(set(dados['Estações ANA']))\n",
    "bacias.sort()\n"
   ]
  },
  {
   "cell_type": "code",
   "execution_count": 14,
   "metadata": {},
   "outputs": [
    {
     "data": {
      "text/plain": [
       "0     True\n",
       "1     True\n",
       "2     True\n",
       "3     True\n",
       "4     True\n",
       "5     True\n",
       "6     True\n",
       "7     True\n",
       "8     True\n",
       "9     True\n",
       "10    True\n",
       "11    True\n",
       "12    True\n",
       "13    True\n",
       "14    True\n",
       "15    True\n",
       "16    True\n",
       "17    True\n",
       "18    True\n",
       "19    True\n",
       "20    True\n",
       "21    True\n",
       "22    True\n",
       "23    True\n",
       "24    True\n",
       "Name: Estações ANA, dtype: bool"
      ]
     },
     "execution_count": 14,
     "metadata": {},
     "output_type": "execute_result"
    }
   ],
   "source": [
    "caracFisicas[\"Estações ANA\"] == bacias"
   ]
  },
  {
   "cell_type": "code",
   "execution_count": 15,
   "metadata": {},
   "outputs": [],
   "source": [
    "Q_med = []\n",
    "for bacia in bacias:\n",
    "    idx = dados['Estações ANA'] == bacia\n",
    "    Q_med.append(dados[idx].Q_0.mean())\n",
    "\n"
   ]
  },
  {
   "cell_type": "code",
   "execution_count": 16,
   "metadata": {},
   "outputs": [],
   "source": [
    "caracFisicas['Q_avg'] = Q_med\n",
    "bacias_com_problema = [34730000,34740000,36220000]"
   ]
  },
  {
   "cell_type": "code",
   "execution_count": 17,
   "metadata": {},
   "outputs": [
    {
     "data": {
      "image/png": "[encoded data removed]",
      "text/plain": [
       "<Figure size 1224x1080 with 2 Axes>"
      ]
     },
     "metadata": {
      "needs_background": "light"
     },
     "output_type": "display_data"
    }
   ],
   "source": [
    "matriz_correlacao = caracFisicas.query(f\"`Estações ANA` not in {bacias_com_problema}\").drop(columns=[\"Estações ANA\",\"P_avg\"]).corr()\n",
    "\n",
    "plt.figure(figsize=(17,15))\n",
    "sns.heatmap(matriz_correlacao, \n",
    "            annot=True, \n",
    "            fmt=\".2f\",\n",
    "            cmap=\"twilight_shifted\",\n",
    "            vmin=-1, vmax=1\n",
    "           )\n",
    "sns.set(font_scale=1.2)\n",
    "# plt.title(\"Attributes Pearson correlation coefficient heatmap\", fontdict={'fontsize':20})\n",
    "plt.savefig(\"../database/output/Plots/ATT_AUROCORR_HEATMAP.png\", dpi=300)"
   ]
  },
  {
   "cell_type": "markdown",
   "metadata": {},
   "source": [
    "## Select k-best features"
   ]
  },
  {
   "cell_type": "code",
   "execution_count": 18,
   "metadata": {},
   "outputs": [],
   "source": [
    "from sklearn.feature_selection import SelectKBest, f_regression\n",
    "from sklearn.model_selection import train_test_split\n",
    "\n",
    "select_kbest = SelectKBest(f_regression, k = 6)"
   ]
  },
  {
   "cell_type": "code",
   "execution_count": 19,
   "metadata": {
    "id": "rjcZv4kuxXuQ"
   },
   "outputs": [],
   "source": [
    "bacias_com_problema = [36220000]"
   ]
  },
  {
   "cell_type": "code",
   "execution_count": 20,
   "metadata": {
    "colab": {
     "base_uri": "https://localhost:8080/",
     "height": 214
    },
    "id": "rxfZu1tckGu9",
    "outputId": "9b2e29af-39af-4073-b6a4-4afeedecb7a6"
   },
   "outputs": [
    {
     "data": {
      "text/html": [
       "<div>\n",
       "<style scoped>\n",
       "    .dataframe tbody tr th:only-of-type {\n",
       "        vertical-align: middle;\n",
       "    }\n",
       "\n",
       "    .dataframe tbody tr th {\n",
       "        vertical-align: top;\n",
       "    }\n",
       "\n",
       "    .dataframe thead th {\n",
       "        text-align: right;\n",
       "    }\n",
       "</style>\n",
       "<table border=\"1\" class=\"dataframe\">\n",
       "  <thead>\n",
       "    <tr style=\"text-align: right;\">\n",
       "      <th></th>\n",
       "      <th>Estações ANA</th>\n",
       "      <th>Declividade - D (%)</th>\n",
       "      <th>Comprimento do rio principal - CT (km)</th>\n",
       "      <th>Área de contribuição da estação fluviométrica - A (km2)</th>\n",
       "      <th>Perímetro da área de contribuição da estação fluviométrica - P (km)</th>\n",
       "      <th>Comprimento total de drenagem - CTD (km)</th>\n",
       "      <th>Densidade de drenagem - DD (km-1)</th>\n",
       "      <th>Curve number médio – CN (mm)</th>\n",
       "      <th>Parcela da bacia no cristalino - Cr</th>\n",
       "      <th>E_0</th>\n",
       "      <th>P_2</th>\n",
       "      <th>P_1</th>\n",
       "      <th>P_0</th>\n",
       "      <th>Q_2</th>\n",
       "      <th>Q_1</th>\n",
       "      <th>Q_0</th>\n",
       "    </tr>\n",
       "  </thead>\n",
       "  <tbody>\n",
       "    <tr>\n",
       "      <th>0</th>\n",
       "      <td>34730000</td>\n",
       "      <td>0.574329</td>\n",
       "      <td>0.029281</td>\n",
       "      <td>0.019908</td>\n",
       "      <td>0.032449</td>\n",
       "      <td>0.011994</td>\n",
       "      <td>0.365241</td>\n",
       "      <td>0.0</td>\n",
       "      <td>0.0</td>\n",
       "      <td>0.377420</td>\n",
       "      <td>0.333448</td>\n",
       "      <td>0.221624</td>\n",
       "      <td>0.233278</td>\n",
       "      <td>0.006548</td>\n",
       "      <td>0.005097</td>\n",
       "      <td>3.870129</td>\n",
       "    </tr>\n",
       "    <tr>\n",
       "      <th>1</th>\n",
       "      <td>34730000</td>\n",
       "      <td>0.574329</td>\n",
       "      <td>0.029281</td>\n",
       "      <td>0.019908</td>\n",
       "      <td>0.032449</td>\n",
       "      <td>0.011994</td>\n",
       "      <td>0.365241</td>\n",
       "      <td>0.0</td>\n",
       "      <td>0.0</td>\n",
       "      <td>0.432495</td>\n",
       "      <td>0.221624</td>\n",
       "      <td>0.233278</td>\n",
       "      <td>0.020416</td>\n",
       "      <td>0.005097</td>\n",
       "      <td>0.003214</td>\n",
       "      <td>2.136953</td>\n",
       "    </tr>\n",
       "    <tr>\n",
       "      <th>2</th>\n",
       "      <td>34730000</td>\n",
       "      <td>0.574329</td>\n",
       "      <td>0.029281</td>\n",
       "      <td>0.019908</td>\n",
       "      <td>0.032449</td>\n",
       "      <td>0.011994</td>\n",
       "      <td>0.365241</td>\n",
       "      <td>0.0</td>\n",
       "      <td>0.0</td>\n",
       "      <td>0.597038</td>\n",
       "      <td>0.233278</td>\n",
       "      <td>0.020416</td>\n",
       "      <td>0.004953</td>\n",
       "      <td>0.003214</td>\n",
       "      <td>0.001774</td>\n",
       "      <td>1.040503</td>\n",
       "    </tr>\n",
       "    <tr>\n",
       "      <th>3</th>\n",
       "      <td>34730000</td>\n",
       "      <td>0.574329</td>\n",
       "      <td>0.029281</td>\n",
       "      <td>0.019908</td>\n",
       "      <td>0.032449</td>\n",
       "      <td>0.011994</td>\n",
       "      <td>0.365241</td>\n",
       "      <td>0.0</td>\n",
       "      <td>0.0</td>\n",
       "      <td>0.767287</td>\n",
       "      <td>0.020416</td>\n",
       "      <td>0.004953</td>\n",
       "      <td>0.001582</td>\n",
       "      <td>0.001774</td>\n",
       "      <td>0.000864</td>\n",
       "      <td>0.629442</td>\n",
       "    </tr>\n",
       "    <tr>\n",
       "      <th>4</th>\n",
       "      <td>34730000</td>\n",
       "      <td>0.574329</td>\n",
       "      <td>0.029281</td>\n",
       "      <td>0.019908</td>\n",
       "      <td>0.032449</td>\n",
       "      <td>0.011994</td>\n",
       "      <td>0.365241</td>\n",
       "      <td>0.0</td>\n",
       "      <td>0.0</td>\n",
       "      <td>0.863514</td>\n",
       "      <td>0.004953</td>\n",
       "      <td>0.001582</td>\n",
       "      <td>0.003185</td>\n",
       "      <td>0.000864</td>\n",
       "      <td>0.000523</td>\n",
       "      <td>0.388273</td>\n",
       "    </tr>\n",
       "  </tbody>\n",
       "</table>\n",
       "</div>"
      ],
      "text/plain": [
       "   Estações ANA  Declividade - D (%)  Comprimento do rio principal - CT (km)  \\\n",
       "0      34730000             0.574329                                0.029281   \n",
       "1      34730000             0.574329                                0.029281   \n",
       "2      34730000             0.574329                                0.029281   \n",
       "3      34730000             0.574329                                0.029281   \n",
       "4      34730000             0.574329                                0.029281   \n",
       "\n",
       "   Área de contribuição da estação fluviométrica - A (km2)  \\\n",
       "0                                           0.019908         \n",
       "1                                           0.019908         \n",
       "2                                           0.019908         \n",
       "3                                           0.019908         \n",
       "4                                           0.019908         \n",
       "\n",
       "   Perímetro da área de contribuição da estação fluviométrica - P (km)  \\\n",
       "0                                           0.032449                     \n",
       "1                                           0.032449                     \n",
       "2                                           0.032449                     \n",
       "3                                           0.032449                     \n",
       "4                                           0.032449                     \n",
       "\n",
       "   Comprimento total de drenagem - CTD (km)  \\\n",
       "0                                  0.011994   \n",
       "1                                  0.011994   \n",
       "2                                  0.011994   \n",
       "3                                  0.011994   \n",
       "4                                  0.011994   \n",
       "\n",
       "   Densidade de drenagem - DD (km-1)  Curve number médio – CN (mm)  \\\n",
       "0                           0.365241                           0.0   \n",
       "1                           0.365241                           0.0   \n",
       "2                           0.365241                           0.0   \n",
       "3                           0.365241                           0.0   \n",
       "4                           0.365241                           0.0   \n",
       "\n",
       "   Parcela da bacia no cristalino - Cr       E_0       P_2       P_1  \\\n",
       "0                                  0.0  0.377420  0.333448  0.221624   \n",
       "1                                  0.0  0.432495  0.221624  0.233278   \n",
       "2                                  0.0  0.597038  0.233278  0.020416   \n",
       "3                                  0.0  0.767287  0.020416  0.004953   \n",
       "4                                  0.0  0.863514  0.004953  0.001582   \n",
       "\n",
       "        P_0       Q_2       Q_1       Q_0  \n",
       "0  0.233278  0.006548  0.005097  3.870129  \n",
       "1  0.020416  0.005097  0.003214  2.136953  \n",
       "2  0.004953  0.003214  0.001774  1.040503  \n",
       "3  0.001582  0.001774  0.000864  0.629442  \n",
       "4  0.003185  0.000864  0.000523  0.388273  "
      ]
     },
     "execution_count": 20,
     "metadata": {},
     "output_type": "execute_result"
    }
   ],
   "source": [
    "DadosFFN1 = pd.read_csv(\"../database/input/DadosFFN1.csv\").query(f\"`Estações ANA` not in {bacias_com_problema}\")\n",
    "bacias = list(set(DadosFFN1['Estações ANA']))\n",
    "bacias.sort()\n",
    "DadosFFN1.head()"
   ]
  },
  {
   "cell_type": "code",
   "execution_count": 21,
   "metadata": {
    "id": "RxcfY6r6F4hq"
   },
   "outputs": [],
   "source": [
    "drop_columns = ['Estações ANA',\n",
    "#        'Declividade - D (%)',\n",
    "#        'Comprimento do rio principal - CT (km)',\n",
    "#        'Comprimento total de drenagem - CTD (km)',\n",
    "#        'Perímetro da área de contribuição da estação fluviométrica - P (km)',\n",
    "#        'Densidade de drenagem - DD (km-1)',\n",
    "        'Q_2', 'Q_1', 'Q_0']"
   ]
  },
  {
   "cell_type": "code",
   "execution_count": 22,
   "metadata": {
    "id": "hF6S4WsiF5HS"
   },
   "outputs": [],
   "source": [
    "X = DadosFFN1.drop(drop_columns,axis=1)\n",
    "Y = DadosFFN1['Q_0'].values\n"
   ]
  },
  {
   "cell_type": "code",
   "execution_count": 23,
   "metadata": {
    "colab": {
     "base_uri": "https://localhost:8080/",
     "height": 232
    },
    "id": "bd8AR2cBMo8S",
    "outputId": "9b6316f0-c2d1-41cb-cf0a-379b26bc08c5"
   },
   "outputs": [
    {
     "name": "stdout",
     "output_type": "stream",
     "text": [
      "9164\n"
     ]
    },
    {
     "data": {
      "text/html": [
       "<div>\n",
       "<style scoped>\n",
       "    .dataframe tbody tr th:only-of-type {\n",
       "        vertical-align: middle;\n",
       "    }\n",
       "\n",
       "    .dataframe tbody tr th {\n",
       "        vertical-align: top;\n",
       "    }\n",
       "\n",
       "    .dataframe thead th {\n",
       "        text-align: right;\n",
       "    }\n",
       "</style>\n",
       "<table border=\"1\" class=\"dataframe\">\n",
       "  <thead>\n",
       "    <tr style=\"text-align: right;\">\n",
       "      <th></th>\n",
       "      <th>Declividade - D (%)</th>\n",
       "      <th>Comprimento do rio principal - CT (km)</th>\n",
       "      <th>Área de contribuição da estação fluviométrica - A (km2)</th>\n",
       "      <th>Perímetro da área de contribuição da estação fluviométrica - P (km)</th>\n",
       "      <th>Comprimento total de drenagem - CTD (km)</th>\n",
       "      <th>Densidade de drenagem - DD (km-1)</th>\n",
       "      <th>Curve number médio – CN (mm)</th>\n",
       "      <th>Parcela da bacia no cristalino - Cr</th>\n",
       "      <th>E_0</th>\n",
       "      <th>P_2</th>\n",
       "      <th>P_1</th>\n",
       "      <th>P_0</th>\n",
       "    </tr>\n",
       "  </thead>\n",
       "  <tbody>\n",
       "    <tr>\n",
       "      <th>0</th>\n",
       "      <td>0.574329</td>\n",
       "      <td>0.029281</td>\n",
       "      <td>0.019908</td>\n",
       "      <td>0.032449</td>\n",
       "      <td>0.011994</td>\n",
       "      <td>0.365241</td>\n",
       "      <td>0.0</td>\n",
       "      <td>0.0</td>\n",
       "      <td>0.377420</td>\n",
       "      <td>0.333448</td>\n",
       "      <td>0.221624</td>\n",
       "      <td>0.233278</td>\n",
       "    </tr>\n",
       "    <tr>\n",
       "      <th>1</th>\n",
       "      <td>0.574329</td>\n",
       "      <td>0.029281</td>\n",
       "      <td>0.019908</td>\n",
       "      <td>0.032449</td>\n",
       "      <td>0.011994</td>\n",
       "      <td>0.365241</td>\n",
       "      <td>0.0</td>\n",
       "      <td>0.0</td>\n",
       "      <td>0.432495</td>\n",
       "      <td>0.221624</td>\n",
       "      <td>0.233278</td>\n",
       "      <td>0.020416</td>\n",
       "    </tr>\n",
       "    <tr>\n",
       "      <th>2</th>\n",
       "      <td>0.574329</td>\n",
       "      <td>0.029281</td>\n",
       "      <td>0.019908</td>\n",
       "      <td>0.032449</td>\n",
       "      <td>0.011994</td>\n",
       "      <td>0.365241</td>\n",
       "      <td>0.0</td>\n",
       "      <td>0.0</td>\n",
       "      <td>0.597038</td>\n",
       "      <td>0.233278</td>\n",
       "      <td>0.020416</td>\n",
       "      <td>0.004953</td>\n",
       "    </tr>\n",
       "    <tr>\n",
       "      <th>3</th>\n",
       "      <td>0.574329</td>\n",
       "      <td>0.029281</td>\n",
       "      <td>0.019908</td>\n",
       "      <td>0.032449</td>\n",
       "      <td>0.011994</td>\n",
       "      <td>0.365241</td>\n",
       "      <td>0.0</td>\n",
       "      <td>0.0</td>\n",
       "      <td>0.767287</td>\n",
       "      <td>0.020416</td>\n",
       "      <td>0.004953</td>\n",
       "      <td>0.001582</td>\n",
       "    </tr>\n",
       "    <tr>\n",
       "      <th>4</th>\n",
       "      <td>0.574329</td>\n",
       "      <td>0.029281</td>\n",
       "      <td>0.019908</td>\n",
       "      <td>0.032449</td>\n",
       "      <td>0.011994</td>\n",
       "      <td>0.365241</td>\n",
       "      <td>0.0</td>\n",
       "      <td>0.0</td>\n",
       "      <td>0.863514</td>\n",
       "      <td>0.004953</td>\n",
       "      <td>0.001582</td>\n",
       "      <td>0.003185</td>\n",
       "    </tr>\n",
       "  </tbody>\n",
       "</table>\n",
       "</div>"
      ],
      "text/plain": [
       "   Declividade - D (%)  Comprimento do rio principal - CT (km)  \\\n",
       "0             0.574329                                0.029281   \n",
       "1             0.574329                                0.029281   \n",
       "2             0.574329                                0.029281   \n",
       "3             0.574329                                0.029281   \n",
       "4             0.574329                                0.029281   \n",
       "\n",
       "   Área de contribuição da estação fluviométrica - A (km2)  \\\n",
       "0                                           0.019908         \n",
       "1                                           0.019908         \n",
       "2                                           0.019908         \n",
       "3                                           0.019908         \n",
       "4                                           0.019908         \n",
       "\n",
       "   Perímetro da área de contribuição da estação fluviométrica - P (km)  \\\n",
       "0                                           0.032449                     \n",
       "1                                           0.032449                     \n",
       "2                                           0.032449                     \n",
       "3                                           0.032449                     \n",
       "4                                           0.032449                     \n",
       "\n",
       "   Comprimento total de drenagem - CTD (km)  \\\n",
       "0                                  0.011994   \n",
       "1                                  0.011994   \n",
       "2                                  0.011994   \n",
       "3                                  0.011994   \n",
       "4                                  0.011994   \n",
       "\n",
       "   Densidade de drenagem - DD (km-1)  Curve number médio – CN (mm)  \\\n",
       "0                           0.365241                           0.0   \n",
       "1                           0.365241                           0.0   \n",
       "2                           0.365241                           0.0   \n",
       "3                           0.365241                           0.0   \n",
       "4                           0.365241                           0.0   \n",
       "\n",
       "   Parcela da bacia no cristalino - Cr       E_0       P_2       P_1       P_0  \n",
       "0                                  0.0  0.377420  0.333448  0.221624  0.233278  \n",
       "1                                  0.0  0.432495  0.221624  0.233278  0.020416  \n",
       "2                                  0.0  0.597038  0.233278  0.020416  0.004953  \n",
       "3                                  0.0  0.767287  0.020416  0.004953  0.001582  \n",
       "4                                  0.0  0.863514  0.004953  0.001582  0.003185  "
      ]
     },
     "execution_count": 23,
     "metadata": {},
     "output_type": "execute_result"
    }
   ],
   "source": [
    "print(len(X))\n",
    "X.head()"
   ]
  },
  {
   "cell_type": "code",
   "execution_count": 24,
   "metadata": {},
   "outputs": [],
   "source": [
    "X_train, X_test, y_train, y_test = train_test_split(\n",
    "     X, Y, test_size=0.33, random_state=42)"
   ]
  },
  {
   "cell_type": "code",
   "execution_count": 25,
   "metadata": {},
   "outputs": [],
   "source": [
    "select_kbest.fit(X_train,y_train)\n",
    "X_train_kbest = select_kbest.transform(X_train)\n",
    "X_test_kbest = select_kbest.transform(X_test)"
   ]
  },
  {
   "cell_type": "code",
   "execution_count": 26,
   "metadata": {},
   "outputs": [
    {
     "data": {
      "text/plain": [
       "Index(['Comprimento do rio principal - CT (km)',\n",
       "       'Área de contribuição da estação fluviométrica - A (km2)', 'E_0', 'P_2',\n",
       "       'P_1', 'P_0'],\n",
       "      dtype='object')"
      ]
     },
     "execution_count": 26,
     "metadata": {},
     "output_type": "execute_result"
    }
   ],
   "source": [
    "cols = select_kbest.get_support(indices=True)\n",
    "X.columns[cols]\n"
   ]
  },
  {
   "cell_type": "markdown",
   "metadata": {},
   "source": [
    "## RFE"
   ]
  },
  {
   "cell_type": "code",
   "execution_count": 27,
   "metadata": {},
   "outputs": [],
   "source": [
    "from sklearn.feature_selection import RFECV, RFE\n",
    "from sklearn.linear_model import SGDRegressor\n",
    "from sklearn.svm import SVR"
   ]
  },
  {
   "cell_type": "code",
   "execution_count": 28,
   "metadata": {},
   "outputs": [],
   "source": [
    "from sklearn.metrics import make_scorer\n",
    "\n",
    "nse = make_scorer(NASH)"
   ]
  },
  {
   "cell_type": "code",
   "execution_count": 29,
   "metadata": {},
   "outputs": [
    {
     "data": {
      "text/plain": [
       "Index(['Comprimento do rio principal - CT (km)',\n",
       "       'Área de contribuição da estação fluviométrica - A (km2)',\n",
       "       'Curve number médio – CN (mm)', 'Parcela da bacia no cristalino - Cr',\n",
       "       'E_0', 'P_2', 'P_1', 'P_0'],\n",
       "      dtype='object')"
      ]
     },
     "execution_count": 29,
     "metadata": {},
     "output_type": "execute_result"
    }
   ],
   "source": [
    "estimator = SGDRegressor(random_state=1, max_iter=500)\n",
    "#estimator = SVR(kernel=\"linear\")\n",
    "selecionador_rfe = RFE(estimator, n_features_to_select = 8, step=1)\n",
    "\n",
    "selecionador_rfe.fit(X_train, y_train)\n",
    "X_train_rfe = selecionador_rfe.transform(X_train)\n",
    "X_test_rfe = selecionador_rfe.transform(X_test)\n",
    "\n",
    "cols = selecionador_rfe.get_support(indices=True)\n",
    "X.columns[cols]\n"
   ]
  },
  {
   "cell_type": "code",
   "execution_count": 30,
   "metadata": {},
   "outputs": [
    {
     "data": {
      "text/plain": [
       "Index(['Comprimento do rio principal - CT (km)',\n",
       "       'Área de contribuição da estação fluviométrica - A (km2)',\n",
       "       'Comprimento total de drenagem - CTD (km)',\n",
       "       'Curve number médio – CN (mm)', 'Parcela da bacia no cristalino - Cr',\n",
       "       'E_0', 'P_2', 'P_1', 'P_0'],\n",
       "      dtype='object')"
      ]
     },
     "execution_count": 30,
     "metadata": {},
     "output_type": "execute_result"
    }
   ],
   "source": [
    "estimator = SGDRegressor(random_state=1, max_iter=500)\n",
    "selecionador_rfe = RFECV(estimator,\n",
    "                         min_features_to_select = 1,\n",
    "#                          scoring = nse,\n",
    "                         step=1)\n",
    "selecionador_rfe.fit(X_train, y_train)\n",
    "X_train_rfe = selecionador_rfe.transform(X_train)\n",
    "X_test_rfe = selecionador_rfe.transform(X_test)\n",
    "\n",
    "cols = selecionador_rfe.get_support(indices=True)\n",
    "X.columns[cols]"
   ]
  },
  {
   "cell_type": "code",
   "execution_count": 31,
   "metadata": {},
   "outputs": [
    {
     "data": {
      "text/plain": [
       "[Text(0.5, 0, 'Number of features selected'),\n",
       " Text(0, 0.5, 'NSE'),\n",
       " Text(0.5, 1.0, 'Recursive feature elimination with cross-validation')]"
      ]
     },
     "execution_count": 31,
     "metadata": {},
     "output_type": "execute_result"
    },
    {
     "data": {
      "image/png": "[encoded data removed]",
      "text/plain": [
       "<Figure size 1224x1080 with 1 Axes>"
      ]
     },
     "metadata": {},
     "output_type": "display_data"
    }
   ],
   "source": [
    "plt.figure(figsize=(17,15))\n",
    "\n",
    "sns.set_color_codes(\"dark\")\n",
    "\n",
    "sns.set_style(\"darkgrid\", \n",
    "#               {\"axes.facecolor\": \".9\"}\n",
    "             )\n",
    "sns.set(font_scale=2)\n",
    "sns.lineplot(x=range(1,\n",
    "               len(selecionador_rfe.grid_scores_) + 1),\n",
    "             y=selecionador_rfe.grid_scores_[:,0],\n",
    "             color='b'\n",
    "            ).set(xlabel='Number of features selected', \n",
    "                  ylabel='NSE', title='Recursive feature elimination with cross-validation')\n",
    "# plt.savefig(\"../database/output/RFE_SGDRegressor.png\", dpi=300)"
   ]
  },
  {
   "cell_type": "code",
   "execution_count": 32,
   "metadata": {
    "scrolled": true
   },
   "outputs": [
    {
     "data": {
      "text/plain": [
       "9"
      ]
     },
     "execution_count": 32,
     "metadata": {},
     "output_type": "execute_result"
    }
   ],
   "source": [
    "# X.shape[1] > \n",
    "len(cols)"
   ]
  },
  {
   "cell_type": "code",
   "execution_count": 33,
   "metadata": {},
   "outputs": [
    {
     "name": "stdout",
     "output_type": "stream",
     "text": [
      "Index(['Comprimento do rio principal - CT (km)',\n",
      "       'Área de contribuição da estação fluviométrica - A (km2)',\n",
      "       'Comprimento total de drenagem - CTD (km)',\n",
      "       'Curve number médio – CN (mm)', 'Parcela da bacia no cristalino - Cr',\n",
      "       'E_0', 'P_2', 'P_1', 'P_0'],\n",
      "      dtype='object')\n"
     ]
    }
   ],
   "source": [
    "print(X.columns[cols])"
   ]
  }
 ],
 "metadata": {
  "kernelspec": {
   "display_name": "Python 3 (ipykernel)",
   "language": "python",
   "name": "python3"
  },
  "language_info": {
   "codemirror_mode": {
    "name": "ipython",
    "version": 3
   },
   "file_extension": ".py",
   "mimetype": "text/x-python",
   "name": "python",
   "nbconvert_exporter": "python",
   "pygments_lexer": "ipython3",
   "version": "3.9.7"
  },
  "varInspector": {
   "cols": {
    "lenName": 16,
    "lenType": 16,
    "lenVar": 40
   },
   "kernels_config": {
    "python": {
     "delete_cmd_postfix": "",
     "delete_cmd_prefix": "del ",
     "library": "var_list.py",
     "varRefreshCmd": "print(var_dic_list())"
    },
    "r": {
     "delete_cmd_postfix": ") ",
     "delete_cmd_prefix": "rm(",
     "library": "var_list.r",
     "varRefreshCmd": "cat(var_dic_list()) "
    }
   },
   "types_to_exclude": [
    "module",
    "function",
    "builtin_function_or_method",
    "instance",
    "_Feature"
   ],
   "window_display": false
  }
 },
 "nbformat": 4,
 "nbformat_minor": 4
}

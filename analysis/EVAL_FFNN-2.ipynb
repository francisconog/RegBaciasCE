{
 "cells": [
  {
   "cell_type": "markdown",
   "id": "4f8f0191",
   "metadata": {
    "id": "jisFLIcjkGun"
   },
   "source": [
    "# Regionalização de Bacias usando Redes Neurais"
   ]
  },
  {
   "cell_type": "code",
   "execution_count": 1,
   "id": "d422b3c4",
   "metadata": {
    "colab": {
     "base_uri": "https://localhost:8080/"
    },
    "id": "tTA-GiOpG6Fg",
    "outputId": "88635362-16a2-4fc5-f234-139b12cddd22"
   },
   "outputs": [],
   "source": [
    "# from google.colab import drive\n",
    "# drive.mount('/content/drive')\n",
    "# %%bash\n",
    "# cp -r /content/drive/\"My Drive\"/DEHA/RegBaciasCE /content\n",
    "# mkdir -p RegBaciasCE/src/models/NewFFNN3/CrossValid\n",
    "# nvidia-smi"
   ]
  },
  {
   "cell_type": "markdown",
   "id": "1a1a513c",
   "metadata": {
    "id": "Ewwti4M7kGu1"
   },
   "source": [
    "## Importing Packages"
   ]
  },
  {
   "cell_type": "code",
   "execution_count": 2,
   "id": "77791511",
   "metadata": {
    "id": "nGV77QPykGu2"
   },
   "outputs": [],
   "source": [
    "import sys\n",
    "sys.path.append(\"..\")\n",
    "sys.path.append(\"../src\")\n",
    "sys.path.append(\"../scripts\")\n",
    "sys.path.append(\"../database\")"
   ]
  },
  {
   "cell_type": "code",
   "execution_count": 3,
   "id": "8380b348",
   "metadata": {
    "id": "YJdiKjkzkGu7"
   },
   "outputs": [],
   "source": [
    "import pandas as pd\n",
    "import numpy as np\n",
    "import tensorflow as tf\n",
    "import os\n",
    "#from sklearn.model_selection import train_test_split\n",
    "from sklearn.preprocessing import StandardScaler, MinMaxScaler\n",
    "from funcoes_auxiliares import *\n",
    "from tqdm import tqdm\n",
    "from IPython.display import clear_output\n",
    "from sklearn.utils import shuffle\n",
    "import time\n",
    "import matplotlib.pyplot as plt\n"
   ]
  },
  {
   "cell_type": "code",
   "execution_count": 4,
   "id": "706d4b3b",
   "metadata": {
    "id": "DDR6XlU6kGu8"
   },
   "outputs": [],
   "source": [
    "from tensorflow.keras.layers import Input, Dense, Dropout\n",
    "from tensorflow.keras.models import Model\n",
    "\n",
    "from tensorflow.keras.optimizers import Adam, Nadam, RMSprop"
   ]
  },
  {
   "cell_type": "code",
   "execution_count": 5,
   "id": "b8d792c0",
   "metadata": {
    "id": "h8yK4NP-kGu8"
   },
   "outputs": [],
   "source": [
    "pd.options.display.max_columns = 999\n",
    "\n",
    "import warnings\n",
    "\n",
    "warnings.filterwarnings('ignore')\n"
   ]
  },
  {
   "cell_type": "code",
   "execution_count": 6,
   "id": "ca2b2fbd",
   "metadata": {
    "id": "rjcZv4kuxXuQ"
   },
   "outputs": [],
   "source": [
    "bacias_com_problema = [36220000]"
   ]
  },
  {
   "cell_type": "code",
   "execution_count": 7,
   "id": "8d2df6e7",
   "metadata": {
    "colab": {
     "base_uri": "https://localhost:8080/",
     "height": 214
    },
    "id": "rxfZu1tckGu9",
    "outputId": "9b2e29af-39af-4073-b6a4-4afeedecb7a6"
   },
   "outputs": [
    {
     "name": "stdout",
     "output_type": "stream",
     "text": [
      "9164\n"
     ]
    },
    {
     "data": {
      "text/html": [
       "<div>\n",
       "<style scoped>\n",
       "    .dataframe tbody tr th:only-of-type {\n",
       "        vertical-align: middle;\n",
       "    }\n",
       "\n",
       "    .dataframe tbody tr th {\n",
       "        vertical-align: top;\n",
       "    }\n",
       "\n",
       "    .dataframe thead th {\n",
       "        text-align: right;\n",
       "    }\n",
       "</style>\n",
       "<table border=\"1\" class=\"dataframe\">\n",
       "  <thead>\n",
       "    <tr style=\"text-align: right;\">\n",
       "      <th></th>\n",
       "      <th>Estações ANA</th>\n",
       "      <th>Declividade - D (%)</th>\n",
       "      <th>Comprimento do rio principal - CT (km)</th>\n",
       "      <th>Área de contribuição da estação fluviométrica - A (km2)</th>\n",
       "      <th>Perímetro da área de contribuição da estação fluviométrica - P (km)</th>\n",
       "      <th>Comprimento total de drenagem - CTD (km)</th>\n",
       "      <th>Densidade de drenagem - DD (km-1)</th>\n",
       "      <th>Curve number médio – CN (mm)</th>\n",
       "      <th>Parcela da bacia no cristalino - Cr</th>\n",
       "      <th>E_0</th>\n",
       "      <th>P_2</th>\n",
       "      <th>P_1</th>\n",
       "      <th>P_0</th>\n",
       "      <th>Q_2</th>\n",
       "      <th>Q_1</th>\n",
       "      <th>Q_0</th>\n",
       "    </tr>\n",
       "  </thead>\n",
       "  <tbody>\n",
       "    <tr>\n",
       "      <th>0</th>\n",
       "      <td>34730000</td>\n",
       "      <td>0.069435</td>\n",
       "      <td>64319.016213</td>\n",
       "      <td>897.371509</td>\n",
       "      <td>211.282396</td>\n",
       "      <td>528.790311</td>\n",
       "      <td>0.589266</td>\n",
       "      <td>56.773914</td>\n",
       "      <td>0.0</td>\n",
       "      <td>121.889904</td>\n",
       "      <td>204.2900</td>\n",
       "      <td>135.78000</td>\n",
       "      <td>142.92000</td>\n",
       "      <td>7.884968</td>\n",
       "      <td>6.138600</td>\n",
       "      <td>3.870129</td>\n",
       "    </tr>\n",
       "    <tr>\n",
       "      <th>1</th>\n",
       "      <td>34730000</td>\n",
       "      <td>0.069435</td>\n",
       "      <td>64319.016213</td>\n",
       "      <td>897.371509</td>\n",
       "      <td>211.282396</td>\n",
       "      <td>528.790311</td>\n",
       "      <td>0.589266</td>\n",
       "      <td>56.773914</td>\n",
       "      <td>0.0</td>\n",
       "      <td>129.330288</td>\n",
       "      <td>135.7800</td>\n",
       "      <td>142.92000</td>\n",
       "      <td>12.50800</td>\n",
       "      <td>6.138600</td>\n",
       "      <td>3.870129</td>\n",
       "      <td>2.136953</td>\n",
       "    </tr>\n",
       "    <tr>\n",
       "      <th>2</th>\n",
       "      <td>34730000</td>\n",
       "      <td>0.069435</td>\n",
       "      <td>64319.016213</td>\n",
       "      <td>897.371509</td>\n",
       "      <td>211.282396</td>\n",
       "      <td>528.790311</td>\n",
       "      <td>0.589266</td>\n",
       "      <td>56.773914</td>\n",
       "      <td>0.0</td>\n",
       "      <td>151.559616</td>\n",
       "      <td>142.9200</td>\n",
       "      <td>12.50800</td>\n",
       "      <td>3.03470</td>\n",
       "      <td>3.870129</td>\n",
       "      <td>2.136953</td>\n",
       "      <td>1.040503</td>\n",
       "    </tr>\n",
       "    <tr>\n",
       "      <th>3</th>\n",
       "      <td>34730000</td>\n",
       "      <td>0.069435</td>\n",
       "      <td>64319.016213</td>\n",
       "      <td>897.371509</td>\n",
       "      <td>211.282396</td>\n",
       "      <td>528.790311</td>\n",
       "      <td>0.589266</td>\n",
       "      <td>56.773914</td>\n",
       "      <td>0.0</td>\n",
       "      <td>174.559616</td>\n",
       "      <td>12.5080</td>\n",
       "      <td>3.03470</td>\n",
       "      <td>0.96898</td>\n",
       "      <td>2.136953</td>\n",
       "      <td>1.040503</td>\n",
       "      <td>0.629442</td>\n",
       "    </tr>\n",
       "    <tr>\n",
       "      <th>4</th>\n",
       "      <td>34730000</td>\n",
       "      <td>0.069435</td>\n",
       "      <td>64319.016213</td>\n",
       "      <td>897.371509</td>\n",
       "      <td>211.282396</td>\n",
       "      <td>528.790311</td>\n",
       "      <td>0.589266</td>\n",
       "      <td>56.773914</td>\n",
       "      <td>0.0</td>\n",
       "      <td>187.559616</td>\n",
       "      <td>3.0347</td>\n",
       "      <td>0.96898</td>\n",
       "      <td>1.95120</td>\n",
       "      <td>1.040503</td>\n",
       "      <td>0.629442</td>\n",
       "      <td>0.388273</td>\n",
       "    </tr>\n",
       "  </tbody>\n",
       "</table>\n",
       "</div>"
      ],
      "text/plain": [
       "   Estações ANA  Declividade - D (%)  Comprimento do rio principal - CT (km)  \\\n",
       "0      34730000             0.069435                            64319.016213   \n",
       "1      34730000             0.069435                            64319.016213   \n",
       "2      34730000             0.069435                            64319.016213   \n",
       "3      34730000             0.069435                            64319.016213   \n",
       "4      34730000             0.069435                            64319.016213   \n",
       "\n",
       "   Área de contribuição da estação fluviométrica - A (km2)  \\\n",
       "0                                         897.371509         \n",
       "1                                         897.371509         \n",
       "2                                         897.371509         \n",
       "3                                         897.371509         \n",
       "4                                         897.371509         \n",
       "\n",
       "   Perímetro da área de contribuição da estação fluviométrica - P (km)  \\\n",
       "0                                         211.282396                     \n",
       "1                                         211.282396                     \n",
       "2                                         211.282396                     \n",
       "3                                         211.282396                     \n",
       "4                                         211.282396                     \n",
       "\n",
       "   Comprimento total de drenagem - CTD (km)  \\\n",
       "0                                528.790311   \n",
       "1                                528.790311   \n",
       "2                                528.790311   \n",
       "3                                528.790311   \n",
       "4                                528.790311   \n",
       "\n",
       "   Densidade de drenagem - DD (km-1)  Curve number médio – CN (mm)  \\\n",
       "0                           0.589266                     56.773914   \n",
       "1                           0.589266                     56.773914   \n",
       "2                           0.589266                     56.773914   \n",
       "3                           0.589266                     56.773914   \n",
       "4                           0.589266                     56.773914   \n",
       "\n",
       "   Parcela da bacia no cristalino - Cr         E_0       P_2        P_1  \\\n",
       "0                                  0.0  121.889904  204.2900  135.78000   \n",
       "1                                  0.0  129.330288  135.7800  142.92000   \n",
       "2                                  0.0  151.559616  142.9200   12.50800   \n",
       "3                                  0.0  174.559616   12.5080    3.03470   \n",
       "4                                  0.0  187.559616    3.0347    0.96898   \n",
       "\n",
       "         P_0       Q_2       Q_1       Q_0  \n",
       "0  142.92000  7.884968  6.138600  3.870129  \n",
       "1   12.50800  6.138600  3.870129  2.136953  \n",
       "2    3.03470  3.870129  2.136953  1.040503  \n",
       "3    0.96898  2.136953  1.040503  0.629442  \n",
       "4    1.95120  1.040503  0.629442  0.388273  "
      ]
     },
     "execution_count": 7,
     "metadata": {},
     "output_type": "execute_result"
    }
   ],
   "source": [
    "dados = pd.read_csv(\"../database/Formated inputs/NewFFNN2Data.csv\").query(f\"`Estações ANA` not in {bacias_com_problema}\")\\\n",
    "                                .reset_index(drop=True)\n",
    "bacias = list(set(dados['Estações ANA']))\n",
    "bacias.sort()\n",
    "print(len(dados))\n",
    "dados.head()"
   ]
  },
  {
   "cell_type": "code",
   "execution_count": 8,
   "id": "60301920",
   "metadata": {
    "id": "RxcfY6r6F4hq"
   },
   "outputs": [],
   "source": [
    "drop_columns = ['Estações ANA',\n",
    "       'Declividade - D (%)',\n",
    "       'Comprimento do rio principal - CT (km)',\n",
    "       'Comprimento total de drenagem - CTD (km)',\n",
    "       'Perímetro da área de contribuição da estação fluviométrica - P (km)',\n",
    "       'Densidade de drenagem - DD (km-1)',\n",
    "       'E_2', 'E_1', 'Q_2', 'Q_1', \n",
    "       'Q_0']\n",
    "\n",
    "\n",
    "columns = [\n",
    "       'Área de contribuição da estação fluviométrica - A (km2)',\n",
    "       'Comprimento total de drenagem - CTD (km)',\n",
    "       'Curve number médio – CN (mm)', 'Parcela da bacia no cristalino - Cr',\n",
    "       'E_0', 'P_2', 'P_1', 'P_0',\n",
    "        'Q_2','Q_1'\n",
    "#        'E_0', 'P_2', 'P_1', 'P_0',\n",
    "#         'Q_2','Q_1'\n",
    "]"
   ]
  },
  {
   "cell_type": "code",
   "execution_count": 9,
   "id": "9289148e",
   "metadata": {
    "id": "hF6S4WsiF5HS"
   },
   "outputs": [],
   "source": [
    "#X = dados.drop(drop_columns,axis=1)\n",
    "X = dados[columns]\n",
    "Y = dados['Q_0'].values\n",
    "\n",
    "#scaler = StandardScaler()\n",
    "scaler = MinMaxScaler()\n",
    "X = scaler.fit_transform(X)\n",
    "X = pd.DataFrame(X,columns=columns)"
   ]
  },
  {
   "cell_type": "code",
   "execution_count": 10,
   "id": "6cf63f1e",
   "metadata": {
    "colab": {
     "base_uri": "https://localhost:8080/",
     "height": 232
    },
    "id": "bd8AR2cBMo8S",
    "outputId": "9b6316f0-c2d1-41cb-cf0a-379b26bc08c5"
   },
   "outputs": [
    {
     "name": "stdout",
     "output_type": "stream",
     "text": [
      "9164\n"
     ]
    },
    {
     "data": {
      "text/html": [
       "<div>\n",
       "<style scoped>\n",
       "    .dataframe tbody tr th:only-of-type {\n",
       "        vertical-align: middle;\n",
       "    }\n",
       "\n",
       "    .dataframe tbody tr th {\n",
       "        vertical-align: top;\n",
       "    }\n",
       "\n",
       "    .dataframe thead th {\n",
       "        text-align: right;\n",
       "    }\n",
       "</style>\n",
       "<table border=\"1\" class=\"dataframe\">\n",
       "  <thead>\n",
       "    <tr style=\"text-align: right;\">\n",
       "      <th></th>\n",
       "      <th>Área de contribuição da estação fluviométrica - A (km2)</th>\n",
       "      <th>Comprimento total de drenagem - CTD (km)</th>\n",
       "      <th>Curve number médio – CN (mm)</th>\n",
       "      <th>Parcela da bacia no cristalino - Cr</th>\n",
       "      <th>E_0</th>\n",
       "      <th>P_2</th>\n",
       "      <th>P_1</th>\n",
       "      <th>P_0</th>\n",
       "      <th>Q_2</th>\n",
       "      <th>Q_1</th>\n",
       "    </tr>\n",
       "  </thead>\n",
       "  <tbody>\n",
       "    <tr>\n",
       "      <th>0</th>\n",
       "      <td>0.019908</td>\n",
       "      <td>0.011969</td>\n",
       "      <td>0.0</td>\n",
       "      <td>0.0</td>\n",
       "      <td>0.377420</td>\n",
       "      <td>0.333448</td>\n",
       "      <td>0.221624</td>\n",
       "      <td>0.233278</td>\n",
       "      <td>0.006548</td>\n",
       "      <td>0.005097</td>\n",
       "    </tr>\n",
       "    <tr>\n",
       "      <th>1</th>\n",
       "      <td>0.019908</td>\n",
       "      <td>0.011969</td>\n",
       "      <td>0.0</td>\n",
       "      <td>0.0</td>\n",
       "      <td>0.432495</td>\n",
       "      <td>0.221624</td>\n",
       "      <td>0.233278</td>\n",
       "      <td>0.020416</td>\n",
       "      <td>0.005097</td>\n",
       "      <td>0.003214</td>\n",
       "    </tr>\n",
       "    <tr>\n",
       "      <th>2</th>\n",
       "      <td>0.019908</td>\n",
       "      <td>0.011969</td>\n",
       "      <td>0.0</td>\n",
       "      <td>0.0</td>\n",
       "      <td>0.597038</td>\n",
       "      <td>0.233278</td>\n",
       "      <td>0.020416</td>\n",
       "      <td>0.004953</td>\n",
       "      <td>0.003214</td>\n",
       "      <td>0.001774</td>\n",
       "    </tr>\n",
       "    <tr>\n",
       "      <th>3</th>\n",
       "      <td>0.019908</td>\n",
       "      <td>0.011969</td>\n",
       "      <td>0.0</td>\n",
       "      <td>0.0</td>\n",
       "      <td>0.767287</td>\n",
       "      <td>0.020416</td>\n",
       "      <td>0.004953</td>\n",
       "      <td>0.001582</td>\n",
       "      <td>0.001774</td>\n",
       "      <td>0.000864</td>\n",
       "    </tr>\n",
       "    <tr>\n",
       "      <th>4</th>\n",
       "      <td>0.019908</td>\n",
       "      <td>0.011969</td>\n",
       "      <td>0.0</td>\n",
       "      <td>0.0</td>\n",
       "      <td>0.863514</td>\n",
       "      <td>0.004953</td>\n",
       "      <td>0.001582</td>\n",
       "      <td>0.003185</td>\n",
       "      <td>0.000864</td>\n",
       "      <td>0.000523</td>\n",
       "    </tr>\n",
       "  </tbody>\n",
       "</table>\n",
       "</div>"
      ],
      "text/plain": [
       "   Área de contribuição da estação fluviométrica - A (km2)  \\\n",
       "0                                           0.019908         \n",
       "1                                           0.019908         \n",
       "2                                           0.019908         \n",
       "3                                           0.019908         \n",
       "4                                           0.019908         \n",
       "\n",
       "   Comprimento total de drenagem - CTD (km)  Curve number médio – CN (mm)  \\\n",
       "0                                  0.011969                           0.0   \n",
       "1                                  0.011969                           0.0   \n",
       "2                                  0.011969                           0.0   \n",
       "3                                  0.011969                           0.0   \n",
       "4                                  0.011969                           0.0   \n",
       "\n",
       "   Parcela da bacia no cristalino - Cr       E_0       P_2       P_1  \\\n",
       "0                                  0.0  0.377420  0.333448  0.221624   \n",
       "1                                  0.0  0.432495  0.221624  0.233278   \n",
       "2                                  0.0  0.597038  0.233278  0.020416   \n",
       "3                                  0.0  0.767287  0.020416  0.004953   \n",
       "4                                  0.0  0.863514  0.004953  0.001582   \n",
       "\n",
       "        P_0       Q_2       Q_1  \n",
       "0  0.233278  0.006548  0.005097  \n",
       "1  0.020416  0.005097  0.003214  \n",
       "2  0.004953  0.003214  0.001774  \n",
       "3  0.001582  0.001774  0.000864  \n",
       "4  0.003185  0.000864  0.000523  "
      ]
     },
     "execution_count": 10,
     "metadata": {},
     "output_type": "execute_result"
    }
   ],
   "source": [
    "print(len(X))\n",
    "X.head()"
   ]
  },
  {
   "cell_type": "markdown",
   "id": "c5b11320",
   "metadata": {
    "id": "8DhSQyIYkGvC"
   },
   "source": [
    "### Definição do modelo"
   ]
  },
  {
   "cell_type": "code",
   "execution_count": 11,
   "id": "a8d28180",
   "metadata": {
    "id": "pT1P88INGxVd"
   },
   "outputs": [
    {
     "name": "stdout",
     "output_type": "stream",
     "text": [
      "SEED: 6000\n"
     ]
    }
   ],
   "source": [
    "# Parâmetros\n",
    "INIT_LR = 0.001\n",
    "EPOCHS = 250\n",
    "BS = 64  # Diminua o tamanho dos lotes se você não tiver memória suficiente\n",
    "SEEDS = [1500, 4, 30, 6000, 400, 648, 900,10000, 2000, 5432]\n",
    "SEED=SEEDS[3]\n",
    "print(\"SEED: %s\" % SEED)\n",
    "n_input = X.shape[1]\n",
    "n_classes = 1\n",
    "\n",
    "NUM_HIDDN = 50"
   ]
  },
  {
   "cell_type": "code",
   "execution_count": 12,
   "id": "8a9ddc07",
   "metadata": {
    "colab": {
     "base_uri": "https://localhost:8080/"
    },
    "id": "GCciApYnGxVk",
    "outputId": "7fb66ce5-ec24-4300-c956-cf7ab2c83459"
   },
   "outputs": [
    {
     "name": "stdout",
     "output_type": "stream",
     "text": [
      "Model: \"model\"\n",
      "_________________________________________________________________\n",
      " Layer (type)                Output Shape              Param #   \n",
      "=================================================================\n",
      " main_input (InputLayer)     [(None, 10)]              0         \n",
      "                                                                 \n",
      " hidden_layer0 (Dense)       (None, 50)                550       \n",
      "                                                                 \n",
      " hidden_layer1 (Dense)       (None, 50)                2550      \n",
      "                                                                 \n",
      " streamflow (Dense)          (None, 1)                 51        \n",
      "                                                                 \n",
      "=================================================================\n",
      "Total params: 3,151\n",
      "Trainable params: 3,151\n",
      "Non-trainable params: 0\n",
      "_________________________________________________________________\n"
     ]
    },
    {
     "name": "stderr",
     "output_type": "stream",
     "text": [
      "2022-02-25 10:23:37.298164: I tensorflow/core/platform/cpu_feature_guard.cc:151] This TensorFlow binary is optimized with oneAPI Deep Neural Network Library (oneDNN) to use the following CPU instructions in performance-critical operations:  AVX2 FMA\n",
      "To enable them in other operations, rebuild TensorFlow with the appropriate compiler flags.\n"
     ]
    }
   ],
   "source": [
    "# Defining the model\n",
    "model = tfMLP().build_model(n_input,1,2,'relu',NUM_HIDDN,SEED=SEED)\n",
    "model.summary()"
   ]
  },
  {
   "cell_type": "code",
   "execution_count": 13,
   "id": "bcbfef05",
   "metadata": {},
   "outputs": [],
   "source": [
    "# Training parameters (used only as parameters to model.compile)\n",
    "\n",
    "opt = RMSprop(learning_rate=INIT_LR)\n",
    "\n",
    "metrics = NSE_K\n",
    "loss = RMSE_Keras\n",
    "\n",
    "relu = lambda x: max(x,0)"
   ]
  },
  {
   "cell_type": "code",
   "execution_count": 14,
   "id": "dd1ad00d",
   "metadata": {},
   "outputs": [],
   "source": [
    "# Models weights directory\n",
    "model_dir = '../src/models/NewFFNN2/CrossValid_SEED_7173_NSE_0824/'\n",
    "model_code = '2'\n"
   ]
  },
  {
   "cell_type": "code",
   "execution_count": 15,
   "id": "f08aae17",
   "metadata": {
    "colab": {
     "base_uri": "https://localhost:8080/"
    },
    "id": "KqdznqLZGxVp",
    "outputId": "69fcaf11-8956-4767-d083-abfeffb2e8cc",
    "scrolled": false
   },
   "outputs": [
    {
     "data": {
      "text/html": [
       "<div>\n",
       "<style scoped>\n",
       "    .dataframe tbody tr th:only-of-type {\n",
       "        vertical-align: middle;\n",
       "    }\n",
       "\n",
       "    .dataframe tbody tr th {\n",
       "        vertical-align: top;\n",
       "    }\n",
       "\n",
       "    .dataframe thead th {\n",
       "        text-align: right;\n",
       "    }\n",
       "</style>\n",
       "<table border=\"1\" class=\"dataframe\">\n",
       "  <thead>\n",
       "    <tr style=\"text-align: right;\">\n",
       "      <th></th>\n",
       "      <th>Bacia</th>\n",
       "      <th>Observacoes</th>\n",
       "      <th>NSE</th>\n",
       "      <th>Cor</th>\n",
       "      <th>RMSE</th>\n",
       "    </tr>\n",
       "  </thead>\n",
       "  <tbody>\n",
       "    <tr>\n",
       "      <th>0</th>\n",
       "      <td>34730000</td>\n",
       "      <td>443</td>\n",
       "      <td>-3.558889</td>\n",
       "      <td>0.706104</td>\n",
       "      <td>10.724443</td>\n",
       "    </tr>\n",
       "    <tr>\n",
       "      <th>1</th>\n",
       "      <td>34740000</td>\n",
       "      <td>70</td>\n",
       "      <td>0.505180</td>\n",
       "      <td>0.876498</td>\n",
       "      <td>4.922226</td>\n",
       "    </tr>\n",
       "    <tr>\n",
       "      <th>2</th>\n",
       "      <td>34750000</td>\n",
       "      <td>508</td>\n",
       "      <td>0.882741</td>\n",
       "      <td>0.942915</td>\n",
       "      <td>33.170541</td>\n",
       "    </tr>\n",
       "    <tr>\n",
       "      <th>3</th>\n",
       "      <td>35050000</td>\n",
       "      <td>95</td>\n",
       "      <td>0.541874</td>\n",
       "      <td>0.823920</td>\n",
       "      <td>5.961048</td>\n",
       "    </tr>\n",
       "    <tr>\n",
       "      <th>4</th>\n",
       "      <td>35125000</td>\n",
       "      <td>309</td>\n",
       "      <td>0.915184</td>\n",
       "      <td>0.960450</td>\n",
       "      <td>5.673409</td>\n",
       "    </tr>\n",
       "    <tr>\n",
       "      <th>5</th>\n",
       "      <td>35170000</td>\n",
       "      <td>443</td>\n",
       "      <td>0.894877</td>\n",
       "      <td>0.952180</td>\n",
       "      <td>19.539618</td>\n",
       "    </tr>\n",
       "    <tr>\n",
       "      <th>6</th>\n",
       "      <td>35210000</td>\n",
       "      <td>570</td>\n",
       "      <td>0.925421</td>\n",
       "      <td>0.965254</td>\n",
       "      <td>6.833693</td>\n",
       "    </tr>\n",
       "    <tr>\n",
       "      <th>7</th>\n",
       "      <td>35223000</td>\n",
       "      <td>124</td>\n",
       "      <td>0.278338</td>\n",
       "      <td>0.593697</td>\n",
       "      <td>65.937380</td>\n",
       "    </tr>\n",
       "    <tr>\n",
       "      <th>8</th>\n",
       "      <td>35240000</td>\n",
       "      <td>392</td>\n",
       "      <td>0.739142</td>\n",
       "      <td>0.877760</td>\n",
       "      <td>9.063669</td>\n",
       "    </tr>\n",
       "    <tr>\n",
       "      <th>9</th>\n",
       "      <td>35260000</td>\n",
       "      <td>494</td>\n",
       "      <td>0.604040</td>\n",
       "      <td>0.914012</td>\n",
       "      <td>17.207909</td>\n",
       "    </tr>\n",
       "    <tr>\n",
       "      <th>10</th>\n",
       "      <td>35263000</td>\n",
       "      <td>283</td>\n",
       "      <td>0.831831</td>\n",
       "      <td>0.951752</td>\n",
       "      <td>4.264909</td>\n",
       "    </tr>\n",
       "    <tr>\n",
       "      <th>11</th>\n",
       "      <td>35668000</td>\n",
       "      <td>313</td>\n",
       "      <td>-0.749843</td>\n",
       "      <td>0.855240</td>\n",
       "      <td>7.456178</td>\n",
       "    </tr>\n",
       "    <tr>\n",
       "      <th>12</th>\n",
       "      <td>35880000</td>\n",
       "      <td>279</td>\n",
       "      <td>0.893387</td>\n",
       "      <td>0.947173</td>\n",
       "      <td>10.808441</td>\n",
       "    </tr>\n",
       "    <tr>\n",
       "      <th>13</th>\n",
       "      <td>35950000</td>\n",
       "      <td>362</td>\n",
       "      <td>0.863055</td>\n",
       "      <td>0.937122</td>\n",
       "      <td>7.823670</td>\n",
       "    </tr>\n",
       "    <tr>\n",
       "      <th>14</th>\n",
       "      <td>36020000</td>\n",
       "      <td>732</td>\n",
       "      <td>0.702867</td>\n",
       "      <td>0.839006</td>\n",
       "      <td>13.778977</td>\n",
       "    </tr>\n",
       "    <tr>\n",
       "      <th>15</th>\n",
       "      <td>36125000</td>\n",
       "      <td>428</td>\n",
       "      <td>0.824890</td>\n",
       "      <td>0.918963</td>\n",
       "      <td>4.827186</td>\n",
       "    </tr>\n",
       "    <tr>\n",
       "      <th>16</th>\n",
       "      <td>36130000</td>\n",
       "      <td>280</td>\n",
       "      <td>0.904916</td>\n",
       "      <td>0.957048</td>\n",
       "      <td>10.722501</td>\n",
       "    </tr>\n",
       "    <tr>\n",
       "      <th>17</th>\n",
       "      <td>36160000</td>\n",
       "      <td>937</td>\n",
       "      <td>0.771343</td>\n",
       "      <td>0.898441</td>\n",
       "      <td>43.180453</td>\n",
       "    </tr>\n",
       "    <tr>\n",
       "      <th>18</th>\n",
       "      <td>36210000</td>\n",
       "      <td>411</td>\n",
       "      <td>0.796052</td>\n",
       "      <td>0.892515</td>\n",
       "      <td>3.291563</td>\n",
       "    </tr>\n",
       "    <tr>\n",
       "      <th>19</th>\n",
       "      <td>36250000</td>\n",
       "      <td>450</td>\n",
       "      <td>0.795829</td>\n",
       "      <td>0.907999</td>\n",
       "      <td>5.122620</td>\n",
       "    </tr>\n",
       "    <tr>\n",
       "      <th>20</th>\n",
       "      <td>36270000</td>\n",
       "      <td>124</td>\n",
       "      <td>0.875420</td>\n",
       "      <td>0.953842</td>\n",
       "      <td>27.923752</td>\n",
       "    </tr>\n",
       "    <tr>\n",
       "      <th>21</th>\n",
       "      <td>36290000</td>\n",
       "      <td>568</td>\n",
       "      <td>0.869168</td>\n",
       "      <td>0.941433</td>\n",
       "      <td>24.456243</td>\n",
       "    </tr>\n",
       "    <tr>\n",
       "      <th>22</th>\n",
       "      <td>36470000</td>\n",
       "      <td>224</td>\n",
       "      <td>0.767314</td>\n",
       "      <td>0.924621</td>\n",
       "      <td>17.956438</td>\n",
       "    </tr>\n",
       "    <tr>\n",
       "      <th>23</th>\n",
       "      <td>36520000</td>\n",
       "      <td>325</td>\n",
       "      <td>0.934091</td>\n",
       "      <td>0.967431</td>\n",
       "      <td>13.416631</td>\n",
       "    </tr>\n",
       "  </tbody>\n",
       "</table>\n",
       "</div>"
      ],
      "text/plain": [
       "       Bacia  Observacoes       NSE       Cor       RMSE\n",
       "0   34730000          443 -3.558889  0.706104  10.724443\n",
       "1   34740000           70  0.505180  0.876498   4.922226\n",
       "2   34750000          508  0.882741  0.942915  33.170541\n",
       "3   35050000           95  0.541874  0.823920   5.961048\n",
       "4   35125000          309  0.915184  0.960450   5.673409\n",
       "5   35170000          443  0.894877  0.952180  19.539618\n",
       "6   35210000          570  0.925421  0.965254   6.833693\n",
       "7   35223000          124  0.278338  0.593697  65.937380\n",
       "8   35240000          392  0.739142  0.877760   9.063669\n",
       "9   35260000          494  0.604040  0.914012  17.207909\n",
       "10  35263000          283  0.831831  0.951752   4.264909\n",
       "11  35668000          313 -0.749843  0.855240   7.456178\n",
       "12  35880000          279  0.893387  0.947173  10.808441\n",
       "13  35950000          362  0.863055  0.937122   7.823670\n",
       "14  36020000          732  0.702867  0.839006  13.778977\n",
       "15  36125000          428  0.824890  0.918963   4.827186\n",
       "16  36130000          280  0.904916  0.957048  10.722501\n",
       "17  36160000          937  0.771343  0.898441  43.180453\n",
       "18  36210000          411  0.796052  0.892515   3.291563\n",
       "19  36250000          450  0.795829  0.907999   5.122620\n",
       "20  36270000          124  0.875420  0.953842  27.923752\n",
       "21  36290000          568  0.869168  0.941433  24.456243\n",
       "22  36470000          224  0.767314  0.924621  17.956438\n",
       "23  36520000          325  0.934091  0.967431  13.416631"
      ]
     },
     "execution_count": 15,
     "metadata": {},
     "output_type": "execute_result"
    }
   ],
   "source": [
    "nome, n_obs,nse, cor, rmse = [], [], [], [], []\n",
    "\n",
    "for bacia in bacias:\n",
    "    idx = dados['Estações ANA'] == bacia\n",
    "\n",
    "    X_treino, Y_treino = X[~idx], Y[~idx]\n",
    "    X_teste, Y_teste = X[idx], Y[idx]\n",
    "\n",
    "    \n",
    "    model.load_weights(os.path.join(model_dir,'weights.NewFFN%s_%d.hdf5'%(model_code,bacia)))\n",
    "    model.compile(loss=[loss],optimizer = opt,\n",
    "                metrics=[metrics])\n",
    "\n",
    "\n",
    "    Y_ = model.predict(X_teste)\n",
    "\n",
    "    Y_Prev = np.vectorize(relu)(Y_)\n",
    "\n",
    "\n",
    "    Y_test = np.expand_dims(Y_teste,1)\n",
    "\n",
    "    k_ = np.mean(Y_test) / np.mean(Y_Prev)\n",
    "\n",
    "    nome.append(bacia)\n",
    "    cor.append(np.corrcoef(Y_Prev.T,Y_test.T)[1][0])\n",
    "    rmse.append(RMSE(Y_test,Y_Prev))\n",
    "    nse.append(NASH(Y_test,Y_Prev))\n",
    "    n_obs.append(len(Y_teste))\n",
    "\n",
    "\n",
    "pd.DataFrame({\"Bacia\":nome, \"Observacoes\":n_obs, \"NSE\":nse,\"Cor\": cor,\"RMSE\": rmse})"
   ]
  },
  {
   "cell_type": "markdown",
   "id": "aa3d4e15",
   "metadata": {},
   "source": [
    "### Performance dos modelos"
   ]
  },
  {
   "cell_type": "code",
   "execution_count": 16,
   "id": "26d57ef7",
   "metadata": {
    "id": "GhKHk5EqGxV5"
   },
   "outputs": [],
   "source": [
    "results = pd.DataFrame({\"Bacia\":nome, \"Observacoes\":n_obs, \"NSE\":nse,\"Cor\": cor,\"RMSE\": rmse})\n"
   ]
  },
  {
   "cell_type": "code",
   "execution_count": 17,
   "id": "c99b0d83",
   "metadata": {
    "id": "PpZtCFdcyFDe"
   },
   "outputs": [
    {
     "data": {
      "text/plain": [
       "0.7132066407101485"
      ]
     },
     "execution_count": 17,
     "metadata": {},
     "output_type": "execute_result"
    }
   ],
   "source": [
    "results[\"NSE\"].apply(relu).mean()#[results.Bacia != 36220000]\n"
   ]
  },
  {
   "cell_type": "code",
   "execution_count": 18,
   "id": "cf047cfa",
   "metadata": {
    "id": "56P1yXOrzFA8"
   },
   "outputs": [
    {
     "data": {
      "text/plain": [
       "0.7442156250888506"
      ]
     },
     "execution_count": 18,
     "metadata": {},
     "output_type": "execute_result"
    }
   ],
   "source": [
    "results[results[\"Bacia\"] != 35668000][\"NSE\"].apply(relu).mean()\n",
    "results.query(f\"\"\"Bacia not in {bacias_com_problema+[35668000]}\"\"\")[\"NSE\"].apply(relu).mean()"
   ]
  },
  {
   "cell_type": "code",
   "execution_count": 19,
   "id": "b9f1da20",
   "metadata": {
    "id": "05apPaNb0Oxv"
   },
   "outputs": [
    {
     "data": {
      "text/plain": [
       "0.8237213748281907"
      ]
     },
     "execution_count": 19,
     "metadata": {},
     "output_type": "execute_result"
    }
   ],
   "source": [
    "bacias_barros_2013 = (34750000, 35050000, 35125000, 35170000, 35210000,\n",
    "                      35260000, 35263000, 35880000, 35950000, 36020000,\n",
    "                      36125000, 36130000, 36160000, 36210000, 36250000,\n",
    "                      36270000, 36290000, 36520000)\n",
    "results_barros_2013 = results.query(f\"\"\"Bacia in {bacias_barros_2013}\n",
    "\"\"\")[\"NSE\"].apply(relu).values.mean()\n",
    "\n",
    "\n",
    "results_barros_2013"
   ]
  },
  {
   "cell_type": "code",
   "execution_count": 20,
   "id": "ed5253de",
   "metadata": {},
   "outputs": [
    {
     "data": {
      "text/plain": [
       "0.8661113706545847"
      ]
     },
     "execution_count": 20,
     "metadata": {},
     "output_type": "execute_result"
    }
   ],
   "source": [
    "results.query(f\"\"\"Bacia in {bacias_barros_2013}\n",
    "\"\"\")[\"NSE\"].apply(relu).median()"
   ]
  },
  {
   "cell_type": "code",
   "execution_count": 22,
   "id": "edd51a77",
   "metadata": {},
   "outputs": [],
   "source": [
    "results.to_csv(\"../Database/output/ResultadosFFNN2.csv\",index=False)"
   ]
  },
  {
   "cell_type": "code",
   "execution_count": null,
   "id": "fa9c22a7",
   "metadata": {},
   "outputs": [],
   "source": []
  }
 ],
 "metadata": {
  "kernelspec": {
   "display_name": "Python 3 (ipykernel)",
   "language": "python",
   "name": "python3"
  },
  "language_info": {
   "codemirror_mode": {
    "name": "ipython",
    "version": 3
   },
   "file_extension": ".py",
   "mimetype": "text/x-python",
   "name": "python",
   "nbconvert_exporter": "python",
   "pygments_lexer": "ipython3",
   "version": "3.9.7"
  },
  "varInspector": {
   "cols": {
    "lenName": 16,
    "lenType": 16,
    "lenVar": 40
   },
   "kernels_config": {
    "python": {
     "delete_cmd_postfix": "",
     "delete_cmd_prefix": "del ",
     "library": "var_list.py",
     "varRefreshCmd": "print(var_dic_list())"
    },
    "r": {
     "delete_cmd_postfix": ") ",
     "delete_cmd_prefix": "rm(",
     "library": "var_list.r",
     "varRefreshCmd": "cat(var_dic_list()) "
    }
   },
   "types_to_exclude": [
    "module",
    "function",
    "builtin_function_or_method",
    "instance",
    "_Feature"
   ],
   "window_display": false
  }
 },
 "nbformat": 4,
 "nbformat_minor": 5
}

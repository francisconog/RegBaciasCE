{
 "cells": [
  {
   "cell_type": "markdown",
   "id": "4f8f0191",
   "metadata": {
    "id": "jisFLIcjkGun"
   },
   "source": [
    "# Regionalização de Bacias usando Redes Neurais"
   ]
  },
  {
   "cell_type": "code",
   "execution_count": 1,
   "id": "d422b3c4",
   "metadata": {
    "colab": {
     "base_uri": "https://localhost:8080/"
    },
    "id": "tTA-GiOpG6Fg",
    "outputId": "88635362-16a2-4fc5-f234-139b12cddd22"
   },
   "outputs": [],
   "source": [
    "# from google.colab import drive\n",
    "# drive.mount('/content/drive')\n",
    "# %%bash\n",
    "# cp -r /content/drive/\"My Drive\"/DEHA/RegBaciasCE /content\n",
    "# mkdir -p RegBaciasCE/src/models/NewFFNN3/CrossValid\n",
    "# nvidia-smi"
   ]
  },
  {
   "cell_type": "markdown",
   "id": "1a1a513c",
   "metadata": {
    "id": "Ewwti4M7kGu1"
   },
   "source": [
    "## Importing Packages"
   ]
  },
  {
   "cell_type": "code",
   "execution_count": 2,
   "id": "77791511",
   "metadata": {
    "id": "nGV77QPykGu2"
   },
   "outputs": [],
   "source": [
    "import sys\n",
    "sys.path.append(\"..\")\n",
    "sys.path.append(\"../src\")\n",
    "sys.path.append(\"../scripts\")\n",
    "sys.path.append(\"../database\")"
   ]
  },
  {
   "cell_type": "code",
   "execution_count": 3,
   "id": "8380b348",
   "metadata": {
    "id": "YJdiKjkzkGu7"
   },
   "outputs": [],
   "source": [
    "import pandas as pd\n",
    "import numpy as np\n",
    "import tensorflow as tf\n",
    "import os\n",
    "#from sklearn.model_selection import train_test_split\n",
    "from sklearn.preprocessing import StandardScaler, MinMaxScaler\n",
    "from funcoes_auxiliares import *\n",
    "from tqdm import tqdm\n",
    "from IPython.display import clear_output\n",
    "from sklearn.utils import shuffle\n",
    "import time\n",
    "import matplotlib.pyplot as plt\n"
   ]
  },
  {
   "cell_type": "code",
   "execution_count": 4,
   "id": "706d4b3b",
   "metadata": {
    "id": "DDR6XlU6kGu8"
   },
   "outputs": [],
   "source": [
    "from tensorflow.keras.layers import Input, Dense, Dropout\n",
    "from tensorflow.keras.models import Model\n",
    "\n",
    "from tensorflow.keras.optimizers import Adam, Nadam, RMSprop"
   ]
  },
  {
   "cell_type": "code",
   "execution_count": 5,
   "id": "b8d792c0",
   "metadata": {
    "id": "h8yK4NP-kGu8"
   },
   "outputs": [],
   "source": [
    "pd.options.display.max_columns = 999\n",
    "\n",
    "import warnings\n",
    "\n",
    "warnings.filterwarnings('ignore')\n"
   ]
  },
  {
   "cell_type": "code",
   "execution_count": 6,
   "id": "ca2b2fbd",
   "metadata": {
    "id": "rjcZv4kuxXuQ"
   },
   "outputs": [],
   "source": [
    "bacias_com_problema = [36220000]"
   ]
  },
  {
   "cell_type": "code",
   "execution_count": 7,
   "id": "8d2df6e7",
   "metadata": {
    "colab": {
     "base_uri": "https://localhost:8080/",
     "height": 214
    },
    "id": "rxfZu1tckGu9",
    "outputId": "9b2e29af-39af-4073-b6a4-4afeedecb7a6"
   },
   "outputs": [
    {
     "name": "stdout",
     "output_type": "stream",
     "text": [
      "9700\n"
     ]
    },
    {
     "data": {
      "text/html": [
       "<div>\n",
       "<style scoped>\n",
       "    .dataframe tbody tr th:only-of-type {\n",
       "        vertical-align: middle;\n",
       "    }\n",
       "\n",
       "    .dataframe tbody tr th {\n",
       "        vertical-align: top;\n",
       "    }\n",
       "\n",
       "    .dataframe thead th {\n",
       "        text-align: right;\n",
       "    }\n",
       "</style>\n",
       "<table border=\"1\" class=\"dataframe\">\n",
       "  <thead>\n",
       "    <tr style=\"text-align: right;\">\n",
       "      <th></th>\n",
       "      <th>Estações ANA</th>\n",
       "      <th>Declividade - D (%)</th>\n",
       "      <th>Comprimento do rio principal - CT (km)</th>\n",
       "      <th>Área de contribuição da estação fluviométrica - A (km2)</th>\n",
       "      <th>Perímetro da área de contribuição da estação fluviométrica - P (km)</th>\n",
       "      <th>Comprimento total de drenagem - CTD (km)</th>\n",
       "      <th>Densidade de drenagem - DD (km-1)</th>\n",
       "      <th>Curve number médio – CN (mm)</th>\n",
       "      <th>Parcela da bacia no cristalino - Cr</th>\n",
       "      <th>E_0</th>\n",
       "      <th>P_2</th>\n",
       "      <th>P_1</th>\n",
       "      <th>P_0</th>\n",
       "      <th>Q_0</th>\n",
       "    </tr>\n",
       "  </thead>\n",
       "  <tbody>\n",
       "    <tr>\n",
       "      <th>0</th>\n",
       "      <td>34730000</td>\n",
       "      <td>0.069435</td>\n",
       "      <td>64319.016213</td>\n",
       "      <td>897.371509</td>\n",
       "      <td>211.282396</td>\n",
       "      <td>528.790311</td>\n",
       "      <td>0.589266</td>\n",
       "      <td>56.773914</td>\n",
       "      <td>0.0</td>\n",
       "      <td>130.000000</td>\n",
       "      <td>133.230</td>\n",
       "      <td>66.066</td>\n",
       "      <td>204.2900</td>\n",
       "      <td>7.884968</td>\n",
       "    </tr>\n",
       "    <tr>\n",
       "      <th>1</th>\n",
       "      <td>34730000</td>\n",
       "      <td>0.069435</td>\n",
       "      <td>64319.016213</td>\n",
       "      <td>897.371509</td>\n",
       "      <td>211.282396</td>\n",
       "      <td>528.790311</td>\n",
       "      <td>0.589266</td>\n",
       "      <td>56.773914</td>\n",
       "      <td>0.0</td>\n",
       "      <td>118.000000</td>\n",
       "      <td>66.066</td>\n",
       "      <td>204.290</td>\n",
       "      <td>135.7800</td>\n",
       "      <td>6.138600</td>\n",
       "    </tr>\n",
       "    <tr>\n",
       "      <th>2</th>\n",
       "      <td>34730000</td>\n",
       "      <td>0.069435</td>\n",
       "      <td>64319.016213</td>\n",
       "      <td>897.371509</td>\n",
       "      <td>211.282396</td>\n",
       "      <td>528.790311</td>\n",
       "      <td>0.589266</td>\n",
       "      <td>56.773914</td>\n",
       "      <td>0.0</td>\n",
       "      <td>121.889904</td>\n",
       "      <td>204.290</td>\n",
       "      <td>135.780</td>\n",
       "      <td>142.9200</td>\n",
       "      <td>3.870129</td>\n",
       "    </tr>\n",
       "    <tr>\n",
       "      <th>3</th>\n",
       "      <td>34730000</td>\n",
       "      <td>0.069435</td>\n",
       "      <td>64319.016213</td>\n",
       "      <td>897.371509</td>\n",
       "      <td>211.282396</td>\n",
       "      <td>528.790311</td>\n",
       "      <td>0.589266</td>\n",
       "      <td>56.773914</td>\n",
       "      <td>0.0</td>\n",
       "      <td>129.330288</td>\n",
       "      <td>135.780</td>\n",
       "      <td>142.920</td>\n",
       "      <td>12.5080</td>\n",
       "      <td>2.136953</td>\n",
       "    </tr>\n",
       "    <tr>\n",
       "      <th>4</th>\n",
       "      <td>34730000</td>\n",
       "      <td>0.069435</td>\n",
       "      <td>64319.016213</td>\n",
       "      <td>897.371509</td>\n",
       "      <td>211.282396</td>\n",
       "      <td>528.790311</td>\n",
       "      <td>0.589266</td>\n",
       "      <td>56.773914</td>\n",
       "      <td>0.0</td>\n",
       "      <td>151.559616</td>\n",
       "      <td>142.920</td>\n",
       "      <td>12.508</td>\n",
       "      <td>3.0347</td>\n",
       "      <td>1.040503</td>\n",
       "    </tr>\n",
       "  </tbody>\n",
       "</table>\n",
       "</div>"
      ],
      "text/plain": [
       "   Estações ANA  Declividade - D (%)  Comprimento do rio principal - CT (km)  \\\n",
       "0      34730000             0.069435                            64319.016213   \n",
       "1      34730000             0.069435                            64319.016213   \n",
       "2      34730000             0.069435                            64319.016213   \n",
       "3      34730000             0.069435                            64319.016213   \n",
       "4      34730000             0.069435                            64319.016213   \n",
       "\n",
       "   Área de contribuição da estação fluviométrica - A (km2)  \\\n",
       "0                                         897.371509         \n",
       "1                                         897.371509         \n",
       "2                                         897.371509         \n",
       "3                                         897.371509         \n",
       "4                                         897.371509         \n",
       "\n",
       "   Perímetro da área de contribuição da estação fluviométrica - P (km)  \\\n",
       "0                                         211.282396                     \n",
       "1                                         211.282396                     \n",
       "2                                         211.282396                     \n",
       "3                                         211.282396                     \n",
       "4                                         211.282396                     \n",
       "\n",
       "   Comprimento total de drenagem - CTD (km)  \\\n",
       "0                                528.790311   \n",
       "1                                528.790311   \n",
       "2                                528.790311   \n",
       "3                                528.790311   \n",
       "4                                528.790311   \n",
       "\n",
       "   Densidade de drenagem - DD (km-1)  Curve number médio – CN (mm)  \\\n",
       "0                           0.589266                     56.773914   \n",
       "1                           0.589266                     56.773914   \n",
       "2                           0.589266                     56.773914   \n",
       "3                           0.589266                     56.773914   \n",
       "4                           0.589266                     56.773914   \n",
       "\n",
       "   Parcela da bacia no cristalino - Cr         E_0      P_2      P_1  \\\n",
       "0                                  0.0  130.000000  133.230   66.066   \n",
       "1                                  0.0  118.000000   66.066  204.290   \n",
       "2                                  0.0  121.889904  204.290  135.780   \n",
       "3                                  0.0  129.330288  135.780  142.920   \n",
       "4                                  0.0  151.559616  142.920   12.508   \n",
       "\n",
       "        P_0       Q_0  \n",
       "0  204.2900  7.884968  \n",
       "1  135.7800  6.138600  \n",
       "2  142.9200  3.870129  \n",
       "3   12.5080  2.136953  \n",
       "4    3.0347  1.040503  "
      ]
     },
     "execution_count": 7,
     "metadata": {},
     "output_type": "execute_result"
    }
   ],
   "source": [
    "dados = pd.read_csv(\"../database/NewFFNNData.csv\").query(f\"`Estações ANA` not in {bacias_com_problema}\")\\\n",
    "                                .reset_index(drop=True)\n",
    "bacias = list(set(dados['Estações ANA']))\n",
    "bacias.sort()\n",
    "print(len(dados))\n",
    "dados.head()"
   ]
  },
  {
   "cell_type": "code",
   "execution_count": 8,
   "id": "60301920",
   "metadata": {
    "id": "RxcfY6r6F4hq"
   },
   "outputs": [],
   "source": [
    "drop_columns = ['Estações ANA',\n",
    "       'Declividade - D (%)',\n",
    "      #  'Comprimento do rio principal - CT (km)',\n",
    "       'Comprimento total de drenagem - CTD (km)',\n",
    "       'Perímetro da área de contribuição da estação fluviométrica - P (km)',\n",
    "       'Densidade de drenagem - DD (km-1)',\n",
    "       'E_2', 'E_1', 'Q_2', 'Q_1', \n",
    "       'Q_0']\n",
    "\n",
    "\n",
    "columns = [\n",
    "#        'Comprimento do rio principal - CT (km)',\n",
    "       'Área de contribuição da estação fluviométrica - A (km2)',\n",
    "       'Comprimento total de drenagem - CTD (km)',\n",
    "       'Curve number médio – CN (mm)', 'Parcela da bacia no cristalino - Cr',\n",
    "       'P_2', 'P_1', 'P_0','E_0',\n",
    "        #'Q_2','Q_1'\n",
    "]"
   ]
  },
  {
   "cell_type": "code",
   "execution_count": 9,
   "id": "9289148e",
   "metadata": {
    "id": "hF6S4WsiF5HS"
   },
   "outputs": [],
   "source": [
    "#X = dados.drop(drop_columns,axis=1)\n",
    "X = dados[columns]\n",
    "Y = dados['Q_0'].values\n",
    "\n",
    "#scaler = StandardScaler()\n",
    "scaler = MinMaxScaler()\n",
    "X = scaler.fit_transform(X)\n",
    "X = pd.DataFrame(X,columns=columns)"
   ]
  },
  {
   "cell_type": "code",
   "execution_count": 10,
   "id": "6cf63f1e",
   "metadata": {
    "colab": {
     "base_uri": "https://localhost:8080/",
     "height": 232
    },
    "id": "bd8AR2cBMo8S",
    "outputId": "9b6316f0-c2d1-41cb-cf0a-379b26bc08c5"
   },
   "outputs": [
    {
     "name": "stdout",
     "output_type": "stream",
     "text": [
      "9700\n"
     ]
    },
    {
     "data": {
      "text/html": [
       "<div>\n",
       "<style scoped>\n",
       "    .dataframe tbody tr th:only-of-type {\n",
       "        vertical-align: middle;\n",
       "    }\n",
       "\n",
       "    .dataframe tbody tr th {\n",
       "        vertical-align: top;\n",
       "    }\n",
       "\n",
       "    .dataframe thead th {\n",
       "        text-align: right;\n",
       "    }\n",
       "</style>\n",
       "<table border=\"1\" class=\"dataframe\">\n",
       "  <thead>\n",
       "    <tr style=\"text-align: right;\">\n",
       "      <th></th>\n",
       "      <th>Área de contribuição da estação fluviométrica - A (km2)</th>\n",
       "      <th>Comprimento total de drenagem - CTD (km)</th>\n",
       "      <th>Curve number médio – CN (mm)</th>\n",
       "      <th>Parcela da bacia no cristalino - Cr</th>\n",
       "      <th>P_2</th>\n",
       "      <th>P_1</th>\n",
       "      <th>P_0</th>\n",
       "      <th>E_0</th>\n",
       "    </tr>\n",
       "  </thead>\n",
       "  <tbody>\n",
       "    <tr>\n",
       "      <th>0</th>\n",
       "      <td>0.019908</td>\n",
       "      <td>0.011969</td>\n",
       "      <td>0.0</td>\n",
       "      <td>0.0</td>\n",
       "      <td>0.203116</td>\n",
       "      <td>0.107835</td>\n",
       "      <td>0.333448</td>\n",
       "      <td>0.437452</td>\n",
       "    </tr>\n",
       "    <tr>\n",
       "      <th>1</th>\n",
       "      <td>0.019908</td>\n",
       "      <td>0.011969</td>\n",
       "      <td>0.0</td>\n",
       "      <td>0.0</td>\n",
       "      <td>0.100721</td>\n",
       "      <td>0.333448</td>\n",
       "      <td>0.221624</td>\n",
       "      <td>0.348627</td>\n",
       "    </tr>\n",
       "    <tr>\n",
       "      <th>2</th>\n",
       "      <td>0.019908</td>\n",
       "      <td>0.011969</td>\n",
       "      <td>0.0</td>\n",
       "      <td>0.0</td>\n",
       "      <td>0.311451</td>\n",
       "      <td>0.221624</td>\n",
       "      <td>0.233278</td>\n",
       "      <td>0.377420</td>\n",
       "    </tr>\n",
       "    <tr>\n",
       "      <th>3</th>\n",
       "      <td>0.019908</td>\n",
       "      <td>0.011969</td>\n",
       "      <td>0.0</td>\n",
       "      <td>0.0</td>\n",
       "      <td>0.207004</td>\n",
       "      <td>0.233278</td>\n",
       "      <td>0.020416</td>\n",
       "      <td>0.432495</td>\n",
       "    </tr>\n",
       "    <tr>\n",
       "      <th>4</th>\n",
       "      <td>0.019908</td>\n",
       "      <td>0.011969</td>\n",
       "      <td>0.0</td>\n",
       "      <td>0.0</td>\n",
       "      <td>0.217889</td>\n",
       "      <td>0.020416</td>\n",
       "      <td>0.004953</td>\n",
       "      <td>0.597038</td>\n",
       "    </tr>\n",
       "  </tbody>\n",
       "</table>\n",
       "</div>"
      ],
      "text/plain": [
       "   Área de contribuição da estação fluviométrica - A (km2)  \\\n",
       "0                                           0.019908         \n",
       "1                                           0.019908         \n",
       "2                                           0.019908         \n",
       "3                                           0.019908         \n",
       "4                                           0.019908         \n",
       "\n",
       "   Comprimento total de drenagem - CTD (km)  Curve number médio – CN (mm)  \\\n",
       "0                                  0.011969                           0.0   \n",
       "1                                  0.011969                           0.0   \n",
       "2                                  0.011969                           0.0   \n",
       "3                                  0.011969                           0.0   \n",
       "4                                  0.011969                           0.0   \n",
       "\n",
       "   Parcela da bacia no cristalino - Cr       P_2       P_1       P_0       E_0  \n",
       "0                                  0.0  0.203116  0.107835  0.333448  0.437452  \n",
       "1                                  0.0  0.100721  0.333448  0.221624  0.348627  \n",
       "2                                  0.0  0.311451  0.221624  0.233278  0.377420  \n",
       "3                                  0.0  0.207004  0.233278  0.020416  0.432495  \n",
       "4                                  0.0  0.217889  0.020416  0.004953  0.597038  "
      ]
     },
     "execution_count": 10,
     "metadata": {},
     "output_type": "execute_result"
    }
   ],
   "source": [
    "print(len(X))\n",
    "X.head()"
   ]
  },
  {
   "cell_type": "markdown",
   "id": "c5b11320",
   "metadata": {
    "id": "8DhSQyIYkGvC"
   },
   "source": [
    "### Definição do modelo"
   ]
  },
  {
   "cell_type": "code",
   "execution_count": 11,
   "id": "a8d28180",
   "metadata": {
    "id": "pT1P88INGxVd"
   },
   "outputs": [
    {
     "name": "stdout",
     "output_type": "stream",
     "text": [
      "SEED: 6000\n"
     ]
    }
   ],
   "source": [
    "# Parâmetros\n",
    "INIT_LR = 0.001\n",
    "EPOCHS = 250\n",
    "BS = 64  # Diminua o tamanho dos lotes se você não tiver memória suficiente\n",
    "SEEDS = [1500, 4, 30, 6000, 400, 648, 900,10000, 2000, 5432]\n",
    "SEED=SEEDS[3]\n",
    "print(\"SEED: %s\" % SEED)\n",
    "n_input = X.shape[1]\n",
    "n_classes = 1\n",
    "\n",
    "n_h1 = 50\n",
    "n_h2 = n_h1\n",
    "n_h3 = 10\n",
    "n_h4 = 10\n",
    "n_h5 = 1\n"
   ]
  },
  {
   "cell_type": "code",
   "execution_count": 12,
   "id": "8a9ddc07",
   "metadata": {
    "colab": {
     "base_uri": "https://localhost:8080/"
    },
    "id": "GCciApYnGxVk",
    "outputId": "7fb66ce5-ec24-4300-c956-cf7ab2c83459"
   },
   "outputs": [
    {
     "name": "stdout",
     "output_type": "stream",
     "text": [
      "Model: \"model\"\n",
      "_________________________________________________________________\n",
      "Layer (type)                 Output Shape              Param #   \n",
      "=================================================================\n",
      "main_input (InputLayer)      [(None, 8)]               0         \n",
      "_________________________________________________________________\n",
      "hidden_layer1 (Dense)        (None, 50)                450       \n",
      "_________________________________________________________________\n",
      "hidden_layer2 (Dense)        (None, 50)                2550      \n",
      "_________________________________________________________________\n",
      "streamflow (Dense)           (None, 1)                 51        \n",
      "=================================================================\n",
      "Total params: 3,051\n",
      "Trainable params: 3,051\n",
      "Non-trainable params: 0\n",
      "_________________________________________________________________\n"
     ]
    }
   ],
   "source": [
    "main_input = Input(shape = (n_input,),dtype='float32', name='main_input')\n",
    "x = Dense(n_h1,activation ='relu',name='hidden_layer1')(main_input)\n",
    "# x = Dropout(0.05)(x)\n",
    "x = Dense(n_h2,activation ='relu',name='hidden_layer2')(x)\n",
    "# x = Dropout(0.05)(x)\n",
    "\n",
    "y = Dense(1,activation ='linear',name='streamflow')(x)\n",
    "\n",
    "\n",
    "np.random.seed(SEED)\n",
    "tf.random.set_seed(SEED)\n",
    "model = Model(inputs=[main_input], outputs=[y])\n",
    "\n",
    "model.summary()"
   ]
  },
  {
   "cell_type": "code",
   "execution_count": 13,
   "id": "bcbfef05",
   "metadata": {},
   "outputs": [],
   "source": [
    "#Adam, Nadam, RMSprop\n",
    "\n",
    "opt = RMSprop(learning_rate=INIT_LR)\n",
    "# opt = Adam(lr=INIT_LR, decay=INIT_LR / EPOCHS)\n",
    "# opt = Nadam(learning_rate=INIT_LR, beta_1=INIT_LR / EPOCHS, beta_2=0.999, epsilon=1e-07)\n",
    "#opt = 'Adadelta'"
   ]
  },
  {
   "cell_type": "code",
   "execution_count": 14,
   "id": "d3eacc82",
   "metadata": {
    "id": "_mAMoeND6KyC"
   },
   "outputs": [],
   "source": [
    "metrics = NSE_K#tf.keras.metrics.MeanSquaredError()\n",
    "loss = RMSE_Keras#tf.keras.losses.MeanSquaredError()"
   ]
  },
  {
   "cell_type": "code",
   "execution_count": 15,
   "id": "f69a6e94",
   "metadata": {
    "id": "ScMlV5dzXmN0"
   },
   "outputs": [],
   "source": [
    "relu = lambda x: max(x,0)"
   ]
  },
  {
   "cell_type": "code",
   "execution_count": 16,
   "id": "dd1ad00d",
   "metadata": {},
   "outputs": [],
   "source": [
    "model_dir = '../src/models/legacy/Donut'\n",
    "# model_dir = '../src/models/legacy/saved_models/Ivy'\n",
    "model_code = '3'\n"
   ]
  },
  {
   "cell_type": "code",
   "execution_count": 17,
   "id": "f08aae17",
   "metadata": {
    "colab": {
     "base_uri": "https://localhost:8080/"
    },
    "id": "KqdznqLZGxVp",
    "outputId": "69fcaf11-8956-4767-d083-abfeffb2e8cc",
    "scrolled": false
   },
   "outputs": [
    {
     "data": {
      "text/html": [
       "<div>\n",
       "<style scoped>\n",
       "    .dataframe tbody tr th:only-of-type {\n",
       "        vertical-align: middle;\n",
       "    }\n",
       "\n",
       "    .dataframe tbody tr th {\n",
       "        vertical-align: top;\n",
       "    }\n",
       "\n",
       "    .dataframe thead th {\n",
       "        text-align: right;\n",
       "    }\n",
       "</style>\n",
       "<table border=\"1\" class=\"dataframe\">\n",
       "  <thead>\n",
       "    <tr style=\"text-align: right;\">\n",
       "      <th></th>\n",
       "      <th>Bacia</th>\n",
       "      <th>Observacoes</th>\n",
       "      <th>NSE</th>\n",
       "      <th>Cor</th>\n",
       "      <th>RMSE</th>\n",
       "    </tr>\n",
       "  </thead>\n",
       "  <tbody>\n",
       "    <tr>\n",
       "      <th>0</th>\n",
       "      <td>34730000</td>\n",
       "      <td>475</td>\n",
       "      <td>-4.854282</td>\n",
       "      <td>0.720901</td>\n",
       "      <td>17.753341</td>\n",
       "    </tr>\n",
       "    <tr>\n",
       "      <th>1</th>\n",
       "      <td>34740000</td>\n",
       "      <td>92</td>\n",
       "      <td>0.440019</td>\n",
       "      <td>0.861527</td>\n",
       "      <td>4.693990</td>\n",
       "    </tr>\n",
       "    <tr>\n",
       "      <th>2</th>\n",
       "      <td>34750000</td>\n",
       "      <td>514</td>\n",
       "      <td>0.880909</td>\n",
       "      <td>0.938893</td>\n",
       "      <td>33.377022</td>\n",
       "    </tr>\n",
       "    <tr>\n",
       "      <th>3</th>\n",
       "      <td>35050000</td>\n",
       "      <td>115</td>\n",
       "      <td>0.477216</td>\n",
       "      <td>0.732109</td>\n",
       "      <td>6.215669</td>\n",
       "    </tr>\n",
       "    <tr>\n",
       "      <th>4</th>\n",
       "      <td>35125000</td>\n",
       "      <td>328</td>\n",
       "      <td>0.902520</td>\n",
       "      <td>0.964911</td>\n",
       "      <td>5.991441</td>\n",
       "    </tr>\n",
       "    <tr>\n",
       "      <th>5</th>\n",
       "      <td>35170000</td>\n",
       "      <td>462</td>\n",
       "      <td>0.863140</td>\n",
       "      <td>0.934791</td>\n",
       "      <td>21.987040</td>\n",
       "    </tr>\n",
       "    <tr>\n",
       "      <th>6</th>\n",
       "      <td>35210000</td>\n",
       "      <td>578</td>\n",
       "      <td>0.874079</td>\n",
       "      <td>0.943814</td>\n",
       "      <td>8.836568</td>\n",
       "    </tr>\n",
       "    <tr>\n",
       "      <th>7</th>\n",
       "      <td>35223000</td>\n",
       "      <td>130</td>\n",
       "      <td>0.099686</td>\n",
       "      <td>0.733257</td>\n",
       "      <td>71.982945</td>\n",
       "    </tr>\n",
       "    <tr>\n",
       "      <th>8</th>\n",
       "      <td>35240000</td>\n",
       "      <td>421</td>\n",
       "      <td>0.508759</td>\n",
       "      <td>0.800892</td>\n",
       "      <td>12.754612</td>\n",
       "    </tr>\n",
       "    <tr>\n",
       "      <th>9</th>\n",
       "      <td>35260000</td>\n",
       "      <td>504</td>\n",
       "      <td>0.714187</td>\n",
       "      <td>0.899843</td>\n",
       "      <td>14.502013</td>\n",
       "    </tr>\n",
       "    <tr>\n",
       "      <th>10</th>\n",
       "      <td>35263000</td>\n",
       "      <td>287</td>\n",
       "      <td>0.804644</td>\n",
       "      <td>0.936003</td>\n",
       "      <td>4.574105</td>\n",
       "    </tr>\n",
       "    <tr>\n",
       "      <th>11</th>\n",
       "      <td>35668000</td>\n",
       "      <td>319</td>\n",
       "      <td>0.150892</td>\n",
       "      <td>0.823044</td>\n",
       "      <td>5.148219</td>\n",
       "    </tr>\n",
       "    <tr>\n",
       "      <th>12</th>\n",
       "      <td>35880000</td>\n",
       "      <td>287</td>\n",
       "      <td>0.816315</td>\n",
       "      <td>0.960359</td>\n",
       "      <td>15.341410</td>\n",
       "    </tr>\n",
       "    <tr>\n",
       "      <th>13</th>\n",
       "      <td>35950000</td>\n",
       "      <td>386</td>\n",
       "      <td>0.760048</td>\n",
       "      <td>0.938105</td>\n",
       "      <td>10.097794</td>\n",
       "    </tr>\n",
       "    <tr>\n",
       "      <th>14</th>\n",
       "      <td>36020000</td>\n",
       "      <td>762</td>\n",
       "      <td>0.644398</td>\n",
       "      <td>0.828894</td>\n",
       "      <td>15.921429</td>\n",
       "    </tr>\n",
       "    <tr>\n",
       "      <th>15</th>\n",
       "      <td>36125000</td>\n",
       "      <td>440</td>\n",
       "      <td>0.853859</td>\n",
       "      <td>0.924461</td>\n",
       "      <td>5.186803</td>\n",
       "    </tr>\n",
       "    <tr>\n",
       "      <th>16</th>\n",
       "      <td>36130000</td>\n",
       "      <td>302</td>\n",
       "      <td>0.900850</td>\n",
       "      <td>0.951335</td>\n",
       "      <td>10.580054</td>\n",
       "    </tr>\n",
       "    <tr>\n",
       "      <th>17</th>\n",
       "      <td>36160000</td>\n",
       "      <td>1007</td>\n",
       "      <td>0.801843</td>\n",
       "      <td>0.898976</td>\n",
       "      <td>39.982698</td>\n",
       "    </tr>\n",
       "    <tr>\n",
       "      <th>18</th>\n",
       "      <td>36210000</td>\n",
       "      <td>431</td>\n",
       "      <td>0.754699</td>\n",
       "      <td>0.892910</td>\n",
       "      <td>3.662303</td>\n",
       "    </tr>\n",
       "    <tr>\n",
       "      <th>19</th>\n",
       "      <td>36250000</td>\n",
       "      <td>454</td>\n",
       "      <td>0.780495</td>\n",
       "      <td>0.909575</td>\n",
       "      <td>5.289691</td>\n",
       "    </tr>\n",
       "    <tr>\n",
       "      <th>20</th>\n",
       "      <td>36270000</td>\n",
       "      <td>172</td>\n",
       "      <td>0.797740</td>\n",
       "      <td>0.914706</td>\n",
       "      <td>33.296953</td>\n",
       "    </tr>\n",
       "    <tr>\n",
       "      <th>21</th>\n",
       "      <td>36290000</td>\n",
       "      <td>607</td>\n",
       "      <td>0.803729</td>\n",
       "      <td>0.935046</td>\n",
       "      <td>29.582223</td>\n",
       "    </tr>\n",
       "    <tr>\n",
       "      <th>22</th>\n",
       "      <td>36470000</td>\n",
       "      <td>274</td>\n",
       "      <td>0.431534</td>\n",
       "      <td>0.836543</td>\n",
       "      <td>28.063678</td>\n",
       "    </tr>\n",
       "    <tr>\n",
       "      <th>23</th>\n",
       "      <td>36520000</td>\n",
       "      <td>353</td>\n",
       "      <td>0.897759</td>\n",
       "      <td>0.950448</td>\n",
       "      <td>16.190748</td>\n",
       "    </tr>\n",
       "  </tbody>\n",
       "</table>\n",
       "</div>"
      ],
      "text/plain": [
       "       Bacia  Observacoes       NSE       Cor       RMSE\n",
       "0   34730000          475 -4.854282  0.720901  17.753341\n",
       "1   34740000           92  0.440019  0.861527   4.693990\n",
       "2   34750000          514  0.880909  0.938893  33.377022\n",
       "3   35050000          115  0.477216  0.732109   6.215669\n",
       "4   35125000          328  0.902520  0.964911   5.991441\n",
       "5   35170000          462  0.863140  0.934791  21.987040\n",
       "6   35210000          578  0.874079  0.943814   8.836568\n",
       "7   35223000          130  0.099686  0.733257  71.982945\n",
       "8   35240000          421  0.508759  0.800892  12.754612\n",
       "9   35260000          504  0.714187  0.899843  14.502013\n",
       "10  35263000          287  0.804644  0.936003   4.574105\n",
       "11  35668000          319  0.150892  0.823044   5.148219\n",
       "12  35880000          287  0.816315  0.960359  15.341410\n",
       "13  35950000          386  0.760048  0.938105  10.097794\n",
       "14  36020000          762  0.644398  0.828894  15.921429\n",
       "15  36125000          440  0.853859  0.924461   5.186803\n",
       "16  36130000          302  0.900850  0.951335  10.580054\n",
       "17  36160000         1007  0.801843  0.898976  39.982698\n",
       "18  36210000          431  0.754699  0.892910   3.662303\n",
       "19  36250000          454  0.780495  0.909575   5.289691\n",
       "20  36270000          172  0.797740  0.914706  33.296953\n",
       "21  36290000          607  0.803729  0.935046  29.582223\n",
       "22  36470000          274  0.431534  0.836543  28.063678\n",
       "23  36520000          353  0.897759  0.950448  16.190748"
      ]
     },
     "execution_count": 17,
     "metadata": {},
     "output_type": "execute_result"
    }
   ],
   "source": [
    "nome, n_obs,nse, cor, rmse = [], [], [], [], []\n",
    "\n",
    "for bacia in bacias:\n",
    "    idx = dados['Estações ANA'] == bacia\n",
    "\n",
    "    X_treino, Y_treino = X[~idx], Y[~idx]\n",
    "    X_teste, Y_teste = X[idx], Y[idx]\n",
    "\n",
    "    \n",
    "    model.load_weights(os.path.join(model_dir,'weights.Model%s_%d.hdf5'%(model_code,bacia)))\n",
    "    model.compile(loss=[loss],optimizer = opt,\n",
    "                metrics=[metrics])\n",
    "\n",
    "\n",
    "    Y_ = model.predict(X_teste)\n",
    "\n",
    "    Y_Prev = np.vectorize(relu)(Y_)\n",
    "\n",
    "\n",
    "    Y_test = np.expand_dims(Y_teste,1)\n",
    "\n",
    "    k_ = np.mean(Y_test) / np.mean(Y_Prev)\n",
    "\n",
    "    nome.append(bacia)\n",
    "    cor.append(np.corrcoef(Y_Prev.T,Y_test.T)[1][0])\n",
    "    rmse.append(RMSE(Y_test,Y_Prev))\n",
    "    nse.append(NASH(Y_test,Y_Prev))\n",
    "    n_obs.append(len(Y_teste))\n",
    "\n",
    "\n",
    "pd.DataFrame({\"Bacia\":nome, \"Observacoes\":n_obs, \"NSE\":nse,\"Cor\": cor,\"RMSE\": rmse})"
   ]
  },
  {
   "cell_type": "markdown",
   "id": "aa3d4e15",
   "metadata": {},
   "source": [
    "### Performance dos modelos"
   ]
  },
  {
   "cell_type": "code",
   "execution_count": 18,
   "id": "26d57ef7",
   "metadata": {
    "id": "GhKHk5EqGxV5"
   },
   "outputs": [],
   "source": [
    "results = pd.DataFrame({\"Bacia\":nome, \"Observacoes\":n_obs, \"NSE\":nse,\"Cor\": cor,\"RMSE\": rmse})\n"
   ]
  },
  {
   "cell_type": "code",
   "execution_count": 19,
   "id": "c99b0d83",
   "metadata": {
    "id": "PpZtCFdcyFDe"
   },
   "outputs": [
    {
     "data": {
      "text/plain": [
       "0.6649716768565879"
      ]
     },
     "execution_count": 19,
     "metadata": {},
     "output_type": "execute_result"
    }
   ],
   "source": [
    "results[\"NSE\"].apply(relu).mean()#[results.Bacia != 36220000]\n"
   ]
  },
  {
   "cell_type": "code",
   "execution_count": 20,
   "id": "cf047cfa",
   "metadata": {
    "id": "56P1yXOrzFA8"
   },
   "outputs": [
    {
     "data": {
      "text/plain": [
       "0.687322949828226"
      ]
     },
     "execution_count": 20,
     "metadata": {},
     "output_type": "execute_result"
    }
   ],
   "source": [
    "results[results[\"Bacia\"] != 35668000][\"NSE\"].apply(relu).mean()\n",
    "results.query(f\"\"\"Bacia not in {bacias_com_problema+[35668000]}\"\"\")[\"NSE\"].apply(relu).mean()"
   ]
  },
  {
   "cell_type": "code",
   "execution_count": 21,
   "id": "b9f1da20",
   "metadata": {
    "id": "05apPaNb0Oxv"
   },
   "outputs": [
    {
     "data": {
      "text/plain": [
       "0.7960238639498247"
      ]
     },
     "execution_count": 21,
     "metadata": {},
     "output_type": "execute_result"
    }
   ],
   "source": [
    "bacias_barros_2013 = (34750000, 35050000, 35125000, 35170000, 35210000,\n",
    "                      35260000, 35263000, 35880000, 35950000, 36020000,\n",
    "                      36125000, 36130000, 36160000, 36210000, 36250000,\n",
    "                      36270000, 36290000, 36520000)\n",
    "results_barros_2013 = results.query(f\"\"\"Bacia in {bacias_barros_2013}\n",
    "\"\"\")[\"NSE\"].apply(relu).values.mean()\n",
    "\n",
    "\n",
    "results_barros_2013"
   ]
  },
  {
   "cell_type": "code",
   "execution_count": 22,
   "id": "edd51a77",
   "metadata": {},
   "outputs": [],
   "source": [
    "results.to_csv(\"../Database/output/ResultadosFFNN3.csv\",index=False)"
   ]
  }
 ],
 "metadata": {
  "kernelspec": {
   "display_name": "Python 3 (ipykernel)",
   "language": "python",
   "name": "python3"
  },
  "language_info": {
   "codemirror_mode": {
    "name": "ipython",
    "version": 3
   },
   "file_extension": ".py",
   "mimetype": "text/x-python",
   "name": "python",
   "nbconvert_exporter": "python",
   "pygments_lexer": "ipython3",
   "version": "3.9.7"
  },
  "varInspector": {
   "cols": {
    "lenName": 16,
    "lenType": 16,
    "lenVar": 40
   },
   "kernels_config": {
    "python": {
     "delete_cmd_postfix": "",
     "delete_cmd_prefix": "del ",
     "library": "var_list.py",
     "varRefreshCmd": "print(var_dic_list())"
    },
    "r": {
     "delete_cmd_postfix": ") ",
     "delete_cmd_prefix": "rm(",
     "library": "var_list.r",
     "varRefreshCmd": "cat(var_dic_list()) "
    }
   },
   "types_to_exclude": [
    "module",
    "function",
    "builtin_function_or_method",
    "instance",
    "_Feature"
   ],
   "window_display": false
  }
 },
 "nbformat": 4,
 "nbformat_minor": 5
}

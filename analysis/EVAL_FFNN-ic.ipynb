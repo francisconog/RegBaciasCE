{
 "cells": [
  {
   "cell_type": "markdown",
   "id": "4f8f0191",
   "metadata": {
    "id": "jisFLIcjkGun"
   },
   "source": [
    "# Regionalização de Bacias usando Redes Neurais"
   ]
  },
  {
   "cell_type": "code",
   "execution_count": 1,
   "id": "d422b3c4",
   "metadata": {
    "colab": {
     "base_uri": "https://localhost:8080/"
    },
    "id": "tTA-GiOpG6Fg",
    "outputId": "88635362-16a2-4fc5-f234-139b12cddd22"
   },
   "outputs": [],
   "source": [
    "# from google.colab import drive\n",
    "# drive.mount('/content/drive')\n",
    "# %%bash\n",
    "# cp -r /content/drive/\"My Drive\"/DEHA/RegBaciasCE /content\n",
    "# mkdir -p RegBaciasCE/src/models/NewFFNN3/CrossValid\n",
    "# nvidia-smi"
   ]
  },
  {
   "cell_type": "markdown",
   "id": "1a1a513c",
   "metadata": {
    "id": "Ewwti4M7kGu1"
   },
   "source": [
    "## Importing Packages"
   ]
  },
  {
   "cell_type": "code",
   "execution_count": 2,
   "id": "77791511",
   "metadata": {
    "id": "nGV77QPykGu2"
   },
   "outputs": [],
   "source": [
    "import sys\n",
    "sys.path.append(\"..\")\n",
    "sys.path.append(\"../src\")\n",
    "sys.path.append(\"../scripts\")\n",
    "sys.path.append(\"../database\")"
   ]
  },
  {
   "cell_type": "code",
   "execution_count": 3,
   "id": "8380b348",
   "metadata": {
    "id": "YJdiKjkzkGu7"
   },
   "outputs": [],
   "source": [
    "import pandas as pd\n",
    "import numpy as np\n",
    "import tensorflow as tf\n",
    "import os\n",
    "#from sklearn.model_selection import train_test_split\n",
    "from sklearn.preprocessing import StandardScaler, MinMaxScaler\n",
    "from funcoes_auxiliares import *\n",
    "from tqdm import tqdm\n",
    "from IPython.display import clear_output\n",
    "from sklearn.utils import shuffle\n",
    "import time\n",
    "import matplotlib.pyplot as plt\n"
   ]
  },
  {
   "cell_type": "code",
   "execution_count": 4,
   "id": "706d4b3b",
   "metadata": {
    "id": "DDR6XlU6kGu8"
   },
   "outputs": [],
   "source": [
    "from tensorflow.keras.layers import Input, Dense, Dropout\n",
    "from tensorflow.keras.models import Model\n",
    "\n",
    "from tensorflow.keras.optimizers import Adam, Nadam, RMSprop"
   ]
  },
  {
   "cell_type": "code",
   "execution_count": 5,
   "id": "b8d792c0",
   "metadata": {
    "id": "h8yK4NP-kGu8"
   },
   "outputs": [],
   "source": [
    "pd.options.display.max_columns = 999\n",
    "\n",
    "import warnings\n",
    "\n",
    "warnings.filterwarnings('ignore')\n"
   ]
  },
  {
   "cell_type": "code",
   "execution_count": 6,
   "id": "ca2b2fbd",
   "metadata": {
    "id": "rjcZv4kuxXuQ"
   },
   "outputs": [],
   "source": [
    "bacias_com_problema = [36220000]"
   ]
  },
  {
   "cell_type": "code",
   "execution_count": 7,
   "id": "8d2df6e7",
   "metadata": {
    "colab": {
     "base_uri": "https://localhost:8080/",
     "height": 214
    },
    "id": "rxfZu1tckGu9",
    "outputId": "9b2e29af-39af-4073-b6a4-4afeedecb7a6"
   },
   "outputs": [
    {
     "name": "stdout",
     "output_type": "stream",
     "text": [
      "9697\n"
     ]
    },
    {
     "data": {
      "text/html": [
       "<div>\n",
       "<style scoped>\n",
       "    .dataframe tbody tr th:only-of-type {\n",
       "        vertical-align: middle;\n",
       "    }\n",
       "\n",
       "    .dataframe tbody tr th {\n",
       "        vertical-align: top;\n",
       "    }\n",
       "\n",
       "    .dataframe thead th {\n",
       "        text-align: right;\n",
       "    }\n",
       "</style>\n",
       "<table border=\"1\" class=\"dataframe\">\n",
       "  <thead>\n",
       "    <tr style=\"text-align: right;\">\n",
       "      <th></th>\n",
       "      <th>Estações ANA</th>\n",
       "      <th>Declividade - D (%)</th>\n",
       "      <th>Comprimento do rio principal - CT (km)</th>\n",
       "      <th>Área de contribuição da estação fluviométrica - A (km2)</th>\n",
       "      <th>Perímetro da área de contribuição da estação fluviométrica - P (km)</th>\n",
       "      <th>Comprimento total de drenagem - CTD (km)</th>\n",
       "      <th>Densidade de drenagem - DD (km-1)</th>\n",
       "      <th>Curve number médio – CN (mm)</th>\n",
       "      <th>Parcela da bacia no cristalino - Cr</th>\n",
       "      <th>E_0</th>\n",
       "      <th>P_5</th>\n",
       "      <th>P_4</th>\n",
       "      <th>P_3</th>\n",
       "      <th>P_2</th>\n",
       "      <th>P_1</th>\n",
       "      <th>P_0</th>\n",
       "      <th>Q_0</th>\n",
       "    </tr>\n",
       "  </thead>\n",
       "  <tbody>\n",
       "    <tr>\n",
       "      <th>0</th>\n",
       "      <td>34730000</td>\n",
       "      <td>0.069435</td>\n",
       "      <td>64319.016213</td>\n",
       "      <td>897.371509</td>\n",
       "      <td>211.282396</td>\n",
       "      <td>528.790311</td>\n",
       "      <td>0.589266</td>\n",
       "      <td>56.773914</td>\n",
       "      <td>0.0</td>\n",
       "      <td>130.000000</td>\n",
       "      <td>5.1173</td>\n",
       "      <td>7.3561</td>\n",
       "      <td>31.818</td>\n",
       "      <td>133.230</td>\n",
       "      <td>66.066</td>\n",
       "      <td>204.2900</td>\n",
       "      <td>7.884968</td>\n",
       "    </tr>\n",
       "    <tr>\n",
       "      <th>1</th>\n",
       "      <td>34730000</td>\n",
       "      <td>0.069435</td>\n",
       "      <td>64319.016213</td>\n",
       "      <td>897.371509</td>\n",
       "      <td>211.282396</td>\n",
       "      <td>528.790311</td>\n",
       "      <td>0.589266</td>\n",
       "      <td>56.773914</td>\n",
       "      <td>0.0</td>\n",
       "      <td>118.000000</td>\n",
       "      <td>7.3561</td>\n",
       "      <td>31.8180</td>\n",
       "      <td>133.230</td>\n",
       "      <td>66.066</td>\n",
       "      <td>204.290</td>\n",
       "      <td>135.7800</td>\n",
       "      <td>6.138600</td>\n",
       "    </tr>\n",
       "    <tr>\n",
       "      <th>2</th>\n",
       "      <td>34730000</td>\n",
       "      <td>0.069435</td>\n",
       "      <td>64319.016213</td>\n",
       "      <td>897.371509</td>\n",
       "      <td>211.282396</td>\n",
       "      <td>528.790311</td>\n",
       "      <td>0.589266</td>\n",
       "      <td>56.773914</td>\n",
       "      <td>0.0</td>\n",
       "      <td>121.889904</td>\n",
       "      <td>31.8180</td>\n",
       "      <td>133.2300</td>\n",
       "      <td>66.066</td>\n",
       "      <td>204.290</td>\n",
       "      <td>135.780</td>\n",
       "      <td>142.9200</td>\n",
       "      <td>3.870129</td>\n",
       "    </tr>\n",
       "    <tr>\n",
       "      <th>3</th>\n",
       "      <td>34730000</td>\n",
       "      <td>0.069435</td>\n",
       "      <td>64319.016213</td>\n",
       "      <td>897.371509</td>\n",
       "      <td>211.282396</td>\n",
       "      <td>528.790311</td>\n",
       "      <td>0.589266</td>\n",
       "      <td>56.773914</td>\n",
       "      <td>0.0</td>\n",
       "      <td>129.330288</td>\n",
       "      <td>133.2300</td>\n",
       "      <td>66.0660</td>\n",
       "      <td>204.290</td>\n",
       "      <td>135.780</td>\n",
       "      <td>142.920</td>\n",
       "      <td>12.5080</td>\n",
       "      <td>2.136953</td>\n",
       "    </tr>\n",
       "    <tr>\n",
       "      <th>4</th>\n",
       "      <td>34730000</td>\n",
       "      <td>0.069435</td>\n",
       "      <td>64319.016213</td>\n",
       "      <td>897.371509</td>\n",
       "      <td>211.282396</td>\n",
       "      <td>528.790311</td>\n",
       "      <td>0.589266</td>\n",
       "      <td>56.773914</td>\n",
       "      <td>0.0</td>\n",
       "      <td>151.559616</td>\n",
       "      <td>66.0660</td>\n",
       "      <td>204.2900</td>\n",
       "      <td>135.780</td>\n",
       "      <td>142.920</td>\n",
       "      <td>12.508</td>\n",
       "      <td>3.0347</td>\n",
       "      <td>1.040503</td>\n",
       "    </tr>\n",
       "  </tbody>\n",
       "</table>\n",
       "</div>"
      ],
      "text/plain": [
       "   Estações ANA  Declividade - D (%)  Comprimento do rio principal - CT (km)  \\\n",
       "0      34730000             0.069435                            64319.016213   \n",
       "1      34730000             0.069435                            64319.016213   \n",
       "2      34730000             0.069435                            64319.016213   \n",
       "3      34730000             0.069435                            64319.016213   \n",
       "4      34730000             0.069435                            64319.016213   \n",
       "\n",
       "   Área de contribuição da estação fluviométrica - A (km2)  \\\n",
       "0                                         897.371509         \n",
       "1                                         897.371509         \n",
       "2                                         897.371509         \n",
       "3                                         897.371509         \n",
       "4                                         897.371509         \n",
       "\n",
       "   Perímetro da área de contribuição da estação fluviométrica - P (km)  \\\n",
       "0                                         211.282396                     \n",
       "1                                         211.282396                     \n",
       "2                                         211.282396                     \n",
       "3                                         211.282396                     \n",
       "4                                         211.282396                     \n",
       "\n",
       "   Comprimento total de drenagem - CTD (km)  \\\n",
       "0                                528.790311   \n",
       "1                                528.790311   \n",
       "2                                528.790311   \n",
       "3                                528.790311   \n",
       "4                                528.790311   \n",
       "\n",
       "   Densidade de drenagem - DD (km-1)  Curve number médio – CN (mm)  \\\n",
       "0                           0.589266                     56.773914   \n",
       "1                           0.589266                     56.773914   \n",
       "2                           0.589266                     56.773914   \n",
       "3                           0.589266                     56.773914   \n",
       "4                           0.589266                     56.773914   \n",
       "\n",
       "   Parcela da bacia no cristalino - Cr         E_0       P_5       P_4  \\\n",
       "0                                  0.0  130.000000    5.1173    7.3561   \n",
       "1                                  0.0  118.000000    7.3561   31.8180   \n",
       "2                                  0.0  121.889904   31.8180  133.2300   \n",
       "3                                  0.0  129.330288  133.2300   66.0660   \n",
       "4                                  0.0  151.559616   66.0660  204.2900   \n",
       "\n",
       "       P_3      P_2      P_1       P_0       Q_0  \n",
       "0   31.818  133.230   66.066  204.2900  7.884968  \n",
       "1  133.230   66.066  204.290  135.7800  6.138600  \n",
       "2   66.066  204.290  135.780  142.9200  3.870129  \n",
       "3  204.290  135.780  142.920   12.5080  2.136953  \n",
       "4  135.780  142.920   12.508    3.0347  1.040503  "
      ]
     },
     "execution_count": 7,
     "metadata": {},
     "output_type": "execute_result"
    }
   ],
   "source": [
    "# Loading the data\n",
    "dados = pd.read_csv(\"../database/Formated inputs/NewLSTMData.csv\").query(f\"`Estações ANA` not in {bacias_com_problema}\")\\\n",
    "                                .reset_index(drop=True)\n",
    "\n",
    "# Get all basins by name and sort it\n",
    "bacias = list(set(dados['Estações ANA']))\n",
    "bacias.sort()\n",
    "\n",
    "# Print the number instances\n",
    "print(len(dados))\n",
    "dados.head()"
   ]
  },
  {
   "cell_type": "code",
   "execution_count": 8,
   "id": "60301920",
   "metadata": {
    "id": "RxcfY6r6F4hq"
   },
   "outputs": [],
   "source": [
    "drop_columns = ['Estações ANA',\n",
    "                'Declividade - D (%)',\n",
    "                'Área de contribuição da estação fluviométrica - A (km2)',\n",
    "                'Comprimento total de drenagem - CTD (km)',\n",
    "                'Curve number médio – CN (mm)', 'Parcela da bacia no cristalino - Cr',\n",
    "                # 'Comprimento do rio principal - CT (km)',\n",
    "                'Comprimento total de drenagem - CTD (km)',\n",
    "                'Perímetro da área de contribuição da estação fluviométrica - P (km)',\n",
    "                'Densidade de drenagem - DD (km-1)',\n",
    "                'E_2', 'E_1', 'Q_2', 'Q_1', \n",
    "                'Q_0']\n",
    "\n",
    "\n",
    "columns = [\n",
    "        'P_5', 'P_4', 'P_3', \n",
    "        'P_2', 'P_1', 'P_0',\n",
    " \n",
    "]"
   ]
  },
  {
   "cell_type": "code",
   "execution_count": 9,
   "id": "9289148e",
   "metadata": {
    "id": "hF6S4WsiF5HS"
   },
   "outputs": [],
   "source": [
    "\n",
    "col = columns#[::-1]\n",
    "X = dados[col]\n",
    "Y = dados['Q_0'].values\n",
    "\n",
    "\n",
    "scaler = MinMaxScaler()\n",
    "X = scaler.fit_transform(X)\n",
    "X = pd.DataFrame(X,columns=columns)"
   ]
  },
  {
   "cell_type": "code",
   "execution_count": 10,
   "id": "6cf63f1e",
   "metadata": {
    "colab": {
     "base_uri": "https://localhost:8080/",
     "height": 232
    },
    "id": "bd8AR2cBMo8S",
    "outputId": "9b6316f0-c2d1-41cb-cf0a-379b26bc08c5"
   },
   "outputs": [
    {
     "name": "stdout",
     "output_type": "stream",
     "text": [
      "9697\n"
     ]
    },
    {
     "data": {
      "text/html": [
       "<div>\n",
       "<style scoped>\n",
       "    .dataframe tbody tr th:only-of-type {\n",
       "        vertical-align: middle;\n",
       "    }\n",
       "\n",
       "    .dataframe tbody tr th {\n",
       "        vertical-align: top;\n",
       "    }\n",
       "\n",
       "    .dataframe thead th {\n",
       "        text-align: right;\n",
       "    }\n",
       "</style>\n",
       "<table border=\"1\" class=\"dataframe\">\n",
       "  <thead>\n",
       "    <tr style=\"text-align: right;\">\n",
       "      <th></th>\n",
       "      <th>P_5</th>\n",
       "      <th>P_4</th>\n",
       "      <th>P_3</th>\n",
       "      <th>P_2</th>\n",
       "      <th>P_1</th>\n",
       "      <th>P_0</th>\n",
       "    </tr>\n",
       "  </thead>\n",
       "  <tbody>\n",
       "    <tr>\n",
       "      <th>0</th>\n",
       "      <td>0.007794</td>\n",
       "      <td>0.011204</td>\n",
       "      <td>0.048463</td>\n",
       "      <td>0.203116</td>\n",
       "      <td>0.107835</td>\n",
       "      <td>0.333448</td>\n",
       "    </tr>\n",
       "    <tr>\n",
       "      <th>1</th>\n",
       "      <td>0.011204</td>\n",
       "      <td>0.048463</td>\n",
       "      <td>0.202927</td>\n",
       "      <td>0.100721</td>\n",
       "      <td>0.333448</td>\n",
       "      <td>0.221624</td>\n",
       "    </tr>\n",
       "    <tr>\n",
       "      <th>2</th>\n",
       "      <td>0.048463</td>\n",
       "      <td>0.202927</td>\n",
       "      <td>0.100628</td>\n",
       "      <td>0.311451</td>\n",
       "      <td>0.221624</td>\n",
       "      <td>0.233278</td>\n",
       "    </tr>\n",
       "    <tr>\n",
       "      <th>3</th>\n",
       "      <td>0.202927</td>\n",
       "      <td>0.100628</td>\n",
       "      <td>0.311162</td>\n",
       "      <td>0.207004</td>\n",
       "      <td>0.233278</td>\n",
       "      <td>0.020416</td>\n",
       "    </tr>\n",
       "    <tr>\n",
       "      <th>4</th>\n",
       "      <td>0.100628</td>\n",
       "      <td>0.311162</td>\n",
       "      <td>0.206811</td>\n",
       "      <td>0.217889</td>\n",
       "      <td>0.020416</td>\n",
       "      <td>0.004953</td>\n",
       "    </tr>\n",
       "  </tbody>\n",
       "</table>\n",
       "</div>"
      ],
      "text/plain": [
       "        P_5       P_4       P_3       P_2       P_1       P_0\n",
       "0  0.007794  0.011204  0.048463  0.203116  0.107835  0.333448\n",
       "1  0.011204  0.048463  0.202927  0.100721  0.333448  0.221624\n",
       "2  0.048463  0.202927  0.100628  0.311451  0.221624  0.233278\n",
       "3  0.202927  0.100628  0.311162  0.207004  0.233278  0.020416\n",
       "4  0.100628  0.311162  0.206811  0.217889  0.020416  0.004953"
      ]
     },
     "execution_count": 10,
     "metadata": {},
     "output_type": "execute_result"
    }
   ],
   "source": [
    "print(len(X))\n",
    "X.head()"
   ]
  },
  {
   "cell_type": "markdown",
   "id": "c5b11320",
   "metadata": {
    "id": "8DhSQyIYkGvC"
   },
   "source": [
    "### Definição do modelo"
   ]
  },
  {
   "cell_type": "code",
   "execution_count": 11,
   "id": "a8d28180",
   "metadata": {
    "id": "pT1P88INGxVd"
   },
   "outputs": [
    {
     "name": "stdout",
     "output_type": "stream",
     "text": [
      "SEED: 6000\n"
     ]
    }
   ],
   "source": [
    "# Parâmetros\n",
    "INIT_LR = 0.001\n",
    "EPOCHS = 250\n",
    "BS = 64  # Diminua o tamanho dos lotes se você não tiver memória suficiente\n",
    "\n",
    "SEEDS = [1500, 4, 30, 6000, 400, 648, 900,10000, 2000, 5432]\n",
    "SEED=SEEDS[3]\n",
    "print(\"SEED: %s\" % SEED)\n",
    "\n",
    "n_input = X.shape[1]\n",
    "n_classes = 1\n",
    "\n",
    "n_h1 = 30\n",
    "n_h2 = n_h1\n",
    "\n"
   ]
  },
  {
   "cell_type": "code",
   "execution_count": 12,
   "id": "8a9ddc07",
   "metadata": {
    "colab": {
     "base_uri": "https://localhost:8080/"
    },
    "id": "GCciApYnGxVk",
    "outputId": "7fb66ce5-ec24-4300-c956-cf7ab2c83459"
   },
   "outputs": [
    {
     "name": "stdout",
     "output_type": "stream",
     "text": [
      "Model: \"model\"\n",
      "_________________________________________________________________\n",
      " Layer (type)                Output Shape              Param #   \n",
      "=================================================================\n",
      " main_input (InputLayer)     [(None, 6)]               0         \n",
      "                                                                 \n",
      " hidden_layer1 (Dense)       (None, 30)                210       \n",
      "                                                                 \n",
      " hidden_layer2 (Dense)       (None, 30)                930       \n",
      "                                                                 \n",
      " streamflow (Dense)          (None, 1)                 31        \n",
      "                                                                 \n",
      "=================================================================\n",
      "Total params: 1,171\n",
      "Trainable params: 1,171\n",
      "Non-trainable params: 0\n",
      "_________________________________________________________________\n"
     ]
    },
    {
     "name": "stderr",
     "output_type": "stream",
     "text": [
      "2022-02-22 15:07:02.166964: I tensorflow/core/platform/cpu_feature_guard.cc:151] This TensorFlow binary is optimized with oneAPI Deep Neural Network Library (oneDNN) to use the following CPU instructions in performance-critical operations:  AVX2 FMA\n",
      "To enable them in other operations, rebuild TensorFlow with the appropriate compiler flags.\n"
     ]
    }
   ],
   "source": [
    "# Defining model\n",
    "# Input Layer\n",
    "main_input = Input(shape = (n_input,),dtype='float32', name='main_input')\n",
    "\n",
    "# FFNN Layers (a.k.a Dense Layers)\n",
    "x = Dense(n_h1,activation ='relu',name='hidden_layer1')(main_input)\n",
    "x = Dense(n_h2,activation ='relu',name='hidden_layer2')(x)\n",
    "\n",
    "# Output Layer\n",
    "y = Dense(1,activation ='linear',name='streamflow')(x)\n",
    "\n",
    "\n",
    "np.random.seed(SEED)\n",
    "tf.random.set_seed(SEED)\n",
    "model = Model(inputs=[main_input], outputs=[y])\n",
    "\n",
    "model.summary()"
   ]
  },
  {
   "cell_type": "code",
   "execution_count": 13,
   "id": "bcbfef05",
   "metadata": {},
   "outputs": [],
   "source": [
    "# Choosing the optmizer\n",
    "opt = RMSprop(learning_rate=INIT_LR)\n"
   ]
  },
  {
   "cell_type": "code",
   "execution_count": 14,
   "id": "d3eacc82",
   "metadata": {
    "id": "_mAMoeND6KyC"
   },
   "outputs": [],
   "source": [
    "metrics = NSE_K\n",
    "loss = RMSE_Keras"
   ]
  },
  {
   "cell_type": "code",
   "execution_count": 15,
   "id": "f69a6e94",
   "metadata": {
    "id": "ScMlV5dzXmN0"
   },
   "outputs": [],
   "source": [
    "relu = lambda x: max(x,0)"
   ]
  },
  {
   "cell_type": "code",
   "execution_count": 16,
   "id": "dd1ad00d",
   "metadata": {},
   "outputs": [],
   "source": [
    "if col == columns:\n",
    "    # New\n",
    "    model_dir = '../src/models/FFNN_ic/CrossValid_SEED_906_NSE_0724'\n",
    "    model_code = '-ic_'\n",
    "    model_base_name = \"weights.NewFFN%s%d.hdf5\"    \n",
    "else:\n",
    "    # Old\n",
    "    model_dir = '../src/models/FFNN_ic/CrossValid_SEED_RANDOM_NSE_?'\n",
    "    model_code = '_IC'\n",
    "    model_base_name = 'weights.FFN%s%d.hdf5'\n"
   ]
  },
  {
   "cell_type": "code",
   "execution_count": 17,
   "id": "f08aae17",
   "metadata": {
    "colab": {
     "base_uri": "https://localhost:8080/"
    },
    "id": "KqdznqLZGxVp",
    "outputId": "69fcaf11-8956-4767-d083-abfeffb2e8cc",
    "scrolled": false
   },
   "outputs": [
    {
     "name": "stdout",
     "output_type": "stream",
     "text": [
      "WARNING:tensorflow:5 out of the last 10 calls to <function Model.make_predict_function.<locals>.predict_function at 0x7fc897b630d0> triggered tf.function retracing. Tracing is expensive and the excessive number of tracings could be due to (1) creating @tf.function repeatedly in a loop, (2) passing tensors with different shapes, (3) passing Python objects instead of tensors. For (1), please define your @tf.function outside of the loop. For (2), @tf.function has experimental_relax_shapes=True option that relaxes argument shapes that can avoid unnecessary retracing. For (3), please refer to https://www.tensorflow.org/guide/function#controlling_retracing and https://www.tensorflow.org/api_docs/python/tf/function for  more details.\n",
      "WARNING:tensorflow:6 out of the last 13 calls to <function Model.make_predict_function.<locals>.predict_function at 0x7fc897b94040> triggered tf.function retracing. Tracing is expensive and the excessive number of tracings could be due to (1) creating @tf.function repeatedly in a loop, (2) passing tensors with different shapes, (3) passing Python objects instead of tensors. For (1), please define your @tf.function outside of the loop. For (2), @tf.function has experimental_relax_shapes=True option that relaxes argument shapes that can avoid unnecessary retracing. For (3), please refer to https://www.tensorflow.org/guide/function#controlling_retracing and https://www.tensorflow.org/api_docs/python/tf/function for  more details.\n"
     ]
    },
    {
     "data": {
      "text/html": [
       "<div>\n",
       "<style scoped>\n",
       "    .dataframe tbody tr th:only-of-type {\n",
       "        vertical-align: middle;\n",
       "    }\n",
       "\n",
       "    .dataframe tbody tr th {\n",
       "        vertical-align: top;\n",
       "    }\n",
       "\n",
       "    .dataframe thead th {\n",
       "        text-align: right;\n",
       "    }\n",
       "</style>\n",
       "<table border=\"1\" class=\"dataframe\">\n",
       "  <thead>\n",
       "    <tr style=\"text-align: right;\">\n",
       "      <th></th>\n",
       "      <th>Bacia</th>\n",
       "      <th>Observacoes</th>\n",
       "      <th>NSE</th>\n",
       "      <th>Cor</th>\n",
       "      <th>RMSE</th>\n",
       "    </tr>\n",
       "  </thead>\n",
       "  <tbody>\n",
       "    <tr>\n",
       "      <th>0</th>\n",
       "      <td>34730000</td>\n",
       "      <td>95</td>\n",
       "      <td>0.191834</td>\n",
       "      <td>0.748664</td>\n",
       "      <td>2.977733</td>\n",
       "    </tr>\n",
       "    <tr>\n",
       "      <th>1</th>\n",
       "      <td>34740000</td>\n",
       "      <td>19</td>\n",
       "      <td>0.198764</td>\n",
       "      <td>0.883080</td>\n",
       "      <td>3.039781</td>\n",
       "    </tr>\n",
       "    <tr>\n",
       "      <th>2</th>\n",
       "      <td>34750000</td>\n",
       "      <td>103</td>\n",
       "      <td>0.746883</td>\n",
       "      <td>0.923588</td>\n",
       "      <td>28.508029</td>\n",
       "    </tr>\n",
       "    <tr>\n",
       "      <th>3</th>\n",
       "      <td>35050000</td>\n",
       "      <td>23</td>\n",
       "      <td>0.680192</td>\n",
       "      <td>0.941980</td>\n",
       "      <td>2.762621</td>\n",
       "    </tr>\n",
       "    <tr>\n",
       "      <th>4</th>\n",
       "      <td>35125000</td>\n",
       "      <td>66</td>\n",
       "      <td>0.895971</td>\n",
       "      <td>0.971255</td>\n",
       "      <td>7.200379</td>\n",
       "    </tr>\n",
       "    <tr>\n",
       "      <th>5</th>\n",
       "      <td>35170000</td>\n",
       "      <td>93</td>\n",
       "      <td>0.939170</td>\n",
       "      <td>0.974722</td>\n",
       "      <td>10.069301</td>\n",
       "    </tr>\n",
       "    <tr>\n",
       "      <th>6</th>\n",
       "      <td>35210000</td>\n",
       "      <td>116</td>\n",
       "      <td>0.910415</td>\n",
       "      <td>0.958564</td>\n",
       "      <td>6.032973</td>\n",
       "    </tr>\n",
       "    <tr>\n",
       "      <th>7</th>\n",
       "      <td>35223000</td>\n",
       "      <td>26</td>\n",
       "      <td>0.069154</td>\n",
       "      <td>0.800922</td>\n",
       "      <td>156.259460</td>\n",
       "    </tr>\n",
       "    <tr>\n",
       "      <th>8</th>\n",
       "      <td>35240000</td>\n",
       "      <td>85</td>\n",
       "      <td>0.454520</td>\n",
       "      <td>0.830572</td>\n",
       "      <td>23.229543</td>\n",
       "    </tr>\n",
       "    <tr>\n",
       "      <th>9</th>\n",
       "      <td>35260000</td>\n",
       "      <td>101</td>\n",
       "      <td>0.769886</td>\n",
       "      <td>0.928661</td>\n",
       "      <td>14.157797</td>\n",
       "    </tr>\n",
       "    <tr>\n",
       "      <th>10</th>\n",
       "      <td>35263000</td>\n",
       "      <td>58</td>\n",
       "      <td>0.789732</td>\n",
       "      <td>0.950263</td>\n",
       "      <td>2.210452</td>\n",
       "    </tr>\n",
       "    <tr>\n",
       "      <th>11</th>\n",
       "      <td>35668000</td>\n",
       "      <td>64</td>\n",
       "      <td>0.334591</td>\n",
       "      <td>0.970013</td>\n",
       "      <td>1.744988</td>\n",
       "    </tr>\n",
       "    <tr>\n",
       "      <th>12</th>\n",
       "      <td>35880000</td>\n",
       "      <td>58</td>\n",
       "      <td>0.047857</td>\n",
       "      <td>0.713169</td>\n",
       "      <td>10.323819</td>\n",
       "    </tr>\n",
       "    <tr>\n",
       "      <th>13</th>\n",
       "      <td>35950000</td>\n",
       "      <td>78</td>\n",
       "      <td>0.881161</td>\n",
       "      <td>0.947741</td>\n",
       "      <td>3.197794</td>\n",
       "    </tr>\n",
       "    <tr>\n",
       "      <th>14</th>\n",
       "      <td>36020000</td>\n",
       "      <td>152</td>\n",
       "      <td>0.543883</td>\n",
       "      <td>0.738281</td>\n",
       "      <td>19.288931</td>\n",
       "    </tr>\n",
       "    <tr>\n",
       "      <th>15</th>\n",
       "      <td>36125000</td>\n",
       "      <td>88</td>\n",
       "      <td>0.747624</td>\n",
       "      <td>0.938209</td>\n",
       "      <td>9.079931</td>\n",
       "    </tr>\n",
       "    <tr>\n",
       "      <th>16</th>\n",
       "      <td>36130000</td>\n",
       "      <td>61</td>\n",
       "      <td>0.823474</td>\n",
       "      <td>0.971118</td>\n",
       "      <td>10.567179</td>\n",
       "    </tr>\n",
       "    <tr>\n",
       "      <th>17</th>\n",
       "      <td>36160000</td>\n",
       "      <td>202</td>\n",
       "      <td>0.743008</td>\n",
       "      <td>0.907498</td>\n",
       "      <td>22.939377</td>\n",
       "    </tr>\n",
       "    <tr>\n",
       "      <th>18</th>\n",
       "      <td>36210000</td>\n",
       "      <td>87</td>\n",
       "      <td>0.743891</td>\n",
       "      <td>0.894504</td>\n",
       "      <td>4.242970</td>\n",
       "    </tr>\n",
       "    <tr>\n",
       "      <th>19</th>\n",
       "      <td>36250000</td>\n",
       "      <td>91</td>\n",
       "      <td>0.917891</td>\n",
       "      <td>0.958949</td>\n",
       "      <td>3.987645</td>\n",
       "    </tr>\n",
       "    <tr>\n",
       "      <th>20</th>\n",
       "      <td>36270000</td>\n",
       "      <td>35</td>\n",
       "      <td>-0.871368</td>\n",
       "      <td>0.818945</td>\n",
       "      <td>38.997905</td>\n",
       "    </tr>\n",
       "    <tr>\n",
       "      <th>21</th>\n",
       "      <td>36290000</td>\n",
       "      <td>122</td>\n",
       "      <td>0.961197</td>\n",
       "      <td>0.980791</td>\n",
       "      <td>12.413869</td>\n",
       "    </tr>\n",
       "    <tr>\n",
       "      <th>22</th>\n",
       "      <td>36470000</td>\n",
       "      <td>55</td>\n",
       "      <td>0.878316</td>\n",
       "      <td>0.963051</td>\n",
       "      <td>6.545419</td>\n",
       "    </tr>\n",
       "    <tr>\n",
       "      <th>23</th>\n",
       "      <td>36520000</td>\n",
       "      <td>71</td>\n",
       "      <td>0.890573</td>\n",
       "      <td>0.951170</td>\n",
       "      <td>10.718105</td>\n",
       "    </tr>\n",
       "  </tbody>\n",
       "</table>\n",
       "</div>"
      ],
      "text/plain": [
       "       Bacia  Observacoes       NSE       Cor        RMSE\n",
       "0   34730000           95  0.191834  0.748664    2.977733\n",
       "1   34740000           19  0.198764  0.883080    3.039781\n",
       "2   34750000          103  0.746883  0.923588   28.508029\n",
       "3   35050000           23  0.680192  0.941980    2.762621\n",
       "4   35125000           66  0.895971  0.971255    7.200379\n",
       "5   35170000           93  0.939170  0.974722   10.069301\n",
       "6   35210000          116  0.910415  0.958564    6.032973\n",
       "7   35223000           26  0.069154  0.800922  156.259460\n",
       "8   35240000           85  0.454520  0.830572   23.229543\n",
       "9   35260000          101  0.769886  0.928661   14.157797\n",
       "10  35263000           58  0.789732  0.950263    2.210452\n",
       "11  35668000           64  0.334591  0.970013    1.744988\n",
       "12  35880000           58  0.047857  0.713169   10.323819\n",
       "13  35950000           78  0.881161  0.947741    3.197794\n",
       "14  36020000          152  0.543883  0.738281   19.288931\n",
       "15  36125000           88  0.747624  0.938209    9.079931\n",
       "16  36130000           61  0.823474  0.971118   10.567179\n",
       "17  36160000          202  0.743008  0.907498   22.939377\n",
       "18  36210000           87  0.743891  0.894504    4.242970\n",
       "19  36250000           91  0.917891  0.958949    3.987645\n",
       "20  36270000           35 -0.871368  0.818945   38.997905\n",
       "21  36290000          122  0.961197  0.980791   12.413869\n",
       "22  36470000           55  0.878316  0.963051    6.545419\n",
       "23  36520000           71  0.890573  0.951170   10.718105"
      ]
     },
     "execution_count": 17,
     "metadata": {},
     "output_type": "execute_result"
    }
   ],
   "source": [
    "nome, n_obs,nse, cor, rmse = [], [], [], [], []\n",
    "\n",
    "for bacia in bacias:\n",
    "    idx = dados['Estações ANA'] == bacia\n",
    "\n",
    "    X_, y_ = X[idx], Y[idx]\n",
    "    X_teste, Y_teste = X_[int(0.8*len(X_)):], y_[int(0.8*len(y_)):]\n",
    "    X_treino, Y_treino = X_[:int(0.8*len(X_))], y_[:int(0.8*len(y_))]\n",
    "    \n",
    "    model.load_weights(os.path.join(model_dir,model_base_name%(model_code,bacia)))\n",
    "    model.compile(loss=[loss],optimizer = opt,\n",
    "                metrics=[metrics])\n",
    "\n",
    "\n",
    "    Y_ = model.predict(X_teste)\n",
    "\n",
    "    Y_Prev = np.vectorize(relu)(Y_)\n",
    "\n",
    "\n",
    "    Y_test = np.expand_dims(Y_teste,1)\n",
    "\n",
    "    k_ = np.mean(Y_test) / np.mean(Y_Prev)\n",
    "\n",
    "    nome.append(bacia)\n",
    "    cor.append(np.corrcoef(Y_Prev.T,Y_test.T)[1][0])\n",
    "    rmse.append(RMSE(Y_test,Y_Prev))\n",
    "    nse.append(NASH(Y_test,Y_Prev))\n",
    "    n_obs.append(len(Y_teste))\n",
    "\n",
    "\n",
    "pd.DataFrame({\"Bacia\":nome, \"Observacoes\":n_obs, \"NSE\":nse,\"Cor\": cor,\"RMSE\": rmse})"
   ]
  },
  {
   "cell_type": "markdown",
   "id": "aa3d4e15",
   "metadata": {},
   "source": [
    "### Performance dos modelos"
   ]
  },
  {
   "cell_type": "code",
   "execution_count": 18,
   "id": "26d57ef7",
   "metadata": {
    "id": "GhKHk5EqGxV5"
   },
   "outputs": [],
   "source": [
    "results = pd.DataFrame({\"Bacia\":nome, \"Observacoes\":n_obs, \"NSE\":nse,\"Cor\": cor,\"RMSE\": rmse})\n"
   ]
  },
  {
   "cell_type": "code",
   "execution_count": 19,
   "id": "c99b0d83",
   "metadata": {
    "id": "PpZtCFdcyFDe"
   },
   "outputs": [
    {
     "data": {
      "text/plain": [
       "0.6316660867736277"
      ]
     },
     "execution_count": 19,
     "metadata": {},
     "output_type": "execute_result"
    }
   ],
   "source": [
    "results[\"NSE\"].apply(relu).mean()#[results.Bacia != 36220000]\n"
   ]
  },
  {
   "cell_type": "code",
   "execution_count": 20,
   "id": "cf047cfa",
   "metadata": {
    "id": "56P1yXOrzFA8"
   },
   "outputs": [
    {
     "data": {
      "text/plain": [
       "0.6445823734581492"
      ]
     },
     "execution_count": 20,
     "metadata": {},
     "output_type": "execute_result"
    }
   ],
   "source": [
    "results[results[\"Bacia\"] != 35668000][\"NSE\"].apply(relu).mean()\n",
    "\n",
    "results.query(f\"\"\"Bacia not in {bacias_com_problema+[35668000]}\"\"\")[\"NSE\"].apply(relu).mean()"
   ]
  },
  {
   "cell_type": "code",
   "execution_count": 21,
   "id": "b9f1da20",
   "metadata": {
    "id": "05apPaNb0Oxv"
   },
   "outputs": [
    {
     "data": {
      "text/plain": [
       "0.7240447753636627"
      ]
     },
     "execution_count": 21,
     "metadata": {},
     "output_type": "execute_result"
    }
   ],
   "source": [
    "bacias_barros_2013 = (34750000, 35050000, 35125000, 35170000, 35210000,\n",
    "                      35260000, 35263000, 35880000, 35950000, 36020000,\n",
    "                      36125000, 36130000, 36160000, 36210000, 36250000,\n",
    "                      36270000, 36290000, 36520000)\n",
    "results_barros_2013 = results.query(f\"\"\"Bacia in {bacias_barros_2013}\n",
    "\"\"\")[\"NSE\"].apply(relu).values.mean()\n",
    "\n",
    "\n",
    "results_barros_2013"
   ]
  },
  {
   "cell_type": "code",
   "execution_count": 22,
   "id": "1177eed9",
   "metadata": {},
   "outputs": [
    {
     "data": {
      "text/plain": [
       "0.7798090453487084"
      ]
     },
     "execution_count": 22,
     "metadata": {},
     "output_type": "execute_result"
    }
   ],
   "source": [
    "results.query(f\"\"\"Bacia in {bacias_barros_2013}\"\"\")[\"NSE\"]\\\n",
    "       .apply(relu)\\\n",
    "       .median()"
   ]
  },
  {
   "cell_type": "code",
   "execution_count": 24,
   "id": "edd51a77",
   "metadata": {},
   "outputs": [],
   "source": [
    "results.to_csv(\"../Database/output/Results/ResultadosFFNN_ic.csv\",index=False)"
   ]
  },
  {
   "cell_type": "code",
   "execution_count": null,
   "id": "39347691",
   "metadata": {},
   "outputs": [],
   "source": []
  }
 ],
 "metadata": {
  "kernelspec": {
   "display_name": "Python 3 (ipykernel)",
   "language": "python",
   "name": "python3"
  },
  "language_info": {
   "codemirror_mode": {
    "name": "ipython",
    "version": 3
   },
   "file_extension": ".py",
   "mimetype": "text/x-python",
   "name": "python",
   "nbconvert_exporter": "python",
   "pygments_lexer": "ipython3",
   "version": "3.9.7"
  },
  "varInspector": {
   "cols": {
    "lenName": 16,
    "lenType": 16,
    "lenVar": 40
   },
   "kernels_config": {
    "python": {
     "delete_cmd_postfix": "",
     "delete_cmd_prefix": "del ",
     "library": "var_list.py",
     "varRefreshCmd": "print(var_dic_list())"
    },
    "r": {
     "delete_cmd_postfix": ") ",
     "delete_cmd_prefix": "rm(",
     "library": "var_list.r",
     "varRefreshCmd": "cat(var_dic_list()) "
    }
   },
   "types_to_exclude": [
    "module",
    "function",
    "builtin_function_or_method",
    "instance",
    "_Feature"
   ],
   "window_display": false
  }
 },
 "nbformat": 4,
 "nbformat_minor": 5
}

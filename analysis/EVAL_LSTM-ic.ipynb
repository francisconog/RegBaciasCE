{
 "cells": [
  {
   "cell_type": "markdown",
   "id": "4f8f0191",
   "metadata": {
    "id": "jisFLIcjkGun"
   },
   "source": [
    "# Regionalização de Bacias usando Redes Neurais"
   ]
  },
  {
   "cell_type": "code",
   "execution_count": 1,
   "id": "d422b3c4",
   "metadata": {
    "colab": {
     "base_uri": "https://localhost:8080/"
    },
    "id": "tTA-GiOpG6Fg",
    "outputId": "88635362-16a2-4fc5-f234-139b12cddd22"
   },
   "outputs": [],
   "source": [
    "# from google.colab import drive\n",
    "# drive.mount('/content/drive')\n",
    "# %%bash\n",
    "# cp -r /content/drive/\"My Drive\"/DEHA/RegBaciasCE /content\n",
    "# mkdir -p RegBaciasCE/src/models/NewFFNN3/CrossValid\n",
    "# nvidia-smi"
   ]
  },
  {
   "cell_type": "markdown",
   "id": "1a1a513c",
   "metadata": {
    "id": "Ewwti4M7kGu1"
   },
   "source": [
    "## Importing Packages"
   ]
  },
  {
   "cell_type": "code",
   "execution_count": 2,
   "id": "77791511",
   "metadata": {
    "id": "nGV77QPykGu2"
   },
   "outputs": [],
   "source": [
    "import sys\n",
    "sys.path.append(\"..\")\n",
    "sys.path.append(\"../src\")\n",
    "sys.path.append(\"../scripts\")\n",
    "sys.path.append(\"../database\")"
   ]
  },
  {
   "cell_type": "code",
   "execution_count": 3,
   "id": "8380b348",
   "metadata": {
    "id": "YJdiKjkzkGu7"
   },
   "outputs": [],
   "source": [
    "import pandas as pd\n",
    "import numpy as np\n",
    "import tensorflow as tf\n",
    "import os\n",
    "#from sklearn.model_selection import train_test_split\n",
    "from sklearn.preprocessing import StandardScaler, MinMaxScaler\n",
    "from funcoes_auxiliares import *\n",
    "from tqdm import tqdm\n",
    "from IPython.display import clear_output\n",
    "from sklearn.utils import shuffle\n",
    "import time\n",
    "import matplotlib.pyplot as plt\n"
   ]
  },
  {
   "cell_type": "code",
   "execution_count": 4,
   "id": "706d4b3b",
   "metadata": {
    "id": "DDR6XlU6kGu8"
   },
   "outputs": [],
   "source": [
    "from tensorflow.keras.layers import Input, Dense, LSTM\n",
    "from tensorflow.keras.models import Model\n",
    "\n",
    "from tensorflow.keras.optimizers import Adam, Nadam, RMSprop"
   ]
  },
  {
   "cell_type": "code",
   "execution_count": 5,
   "id": "b8d792c0",
   "metadata": {
    "id": "h8yK4NP-kGu8"
   },
   "outputs": [],
   "source": [
    "pd.options.display.max_columns = 999\n",
    "\n",
    "import warnings\n",
    "\n",
    "warnings.filterwarnings('ignore')\n"
   ]
  },
  {
   "cell_type": "code",
   "execution_count": 6,
   "id": "ca2b2fbd",
   "metadata": {
    "id": "rjcZv4kuxXuQ"
   },
   "outputs": [],
   "source": [
    "bacias_com_problema = [36220000]"
   ]
  },
  {
   "cell_type": "code",
   "execution_count": 7,
   "id": "8d2df6e7",
   "metadata": {
    "colab": {
     "base_uri": "https://localhost:8080/",
     "height": 214
    },
    "id": "rxfZu1tckGu9",
    "outputId": "9b2e29af-39af-4073-b6a4-4afeedecb7a6"
   },
   "outputs": [
    {
     "name": "stdout",
     "output_type": "stream",
     "text": [
      "9700\n"
     ]
    },
    {
     "data": {
      "text/html": [
       "<div>\n",
       "<style scoped>\n",
       "    .dataframe tbody tr th:only-of-type {\n",
       "        vertical-align: middle;\n",
       "    }\n",
       "\n",
       "    .dataframe tbody tr th {\n",
       "        vertical-align: top;\n",
       "    }\n",
       "\n",
       "    .dataframe thead th {\n",
       "        text-align: right;\n",
       "    }\n",
       "</style>\n",
       "<table border=\"1\" class=\"dataframe\">\n",
       "  <thead>\n",
       "    <tr style=\"text-align: right;\">\n",
       "      <th></th>\n",
       "      <th>Estações ANA</th>\n",
       "      <th>Declividade - D (%)</th>\n",
       "      <th>Comprimento do rio principal - CT (km)</th>\n",
       "      <th>Área de contribuição da estação fluviométrica - A (km2)</th>\n",
       "      <th>Perímetro da área de contribuição da estação fluviométrica - P (km)</th>\n",
       "      <th>Comprimento total de drenagem - CTD (km)</th>\n",
       "      <th>Densidade de drenagem - DD (km-1)</th>\n",
       "      <th>Curve number médio – CN (mm)</th>\n",
       "      <th>Parcela da bacia no cristalino - Cr</th>\n",
       "      <th>E_0</th>\n",
       "      <th>P_2</th>\n",
       "      <th>P_1</th>\n",
       "      <th>P_0</th>\n",
       "      <th>Q_0</th>\n",
       "    </tr>\n",
       "  </thead>\n",
       "  <tbody>\n",
       "    <tr>\n",
       "      <th>0</th>\n",
       "      <td>34730000</td>\n",
       "      <td>0.069435</td>\n",
       "      <td>64319.016213</td>\n",
       "      <td>897.371509</td>\n",
       "      <td>211.282396</td>\n",
       "      <td>528.790311</td>\n",
       "      <td>0.589266</td>\n",
       "      <td>56.773914</td>\n",
       "      <td>0.0</td>\n",
       "      <td>130.000000</td>\n",
       "      <td>133.230</td>\n",
       "      <td>66.066</td>\n",
       "      <td>204.2900</td>\n",
       "      <td>7.884968</td>\n",
       "    </tr>\n",
       "    <tr>\n",
       "      <th>1</th>\n",
       "      <td>34730000</td>\n",
       "      <td>0.069435</td>\n",
       "      <td>64319.016213</td>\n",
       "      <td>897.371509</td>\n",
       "      <td>211.282396</td>\n",
       "      <td>528.790311</td>\n",
       "      <td>0.589266</td>\n",
       "      <td>56.773914</td>\n",
       "      <td>0.0</td>\n",
       "      <td>118.000000</td>\n",
       "      <td>66.066</td>\n",
       "      <td>204.290</td>\n",
       "      <td>135.7800</td>\n",
       "      <td>6.138600</td>\n",
       "    </tr>\n",
       "    <tr>\n",
       "      <th>2</th>\n",
       "      <td>34730000</td>\n",
       "      <td>0.069435</td>\n",
       "      <td>64319.016213</td>\n",
       "      <td>897.371509</td>\n",
       "      <td>211.282396</td>\n",
       "      <td>528.790311</td>\n",
       "      <td>0.589266</td>\n",
       "      <td>56.773914</td>\n",
       "      <td>0.0</td>\n",
       "      <td>121.889904</td>\n",
       "      <td>204.290</td>\n",
       "      <td>135.780</td>\n",
       "      <td>142.9200</td>\n",
       "      <td>3.870129</td>\n",
       "    </tr>\n",
       "    <tr>\n",
       "      <th>3</th>\n",
       "      <td>34730000</td>\n",
       "      <td>0.069435</td>\n",
       "      <td>64319.016213</td>\n",
       "      <td>897.371509</td>\n",
       "      <td>211.282396</td>\n",
       "      <td>528.790311</td>\n",
       "      <td>0.589266</td>\n",
       "      <td>56.773914</td>\n",
       "      <td>0.0</td>\n",
       "      <td>129.330288</td>\n",
       "      <td>135.780</td>\n",
       "      <td>142.920</td>\n",
       "      <td>12.5080</td>\n",
       "      <td>2.136953</td>\n",
       "    </tr>\n",
       "    <tr>\n",
       "      <th>4</th>\n",
       "      <td>34730000</td>\n",
       "      <td>0.069435</td>\n",
       "      <td>64319.016213</td>\n",
       "      <td>897.371509</td>\n",
       "      <td>211.282396</td>\n",
       "      <td>528.790311</td>\n",
       "      <td>0.589266</td>\n",
       "      <td>56.773914</td>\n",
       "      <td>0.0</td>\n",
       "      <td>151.559616</td>\n",
       "      <td>142.920</td>\n",
       "      <td>12.508</td>\n",
       "      <td>3.0347</td>\n",
       "      <td>1.040503</td>\n",
       "    </tr>\n",
       "  </tbody>\n",
       "</table>\n",
       "</div>"
      ],
      "text/plain": [
       "   Estações ANA  Declividade - D (%)  Comprimento do rio principal - CT (km)  \\\n",
       "0      34730000             0.069435                            64319.016213   \n",
       "1      34730000             0.069435                            64319.016213   \n",
       "2      34730000             0.069435                            64319.016213   \n",
       "3      34730000             0.069435                            64319.016213   \n",
       "4      34730000             0.069435                            64319.016213   \n",
       "\n",
       "   Área de contribuição da estação fluviométrica - A (km2)  \\\n",
       "0                                         897.371509         \n",
       "1                                         897.371509         \n",
       "2                                         897.371509         \n",
       "3                                         897.371509         \n",
       "4                                         897.371509         \n",
       "\n",
       "   Perímetro da área de contribuição da estação fluviométrica - P (km)  \\\n",
       "0                                         211.282396                     \n",
       "1                                         211.282396                     \n",
       "2                                         211.282396                     \n",
       "3                                         211.282396                     \n",
       "4                                         211.282396                     \n",
       "\n",
       "   Comprimento total de drenagem - CTD (km)  \\\n",
       "0                                528.790311   \n",
       "1                                528.790311   \n",
       "2                                528.790311   \n",
       "3                                528.790311   \n",
       "4                                528.790311   \n",
       "\n",
       "   Densidade de drenagem - DD (km-1)  Curve number médio – CN (mm)  \\\n",
       "0                           0.589266                     56.773914   \n",
       "1                           0.589266                     56.773914   \n",
       "2                           0.589266                     56.773914   \n",
       "3                           0.589266                     56.773914   \n",
       "4                           0.589266                     56.773914   \n",
       "\n",
       "   Parcela da bacia no cristalino - Cr         E_0      P_2      P_1  \\\n",
       "0                                  0.0  130.000000  133.230   66.066   \n",
       "1                                  0.0  118.000000   66.066  204.290   \n",
       "2                                  0.0  121.889904  204.290  135.780   \n",
       "3                                  0.0  129.330288  135.780  142.920   \n",
       "4                                  0.0  151.559616  142.920   12.508   \n",
       "\n",
       "        P_0       Q_0  \n",
       "0  204.2900  7.884968  \n",
       "1  135.7800  6.138600  \n",
       "2  142.9200  3.870129  \n",
       "3   12.5080  2.136953  \n",
       "4    3.0347  1.040503  "
      ]
     },
     "execution_count": 7,
     "metadata": {},
     "output_type": "execute_result"
    }
   ],
   "source": [
    "# Loading the data\n",
    "# dados = pd.read_csv(\"../database/Formated inputs/NewLSTMData.csv\").query(f\"`Estações ANA` not in {bacias_com_problema}\")\\\n",
    "#                                 .reset_index(drop=True)\n",
    "dados = pd.read_csv(\"../database/Formated inputs/NewFFNNData.csv\").query(f\"`Estações ANA` not in {bacias_com_problema}\")\\\n",
    "                                .reset_index(drop=True)\n",
    "\n",
    "# Get all basins by name and sort it\n",
    "bacias = list(set(dados['Estações ANA']))\n",
    "bacias.sort()\n",
    "\n",
    "# Print the number instances\n",
    "print(len(dados))\n",
    "dados.head()"
   ]
  },
  {
   "cell_type": "code",
   "execution_count": 8,
   "id": "60301920",
   "metadata": {
    "id": "RxcfY6r6F4hq"
   },
   "outputs": [],
   "source": [
    "drop_columns = ['Estações ANA',\n",
    "                'Declividade - D (%)',\n",
    "                'Área de contribuição da estação fluviométrica - A (km2)',\n",
    "                'Comprimento total de drenagem - CTD (km)',\n",
    "                'Curve number médio – CN (mm)', 'Parcela da bacia no cristalino - Cr',\n",
    "                # 'Comprimento do rio principal - CT (km)',\n",
    "                'Comprimento total de drenagem - CTD (km)',\n",
    "                'Perímetro da área de contribuição da estação fluviométrica - P (km)',\n",
    "                'Densidade de drenagem - DD (km-1)',\n",
    "                'E_2', 'E_1', 'Q_2', 'Q_1', \n",
    "                'Q_0']\n",
    "\n",
    "\n",
    "columns = [\n",
    "#         'P_5', 'P_4', 'P_3', \n",
    "        'P_2', 'P_1', 'P_0'\n",
    "]\n"
   ]
  },
  {
   "cell_type": "code",
   "execution_count": 9,
   "id": "9289148e",
   "metadata": {
    "id": "hF6S4WsiF5HS"
   },
   "outputs": [],
   "source": [
    "\n",
    "col = columns#[::-1]\n",
    "X = dados[col]\n",
    "Y = dados['Q_0'].values\n",
    "\n",
    "\n",
    "scaler = MinMaxScaler()\n",
    "X = scaler.fit_transform(X)\n",
    "X = pd.DataFrame(X,columns=columns)"
   ]
  },
  {
   "cell_type": "code",
   "execution_count": 10,
   "id": "6cf63f1e",
   "metadata": {
    "colab": {
     "base_uri": "https://localhost:8080/",
     "height": 232
    },
    "id": "bd8AR2cBMo8S",
    "outputId": "9b6316f0-c2d1-41cb-cf0a-379b26bc08c5"
   },
   "outputs": [
    {
     "name": "stdout",
     "output_type": "stream",
     "text": [
      "9700\n"
     ]
    },
    {
     "data": {
      "text/html": [
       "<div>\n",
       "<style scoped>\n",
       "    .dataframe tbody tr th:only-of-type {\n",
       "        vertical-align: middle;\n",
       "    }\n",
       "\n",
       "    .dataframe tbody tr th {\n",
       "        vertical-align: top;\n",
       "    }\n",
       "\n",
       "    .dataframe thead th {\n",
       "        text-align: right;\n",
       "    }\n",
       "</style>\n",
       "<table border=\"1\" class=\"dataframe\">\n",
       "  <thead>\n",
       "    <tr style=\"text-align: right;\">\n",
       "      <th></th>\n",
       "      <th>P_2</th>\n",
       "      <th>P_1</th>\n",
       "      <th>P_0</th>\n",
       "    </tr>\n",
       "  </thead>\n",
       "  <tbody>\n",
       "    <tr>\n",
       "      <th>0</th>\n",
       "      <td>0.203116</td>\n",
       "      <td>0.107835</td>\n",
       "      <td>0.333448</td>\n",
       "    </tr>\n",
       "    <tr>\n",
       "      <th>1</th>\n",
       "      <td>0.100721</td>\n",
       "      <td>0.333448</td>\n",
       "      <td>0.221624</td>\n",
       "    </tr>\n",
       "    <tr>\n",
       "      <th>2</th>\n",
       "      <td>0.311451</td>\n",
       "      <td>0.221624</td>\n",
       "      <td>0.233278</td>\n",
       "    </tr>\n",
       "    <tr>\n",
       "      <th>3</th>\n",
       "      <td>0.207004</td>\n",
       "      <td>0.233278</td>\n",
       "      <td>0.020416</td>\n",
       "    </tr>\n",
       "    <tr>\n",
       "      <th>4</th>\n",
       "      <td>0.217889</td>\n",
       "      <td>0.020416</td>\n",
       "      <td>0.004953</td>\n",
       "    </tr>\n",
       "  </tbody>\n",
       "</table>\n",
       "</div>"
      ],
      "text/plain": [
       "        P_2       P_1       P_0\n",
       "0  0.203116  0.107835  0.333448\n",
       "1  0.100721  0.333448  0.221624\n",
       "2  0.311451  0.221624  0.233278\n",
       "3  0.207004  0.233278  0.020416\n",
       "4  0.217889  0.020416  0.004953"
      ]
     },
     "execution_count": 10,
     "metadata": {},
     "output_type": "execute_result"
    }
   ],
   "source": [
    "print(len(X))\n",
    "X.head()"
   ]
  },
  {
   "cell_type": "code",
   "execution_count": 11,
   "id": "0d95a9aa",
   "metadata": {},
   "outputs": [],
   "source": [
    "# Parameters\n",
    "seq = X.shape[1]\n",
    "\n",
    "# Reshaping X\n",
    "X = np.reshape(X.values,[-1,seq,1])"
   ]
  },
  {
   "cell_type": "markdown",
   "id": "c5b11320",
   "metadata": {
    "id": "8DhSQyIYkGvC"
   },
   "source": [
    "### Definição do modelo"
   ]
  },
  {
   "cell_type": "code",
   "execution_count": 12,
   "id": "a8d28180",
   "metadata": {
    "id": "pT1P88INGxVd"
   },
   "outputs": [
    {
     "name": "stdout",
     "output_type": "stream",
     "text": [
      "SEED: 6000\n"
     ]
    }
   ],
   "source": [
    "# Parâmetros\n",
    "INIT_LR = 0.001\n",
    "EPOCHS = 250\n",
    "BS = 64  # Diminua o tamanho dos lotes se você não tiver memória suficiente\n",
    "\n",
    "SEEDS = [1500, 4, 30, 6000, 400, 648, 900,10000, 2000, 5432]\n",
    "SEED=SEEDS[3]\n",
    "print(\"SEED: %s\" % SEED)\n",
    "\n",
    "n_input = X.shape[1]\n",
    "n_classes = 1\n",
    "\n",
    "n_LSTM=15\n",
    "n_dense = n_LSTM + 10\n"
   ]
  },
  {
   "cell_type": "code",
   "execution_count": 13,
   "id": "8a9ddc07",
   "metadata": {
    "colab": {
     "base_uri": "https://localhost:8080/"
    },
    "id": "GCciApYnGxVk",
    "outputId": "7fb66ce5-ec24-4300-c956-cf7ab2c83459"
   },
   "outputs": [
    {
     "name": "stderr",
     "output_type": "stream",
     "text": [
      "2022-02-23 14:06:13.175655: I tensorflow/core/platform/cpu_feature_guard.cc:151] This TensorFlow binary is optimized with oneAPI Deep Neural Network Library (oneDNN) to use the following CPU instructions in performance-critical operations:  AVX2 FMA\n",
      "To enable them in other operations, rebuild TensorFlow with the appropriate compiler flags.\n"
     ]
    },
    {
     "name": "stdout",
     "output_type": "stream",
     "text": [
      "Model: \"model\"\n",
      "_________________________________________________________________\n",
      " Layer (type)                Output Shape              Param #   \n",
      "=================================================================\n",
      " pluviometric_data (InputLay  [(None, 3, 1)]           0         \n",
      " er)                                                             \n",
      "                                                                 \n",
      " lstm_layer_pluviometric (LS  (None, 3, 15)            1020      \n",
      " TM)                                                             \n",
      "                                                                 \n",
      " lstm_layer_pluviometric_2 (  (None, 15)               1860      \n",
      " LSTM)                                                           \n",
      "                                                                 \n",
      " hidden_layer (Dense)        (None, 25)                400       \n",
      "                                                                 \n",
      " streamflow (Dense)          (None, 1)                 26        \n",
      "                                                                 \n",
      "=================================================================\n",
      "Total params: 3,306\n",
      "Trainable params: 3,306\n",
      "Non-trainable params: 0\n",
      "_________________________________________________________________\n"
     ]
    }
   ],
   "source": [
    "np.random.seed(SEED)\n",
    "tf.random.set_seed(SEED)\n",
    " \n",
    "# Defining model\n",
    "# Input Layer\n",
    "Pdata = Input(shape = (X.shape[1],X.shape[2]),dtype='float32', name='pluviometric_data')\n",
    "x = Pdata\n",
    "\n",
    "# LSTM Layers\n",
    "x = LSTM(n_LSTM, activation='relu',return_sequences=True,\n",
    "          name='lstm_layer_pluviometric')(x)\n",
    "x = LSTM(n_LSTM, activation='relu',\n",
    "          name='lstm_layer_pluviometric_2')(x)\n",
    "          \n",
    "# FFNN Layers (a.k.a Dense Layers)\n",
    "x = Dense(n_dense,activation ='relu',name=\"hidden_layer\")(x)\n",
    "\n",
    "# Output Layer\n",
    "y = Dense(1,activation ='linear',name='streamflow')(x)\n",
    "\n",
    "model = Model(inputs=[Pdata], outputs=[y])\n",
    "\n",
    "model.summary()"
   ]
  },
  {
   "cell_type": "code",
   "execution_count": 14,
   "id": "bcbfef05",
   "metadata": {},
   "outputs": [],
   "source": [
    "# Choosing the optmizer\n",
    "opt = RMSprop(learning_rate=INIT_LR)\n"
   ]
  },
  {
   "cell_type": "code",
   "execution_count": 15,
   "id": "d3eacc82",
   "metadata": {
    "id": "_mAMoeND6KyC"
   },
   "outputs": [],
   "source": [
    "metrics = NSE_K\n",
    "loss = RMSE_Keras"
   ]
  },
  {
   "cell_type": "code",
   "execution_count": 16,
   "id": "f69a6e94",
   "metadata": {
    "id": "ScMlV5dzXmN0"
   },
   "outputs": [],
   "source": [
    "relu = lambda x: max(x,0)"
   ]
  },
  {
   "cell_type": "code",
   "execution_count": 17,
   "id": "dd1ad00d",
   "metadata": {},
   "outputs": [],
   "source": [
    "if col == columns:\n",
    "    # New\n",
    "    model_dir = '../src/models/LSTM_ic/CrossValid_SEED_8369_NSE_0735'\n",
    "    model_code = '-ic_'\n",
    "    model_base_name = \"weights.NewLSTM%s%d.hdf5\"    \n",
    "else:\n",
    "    # Old\n",
    "    model_dir = '../src/models/LSTM_ic/CrossValid_SEED_RANDOM_NSE_?'\n",
    "    model_code = ''\n",
    "    model_base_name = 'weights.LSTM%s%d.hdf5'\n"
   ]
  },
  {
   "cell_type": "code",
   "execution_count": 18,
   "id": "f08aae17",
   "metadata": {
    "colab": {
     "base_uri": "https://localhost:8080/"
    },
    "id": "KqdznqLZGxVp",
    "outputId": "69fcaf11-8956-4767-d083-abfeffb2e8cc",
    "scrolled": false
   },
   "outputs": [
    {
     "name": "stdout",
     "output_type": "stream",
     "text": [
      "WARNING:tensorflow:5 out of the last 10 calls to <function Model.make_predict_function.<locals>.predict_function at 0x7fe3ed7c1d30> triggered tf.function retracing. Tracing is expensive and the excessive number of tracings could be due to (1) creating @tf.function repeatedly in a loop, (2) passing tensors with different shapes, (3) passing Python objects instead of tensors. For (1), please define your @tf.function outside of the loop. For (2), @tf.function has experimental_relax_shapes=True option that relaxes argument shapes that can avoid unnecessary retracing. For (3), please refer to https://www.tensorflow.org/guide/function#controlling_retracing and https://www.tensorflow.org/api_docs/python/tf/function for  more details.\n",
      "WARNING:tensorflow:6 out of the last 13 calls to <function Model.make_predict_function.<locals>.predict_function at 0x7fe3ee57d550> triggered tf.function retracing. Tracing is expensive and the excessive number of tracings could be due to (1) creating @tf.function repeatedly in a loop, (2) passing tensors with different shapes, (3) passing Python objects instead of tensors. For (1), please define your @tf.function outside of the loop. For (2), @tf.function has experimental_relax_shapes=True option that relaxes argument shapes that can avoid unnecessary retracing. For (3), please refer to https://www.tensorflow.org/guide/function#controlling_retracing and https://www.tensorflow.org/api_docs/python/tf/function for  more details.\n"
     ]
    },
    {
     "data": {
      "text/html": [
       "<div>\n",
       "<style scoped>\n",
       "    .dataframe tbody tr th:only-of-type {\n",
       "        vertical-align: middle;\n",
       "    }\n",
       "\n",
       "    .dataframe tbody tr th {\n",
       "        vertical-align: top;\n",
       "    }\n",
       "\n",
       "    .dataframe thead th {\n",
       "        text-align: right;\n",
       "    }\n",
       "</style>\n",
       "<table border=\"1\" class=\"dataframe\">\n",
       "  <thead>\n",
       "    <tr style=\"text-align: right;\">\n",
       "      <th></th>\n",
       "      <th>Bacia</th>\n",
       "      <th>Observacoes</th>\n",
       "      <th>NSE</th>\n",
       "      <th>Cor</th>\n",
       "      <th>RMSE</th>\n",
       "    </tr>\n",
       "  </thead>\n",
       "  <tbody>\n",
       "    <tr>\n",
       "      <th>0</th>\n",
       "      <td>34730000</td>\n",
       "      <td>95</td>\n",
       "      <td>0.100533</td>\n",
       "      <td>0.671475</td>\n",
       "      <td>3.141434</td>\n",
       "    </tr>\n",
       "    <tr>\n",
       "      <th>1</th>\n",
       "      <td>34740000</td>\n",
       "      <td>19</td>\n",
       "      <td>0.623726</td>\n",
       "      <td>0.889055</td>\n",
       "      <td>2.083121</td>\n",
       "    </tr>\n",
       "    <tr>\n",
       "      <th>2</th>\n",
       "      <td>34750000</td>\n",
       "      <td>103</td>\n",
       "      <td>0.751388</td>\n",
       "      <td>0.889615</td>\n",
       "      <td>28.253174</td>\n",
       "    </tr>\n",
       "    <tr>\n",
       "      <th>3</th>\n",
       "      <td>35050000</td>\n",
       "      <td>23</td>\n",
       "      <td>0.911937</td>\n",
       "      <td>0.961146</td>\n",
       "      <td>1.449685</td>\n",
       "    </tr>\n",
       "    <tr>\n",
       "      <th>4</th>\n",
       "      <td>35125000</td>\n",
       "      <td>66</td>\n",
       "      <td>0.890220</td>\n",
       "      <td>0.964627</td>\n",
       "      <td>7.396734</td>\n",
       "    </tr>\n",
       "    <tr>\n",
       "      <th>5</th>\n",
       "      <td>35170000</td>\n",
       "      <td>93</td>\n",
       "      <td>0.923450</td>\n",
       "      <td>0.963614</td>\n",
       "      <td>11.295690</td>\n",
       "    </tr>\n",
       "    <tr>\n",
       "      <th>6</th>\n",
       "      <td>35210000</td>\n",
       "      <td>116</td>\n",
       "      <td>0.942873</td>\n",
       "      <td>0.972643</td>\n",
       "      <td>4.817635</td>\n",
       "    </tr>\n",
       "    <tr>\n",
       "      <th>7</th>\n",
       "      <td>35223000</td>\n",
       "      <td>26</td>\n",
       "      <td>0.172218</td>\n",
       "      <td>0.741263</td>\n",
       "      <td>147.355185</td>\n",
       "    </tr>\n",
       "    <tr>\n",
       "      <th>8</th>\n",
       "      <td>35240000</td>\n",
       "      <td>85</td>\n",
       "      <td>0.496425</td>\n",
       "      <td>0.839183</td>\n",
       "      <td>22.319444</td>\n",
       "    </tr>\n",
       "    <tr>\n",
       "      <th>9</th>\n",
       "      <td>35260000</td>\n",
       "      <td>101</td>\n",
       "      <td>0.687026</td>\n",
       "      <td>0.951934</td>\n",
       "      <td>16.511169</td>\n",
       "    </tr>\n",
       "    <tr>\n",
       "      <th>10</th>\n",
       "      <td>35263000</td>\n",
       "      <td>58</td>\n",
       "      <td>0.816873</td>\n",
       "      <td>0.925854</td>\n",
       "      <td>2.062864</td>\n",
       "    </tr>\n",
       "    <tr>\n",
       "      <th>11</th>\n",
       "      <td>35668000</td>\n",
       "      <td>64</td>\n",
       "      <td>0.835222</td>\n",
       "      <td>0.923749</td>\n",
       "      <td>0.868356</td>\n",
       "    </tr>\n",
       "    <tr>\n",
       "      <th>12</th>\n",
       "      <td>35880000</td>\n",
       "      <td>58</td>\n",
       "      <td>0.122709</td>\n",
       "      <td>0.705915</td>\n",
       "      <td>9.909712</td>\n",
       "    </tr>\n",
       "    <tr>\n",
       "      <th>13</th>\n",
       "      <td>35950000</td>\n",
       "      <td>78</td>\n",
       "      <td>0.631356</td>\n",
       "      <td>0.809365</td>\n",
       "      <td>5.632149</td>\n",
       "    </tr>\n",
       "    <tr>\n",
       "      <th>14</th>\n",
       "      <td>36020000</td>\n",
       "      <td>153</td>\n",
       "      <td>0.641003</td>\n",
       "      <td>0.801879</td>\n",
       "      <td>17.059836</td>\n",
       "    </tr>\n",
       "    <tr>\n",
       "      <th>15</th>\n",
       "      <td>36125000</td>\n",
       "      <td>88</td>\n",
       "      <td>0.723596</td>\n",
       "      <td>0.922054</td>\n",
       "      <td>9.502328</td>\n",
       "    </tr>\n",
       "    <tr>\n",
       "      <th>16</th>\n",
       "      <td>36130000</td>\n",
       "      <td>61</td>\n",
       "      <td>0.857998</td>\n",
       "      <td>0.930233</td>\n",
       "      <td>9.477681</td>\n",
       "    </tr>\n",
       "    <tr>\n",
       "      <th>17</th>\n",
       "      <td>36160000</td>\n",
       "      <td>202</td>\n",
       "      <td>0.764209</td>\n",
       "      <td>0.899743</td>\n",
       "      <td>21.972839</td>\n",
       "    </tr>\n",
       "    <tr>\n",
       "      <th>18</th>\n",
       "      <td>36210000</td>\n",
       "      <td>87</td>\n",
       "      <td>0.728255</td>\n",
       "      <td>0.896706</td>\n",
       "      <td>4.370579</td>\n",
       "    </tr>\n",
       "    <tr>\n",
       "      <th>19</th>\n",
       "      <td>36250000</td>\n",
       "      <td>91</td>\n",
       "      <td>0.865778</td>\n",
       "      <td>0.950119</td>\n",
       "      <td>5.098376</td>\n",
       "    </tr>\n",
       "    <tr>\n",
       "      <th>20</th>\n",
       "      <td>36270000</td>\n",
       "      <td>35</td>\n",
       "      <td>0.196836</td>\n",
       "      <td>0.625930</td>\n",
       "      <td>25.548409</td>\n",
       "    </tr>\n",
       "    <tr>\n",
       "      <th>21</th>\n",
       "      <td>36290000</td>\n",
       "      <td>122</td>\n",
       "      <td>0.908423</td>\n",
       "      <td>0.957019</td>\n",
       "      <td>19.070684</td>\n",
       "    </tr>\n",
       "    <tr>\n",
       "      <th>22</th>\n",
       "      <td>36470000</td>\n",
       "      <td>55</td>\n",
       "      <td>0.789558</td>\n",
       "      <td>0.905294</td>\n",
       "      <td>8.607698</td>\n",
       "    </tr>\n",
       "    <tr>\n",
       "      <th>23</th>\n",
       "      <td>36520000</td>\n",
       "      <td>71</td>\n",
       "      <td>0.874922</td>\n",
       "      <td>0.938775</td>\n",
       "      <td>11.458967</td>\n",
       "    </tr>\n",
       "  </tbody>\n",
       "</table>\n",
       "</div>"
      ],
      "text/plain": [
       "       Bacia  Observacoes       NSE       Cor        RMSE\n",
       "0   34730000           95  0.100533  0.671475    3.141434\n",
       "1   34740000           19  0.623726  0.889055    2.083121\n",
       "2   34750000          103  0.751388  0.889615   28.253174\n",
       "3   35050000           23  0.911937  0.961146    1.449685\n",
       "4   35125000           66  0.890220  0.964627    7.396734\n",
       "5   35170000           93  0.923450  0.963614   11.295690\n",
       "6   35210000          116  0.942873  0.972643    4.817635\n",
       "7   35223000           26  0.172218  0.741263  147.355185\n",
       "8   35240000           85  0.496425  0.839183   22.319444\n",
       "9   35260000          101  0.687026  0.951934   16.511169\n",
       "10  35263000           58  0.816873  0.925854    2.062864\n",
       "11  35668000           64  0.835222  0.923749    0.868356\n",
       "12  35880000           58  0.122709  0.705915    9.909712\n",
       "13  35950000           78  0.631356  0.809365    5.632149\n",
       "14  36020000          153  0.641003  0.801879   17.059836\n",
       "15  36125000           88  0.723596  0.922054    9.502328\n",
       "16  36130000           61  0.857998  0.930233    9.477681\n",
       "17  36160000          202  0.764209  0.899743   21.972839\n",
       "18  36210000           87  0.728255  0.896706    4.370579\n",
       "19  36250000           91  0.865778  0.950119    5.098376\n",
       "20  36270000           35  0.196836  0.625930   25.548409\n",
       "21  36290000          122  0.908423  0.957019   19.070684\n",
       "22  36470000           55  0.789558  0.905294    8.607698\n",
       "23  36520000           71  0.874922  0.938775   11.458967"
      ]
     },
     "execution_count": 18,
     "metadata": {},
     "output_type": "execute_result"
    }
   ],
   "source": [
    "nome, n_obs,nse, cor, rmse = [], [], [], [], []\n",
    "\n",
    "for bacia in bacias:\n",
    "    idx = dados['Estações ANA'] == bacia\n",
    "\n",
    "    X_, y_ = X[idx], Y[idx]\n",
    "    X_teste, Y_teste = X_[int(0.8*len(X_)):], y_[int(0.8*len(y_)):]\n",
    "    X_treino, Y_treino = X_[:int(0.8*len(X_))], y_[:int(0.8*len(y_))]\n",
    "    \n",
    "    model.load_weights(os.path.join(model_dir,model_base_name % (model_code,bacia)))\n",
    "    model.compile(loss=[loss],optimizer = opt,\n",
    "                metrics=[metrics])\n",
    "\n",
    "\n",
    "    Y_ = model.predict(X_teste)\n",
    "\n",
    "    Y_Prev = np.vectorize(relu)(Y_)\n",
    "\n",
    "\n",
    "    Y_test = np.expand_dims(Y_teste,1)\n",
    "\n",
    "    k_ = np.mean(Y_test) / np.mean(Y_Prev)\n",
    "\n",
    "    nome.append(bacia)\n",
    "    cor.append(np.corrcoef(Y_Prev.T,Y_test.T)[1][0])\n",
    "    rmse.append(RMSE(Y_test,Y_Prev))\n",
    "    nse.append(NASH(Y_test,Y_Prev))\n",
    "    n_obs.append(len(Y_teste))\n",
    "\n",
    "\n",
    "pd.DataFrame({\"Bacia\":nome, \"Observacoes\":n_obs, \"NSE\":nse,\"Cor\": cor,\"RMSE\": rmse})"
   ]
  },
  {
   "cell_type": "markdown",
   "id": "aa3d4e15",
   "metadata": {},
   "source": [
    "### Performance dos modelos"
   ]
  },
  {
   "cell_type": "code",
   "execution_count": 19,
   "id": "26d57ef7",
   "metadata": {
    "id": "GhKHk5EqGxV5"
   },
   "outputs": [],
   "source": [
    "results = pd.DataFrame({\"Bacia\":nome, \"Observacoes\":n_obs, \"NSE\":nse,\"Cor\": cor,\"RMSE\": rmse})\n"
   ]
  },
  {
   "cell_type": "code",
   "execution_count": 20,
   "id": "c99b0d83",
   "metadata": {
    "id": "PpZtCFdcyFDe"
   },
   "outputs": [
    {
     "data": {
      "text/plain": [
       "0.6773556050161603"
      ]
     },
     "execution_count": 20,
     "metadata": {},
     "output_type": "execute_result"
    }
   ],
   "source": [
    "results[\"NSE\"].apply(relu).mean()#[results.Bacia != 36220000]\n"
   ]
  },
  {
   "cell_type": "code",
   "execution_count": 21,
   "id": "cf047cfa",
   "metadata": {
    "id": "56P1yXOrzFA8"
   },
   "outputs": [
    {
     "data": {
      "text/plain": [
       "0.6704918414323666"
      ]
     },
     "execution_count": 21,
     "metadata": {},
     "output_type": "execute_result"
    }
   ],
   "source": [
    "results[results[\"Bacia\"] != 35668000][\"NSE\"].apply(relu).mean()\n",
    "\n",
    "results.query(f\"\"\"Bacia not in {bacias_com_problema+[35668000]}\"\"\")[\"NSE\"].apply(relu).mean()"
   ]
  },
  {
   "cell_type": "code",
   "execution_count": 22,
   "id": "b9f1da20",
   "metadata": {
    "id": "05apPaNb0Oxv"
   },
   "outputs": [
    {
     "data": {
      "text/plain": [
       "0.7354918113847099"
      ]
     },
     "execution_count": 22,
     "metadata": {},
     "output_type": "execute_result"
    }
   ],
   "source": [
    "bacias_barros_2013 = (34750000, 35050000, 35125000, 35170000, 35210000,\n",
    "                      35260000, 35263000, 35880000, 35950000, 36020000,\n",
    "                      36125000, 36130000, 36160000, 36210000, 36250000,\n",
    "                      36270000, 36290000, 36520000)\n",
    "results_barros_2013 = results.query(f\"\"\"Bacia in {bacias_barros_2013}\n",
    "\"\"\")[\"NSE\"].apply(relu).values.mean()\n",
    "\n",
    "\n",
    "results_barros_2013"
   ]
  },
  {
   "cell_type": "code",
   "execution_count": 23,
   "id": "1177eed9",
   "metadata": {},
   "outputs": [
    {
     "data": {
      "text/plain": [
       "0.7905408758388437"
      ]
     },
     "execution_count": 23,
     "metadata": {},
     "output_type": "execute_result"
    }
   ],
   "source": [
    "results.query(f\"\"\"Bacia in {bacias_barros_2013}\"\"\")[\"NSE\"]\\\n",
    "       .apply(relu)\\\n",
    "       .median()"
   ]
  },
  {
   "cell_type": "code",
   "execution_count": 24,
   "id": "edd51a77",
   "metadata": {},
   "outputs": [],
   "source": [
    "results.to_csv(\"../Database/output/Results/ResultadosLSTM_ic.csv\",index=False)"
   ]
  },
  {
   "cell_type": "code",
   "execution_count": null,
   "id": "39347691",
   "metadata": {},
   "outputs": [],
   "source": []
  }
 ],
 "metadata": {
  "kernelspec": {
   "display_name": "Python 3 (ipykernel)",
   "language": "python",
   "name": "python3"
  },
  "language_info": {
   "codemirror_mode": {
    "name": "ipython",
    "version": 3
   },
   "file_extension": ".py",
   "mimetype": "text/x-python",
   "name": "python",
   "nbconvert_exporter": "python",
   "pygments_lexer": "ipython3",
   "version": "3.9.7"
  },
  "varInspector": {
   "cols": {
    "lenName": 16,
    "lenType": 16,
    "lenVar": 40
   },
   "kernels_config": {
    "python": {
     "delete_cmd_postfix": "",
     "delete_cmd_prefix": "del ",
     "library": "var_list.py",
     "varRefreshCmd": "print(var_dic_list())"
    },
    "r": {
     "delete_cmd_postfix": ") ",
     "delete_cmd_prefix": "rm(",
     "library": "var_list.r",
     "varRefreshCmd": "cat(var_dic_list()) "
    }
   },
   "types_to_exclude": [
    "module",
    "function",
    "builtin_function_or_method",
    "instance",
    "_Feature"
   ],
   "window_display": false
  }
 },
 "nbformat": 4,
 "nbformat_minor": 5
}

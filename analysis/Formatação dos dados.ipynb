{
 "cells": [
  {
   "cell_type": "markdown",
   "metadata": {},
   "source": [
    "# Formatação dos dados para Regionalização de Bacias usando Redes Neurais"
   ]
  },
  {
   "cell_type": "markdown",
   "metadata": {},
   "source": [
    "## Importing Packages"
   ]
  },
  {
   "cell_type": "code",
   "execution_count": 1,
   "metadata": {},
   "outputs": [],
   "source": [
    "import sys\n",
    "sys.path.append(\"..\")\n",
    "sys.path.append(\"../src\")\n",
    "sys.path.append(\"../database\")"
   ]
  },
  {
   "cell_type": "code",
   "execution_count": 2,
   "metadata": {},
   "outputs": [],
   "source": [
    "import pandas as pd\n",
    "import numpy as np\n",
    "#import tensorflow as tf\n",
    "import os"
   ]
  },
  {
   "cell_type": "code",
   "execution_count": 3,
   "metadata": {},
   "outputs": [],
   "source": [
    "pd.options.display.max_columns = 999\n",
    "\n",
    "import warnings\n",
    "\n",
    "warnings.filterwarnings('ignore')\n",
    "\n",
    "# # Plotting\n",
    "# import plotly\n",
    "# import plotly.graph_objs as go\n",
    "# # import plotly.io as pio\n",
    "# #import cufflinks as cf\n",
    "# plotly.offline.init_notebook_mode(connected=True)\n"
   ]
  },
  {
   "cell_type": "markdown",
   "metadata": {},
   "source": [
    "## Importing Data"
   ]
  },
  {
   "cell_type": "code",
   "execution_count": 4,
   "metadata": {},
   "outputs": [],
   "source": [
    "caracFisicas = pd.read_excel(\"../database/dados.xls\",sheet_name=\"Resultados\")\n",
    "caracFisicas = caracFisicas.drop([\"SAT\",\"PES\",\"Nash\",\"Nash Ver\"],axis=1)\n",
    "\n",
    "db = pd.ExcelFile(\"../database/dados.xls\")\n",
    "basins = db.sheet_names[6:]"
   ]
  },
  {
   "cell_type": "code",
   "execution_count": 5,
   "metadata": {},
   "outputs": [
    {
     "data": {
      "text/html": [
       "<div>\n",
       "<style scoped>\n",
       "    .dataframe tbody tr th:only-of-type {\n",
       "        vertical-align: middle;\n",
       "    }\n",
       "\n",
       "    .dataframe tbody tr th {\n",
       "        vertical-align: top;\n",
       "    }\n",
       "\n",
       "    .dataframe thead th {\n",
       "        text-align: right;\n",
       "    }\n",
       "</style>\n",
       "<table border=\"1\" class=\"dataframe\">\n",
       "  <thead>\n",
       "    <tr style=\"text-align: right;\">\n",
       "      <th></th>\n",
       "      <th>Estações ANA</th>\n",
       "      <th>Declividade - D (%)</th>\n",
       "      <th>Comprimento do rio principal - CT (km)</th>\n",
       "      <th>Área de contribuição da estação fluviométrica - A (km2)</th>\n",
       "      <th>Perímetro da área de contribuição da estação fluviométrica - P (km)</th>\n",
       "      <th>Comprimento total de drenagem - CTD (km)</th>\n",
       "      <th>Densidade de drenagem - DD (km-1)</th>\n",
       "      <th>Curve number médio – CN (mm)</th>\n",
       "      <th>Parcela da bacia no cristalino - Cr</th>\n",
       "    </tr>\n",
       "  </thead>\n",
       "  <tbody>\n",
       "    <tr>\n",
       "      <th>0</th>\n",
       "      <td>34730000</td>\n",
       "      <td>0.069435</td>\n",
       "      <td>64319.016213</td>\n",
       "      <td>897.371509</td>\n",
       "      <td>211.282396</td>\n",
       "      <td>528.790311</td>\n",
       "      <td>0.589266</td>\n",
       "      <td>56.773914</td>\n",
       "      <td>0.000000</td>\n",
       "    </tr>\n",
       "    <tr>\n",
       "      <th>1</th>\n",
       "      <td>34740000</td>\n",
       "      <td>0.064875</td>\n",
       "      <td>108123.318373</td>\n",
       "      <td>2221.988771</td>\n",
       "      <td>181.354250</td>\n",
       "      <td>356.001008</td>\n",
       "      <td>0.160217</td>\n",
       "      <td>59.941362</td>\n",
       "      <td>0.000014</td>\n",
       "    </tr>\n",
       "    <tr>\n",
       "      <th>2</th>\n",
       "      <td>34750000</td>\n",
       "      <td>0.056337</td>\n",
       "      <td>328854.100000</td>\n",
       "      <td>19185.920000</td>\n",
       "      <td>1256.998009</td>\n",
       "      <td>10051.126447</td>\n",
       "      <td>0.523880</td>\n",
       "      <td>73.945379</td>\n",
       "      <td>0.588056</td>\n",
       "    </tr>\n",
       "    <tr>\n",
       "      <th>3</th>\n",
       "      <td>35050000</td>\n",
       "      <td>0.092084</td>\n",
       "      <td>66700.567865</td>\n",
       "      <td>997.264362</td>\n",
       "      <td>218.297537</td>\n",
       "      <td>606.451358</td>\n",
       "      <td>0.608115</td>\n",
       "      <td>82.375460</td>\n",
       "      <td>0.534352</td>\n",
       "    </tr>\n",
       "    <tr>\n",
       "      <th>4</th>\n",
       "      <td>35125000</td>\n",
       "      <td>0.081096</td>\n",
       "      <td>96187.532702</td>\n",
       "      <td>1501.236654</td>\n",
       "      <td>261.225198</td>\n",
       "      <td>1501.190430</td>\n",
       "      <td>0.999969</td>\n",
       "      <td>84.314697</td>\n",
       "      <td>0.920865</td>\n",
       "    </tr>\n",
       "  </tbody>\n",
       "</table>\n",
       "</div>"
      ],
      "text/plain": [
       "   Estações ANA  Declividade - D (%)  Comprimento do rio principal - CT (km)  \\\n",
       "0      34730000             0.069435                            64319.016213   \n",
       "1      34740000             0.064875                           108123.318373   \n",
       "2      34750000             0.056337                           328854.100000   \n",
       "3      35050000             0.092084                            66700.567865   \n",
       "4      35125000             0.081096                            96187.532702   \n",
       "\n",
       "   Área de contribuição da estação fluviométrica - A (km2)  \\\n",
       "0                                         897.371509         \n",
       "1                                        2221.988771         \n",
       "2                                       19185.920000         \n",
       "3                                         997.264362         \n",
       "4                                        1501.236654         \n",
       "\n",
       "   Perímetro da área de contribuição da estação fluviométrica - P (km)  \\\n",
       "0                                         211.282396                     \n",
       "1                                         181.354250                     \n",
       "2                                        1256.998009                     \n",
       "3                                         218.297537                     \n",
       "4                                         261.225198                     \n",
       "\n",
       "   Comprimento total de drenagem - CTD (km)  \\\n",
       "0                                528.790311   \n",
       "1                                356.001008   \n",
       "2                              10051.126447   \n",
       "3                                606.451358   \n",
       "4                               1501.190430   \n",
       "\n",
       "   Densidade de drenagem - DD (km-1)  Curve number médio – CN (mm)  \\\n",
       "0                           0.589266                     56.773914   \n",
       "1                           0.160217                     59.941362   \n",
       "2                           0.523880                     73.945379   \n",
       "3                           0.608115                     82.375460   \n",
       "4                           0.999969                     84.314697   \n",
       "\n",
       "   Parcela da bacia no cristalino - Cr  \n",
       "0                             0.000000  \n",
       "1                             0.000014  \n",
       "2                             0.588056  \n",
       "3                             0.534352  \n",
       "4                             0.920865  "
      ]
     },
     "execution_count": 5,
     "metadata": {},
     "output_type": "execute_result"
    }
   ],
   "source": [
    "caracUtilizadas = caracFisicas.drop([\"Precipitação média - P (mm)\",\"Capacidade de armazenamento do solo CAD (mm)\",\n",
    "                                    \"Índice de compacidade da bacia - Kc\",],axis=1)\n",
    "caracUtilizadas.head()"
   ]
  },
  {
   "cell_type": "code",
   "execution_count": 6,
   "metadata": {},
   "outputs": [],
   "source": [
    "caracFFN1 = caracUtilizadas.drop('Estações ANA',axis=1).columns\n",
    "caracFFN2 = caracFFN1[[2,4,6,7]]\n",
    "caracFFN3 = caracFFN2"
   ]
  },
  {
   "cell_type": "markdown",
   "metadata": {},
   "source": [
    "## Formatting Data"
   ]
  },
  {
   "cell_type": "code",
   "execution_count": 7,
   "metadata": {},
   "outputs": [],
   "source": [
    "def ShiftAndConcat(df,col,n):\n",
    "    for i in range(n):\n",
    "        if i ==0:\n",
    "            temp = df[col]\n",
    "        else:\n",
    "            temp = pd.concat([temp,df[col].shift(-i)],axis=1)\n",
    "            \n",
    "    temp.columns = [col+\"_%d\" % (n-1-j) for j in range(n)]\n",
    "    return temp\n"
   ]
  },
  {
   "cell_type": "code",
   "execution_count": 8,
   "metadata": {},
   "outputs": [],
   "source": [
    "# PEQbasin = db.parse(basins[0])\n",
    "# PEQbasin = PEQbasin.set_index(\"Data\")\n",
    "# Q = ShiftAndConcat(PEQbasin,\"Q\",3)\n",
    "# P = ShiftAndConcat(PEQbasin,\"P\",3)\n",
    "# E = PEQbasin[\"E\"]\n",
    "# dfBasin = pd.concat([P,Q,E],axis=1)\n",
    "# colNames = dfBasin.columns\n",
    "# for col in colNames:\n",
    "#     dfBasin = dfBasin.query(\"%s != -999\" % col)\n",
    "# dfBasin.reset_index().drop(\"Data\",axis=1)\n",
    "# E = PEQbasin[\"E\"]\n",
    "# dfBasin = pd.concat([E,P,Q],axis=1)\n",
    "# colNames = dfBasin.columns\n",
    "# for col in colNames:\n",
    "#     dfBasin = dfBasin.query(\"%s != -999\" % col)\n",
    "# dfBasin.reset_index(drop=True)\n",
    "# caracBasin = caracUtilizadas[caracUtilizadas[\"Estações ANA\"] == int(basins[0])]\n",
    "# caracBasinMatrix = np.ones((dfBasin.shape[0],caracBasin.shape[1])) * caracBasin.values\n",
    "# caracBasinDf = pd.DataFrame(caracBasinMatrix,columns=caracBasin.columns)\n",
    "# dfFormatted = pd.concat([caracBasinDf,dfBasin.reset_index().drop(\"Data\",axis=1)],axis=1)\n",
    "# dfFormatted[\"Estações ANA\"] = dfFormatted[\"Estações ANA\"].astype(int).astype(str)"
   ]
  },
  {
   "cell_type": "code",
   "execution_count": 9,
   "metadata": {},
   "outputs": [],
   "source": [
    "for k in range(len(basins)):\n",
    "    PEQbasin = db.parse(basins[k])\n",
    "    PEQbasin = PEQbasin.set_index(\"Data\")\n",
    "    Q = ShiftAndConcat(PEQbasin,\"Q\",3)\n",
    "    P = ShiftAndConcat(PEQbasin,\"P\",3)\n",
    "    E = ShiftAndConcat(PEQbasin,\"E\",3)\n",
    "    dfBasin = pd.concat([E,P,Q],axis=1)\n",
    "    colNames = dfBasin.columns\n",
    "    for col in colNames:\n",
    "        dfBasin = dfBasin.query(\"%s != -999\" % col)\n",
    "    dfBasin\n",
    "    caracBasin = caracUtilizadas[caracUtilizadas[\"Estações ANA\"] == int(basins[k])]\n",
    "    caracBasinMatrix = np.ones((dfBasin.shape[0],caracBasin.shape[1])) * caracBasin.values\n",
    "    caracBasinDf = pd.DataFrame(caracBasinMatrix,columns=caracBasin.columns)\n",
    "    dfFormatted = pd.concat([caracBasinDf,dfBasin.reset_index().drop(\"Data\",axis=1)],axis=1)\n",
    "    if k == 0:\n",
    "        dfCompleted = dfFormatted\n",
    "    else:\n",
    "        dfCompleted = pd.concat([dfCompleted, dfFormatted], axis=0)\n",
    "dfCompleted = dfCompleted.loc[dfCompleted.Q_0.notnull()]"
   ]
  },
  {
   "cell_type": "code",
   "execution_count": null,
   "metadata": {},
   "outputs": [],
   "source": []
  },
  {
   "cell_type": "code",
   "execution_count": 10,
   "metadata": {},
   "outputs": [],
   "source": [
    "\n",
    "dfCompleted[\"Estações ANA\"] = dfCompleted[\"Estações ANA\"].astype(int).astype(str)"
   ]
  },
  {
   "cell_type": "code",
   "execution_count": 11,
   "metadata": {},
   "outputs": [],
   "source": [
    "caracDiffs = list(set(caracFFN1).difference(set(caracFFN2))) + [\"E_2\",\"E_1\"]\n",
    "caracDiffs2 = caracDiffs + [\"Q_2\",\"Q_1\"]"
   ]
  },
  {
   "cell_type": "code",
   "execution_count": 12,
   "metadata": {},
   "outputs": [],
   "source": [
    "dfCompleted = dfCompleted.reset_index(drop=True)#.drop(caracDiffs,axis=1)\n"
   ]
  },
  {
   "cell_type": "code",
   "execution_count": 13,
   "metadata": {},
   "outputs": [],
   "source": [
    "maxs = dfCompleted.iloc[:,1:-1].max().values\n",
    "mins = dfCompleted.iloc[:,1:-1].min().values"
   ]
  },
  {
   "cell_type": "code",
   "execution_count": 14,
   "metadata": {},
   "outputs": [],
   "source": [
    "dfCompletedNorm = dfCompleted.copy()\n",
    "dfCompletedNorm.iloc[:,1:-1] = dfCompleted.iloc[:,1:-1].apply(lambda x: (x-mins)/(maxs-mins),axis=1)\n"
   ]
  },
  {
   "cell_type": "markdown",
   "metadata": {},
   "source": [
    "## Saving Data"
   ]
  },
  {
   "cell_type": "code",
   "execution_count": 15,
   "metadata": {},
   "outputs": [],
   "source": [
    "dfCompletedNorm.to_csv(\"../database/DadosFFN1.csv\",index=False)\n",
    "dfCompletedNorm.drop(caracDiffs,axis=1).to_csv(\"../database/DadosFFN2.csv\",index=False)\n",
    "dfCompletedNorm.drop(caracDiffs2,axis=1).to_csv(\"../database/DadosFFN3.csv\",index=False)"
   ]
  }
 ],
 "metadata": {
  "kernelspec": {
   "display_name": "Python 3",
   "language": "python",
   "name": "python3"
  },
  "language_info": {
   "codemirror_mode": {
    "name": "ipython",
    "version": 3
   },
   "file_extension": ".py",
   "mimetype": "text/x-python",
   "name": "python",
   "nbconvert_exporter": "python",
   "pygments_lexer": "ipython3",
   "version": "3.6.10"
  },
  "varInspector": {
   "cols": {
    "lenName": 16,
    "lenType": 16,
    "lenVar": 40
   },
   "kernels_config": {
    "python": {
     "delete_cmd_postfix": "",
     "delete_cmd_prefix": "del ",
     "library": "var_list.py",
     "varRefreshCmd": "print(var_dic_list())"
    },
    "r": {
     "delete_cmd_postfix": ") ",
     "delete_cmd_prefix": "rm(",
     "library": "var_list.r",
     "varRefreshCmd": "cat(var_dic_list()) "
    }
   },
   "types_to_exclude": [
    "module",
    "function",
    "builtin_function_or_method",
    "instance",
    "_Feature"
   ],
   "window_display": false
  }
 },
 "nbformat": 4,
 "nbformat_minor": 4
}
